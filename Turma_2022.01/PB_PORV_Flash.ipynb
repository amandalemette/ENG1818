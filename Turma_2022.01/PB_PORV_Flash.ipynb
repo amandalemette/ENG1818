{
  "cells": [
    {
      "cell_type": "markdown",
      "metadata": {
        "id": "jG-lgplPw3Tl"
      },
      "source": [
        "# Importação de bibliotecas"
      ]
    },
    {
      "cell_type": "code",
      "execution_count": null,
      "metadata": {
        "ExecuteTime": {
          "end_time": "2021-04-14T18:25:33.601962Z",
          "start_time": "2021-04-14T18:25:32.950568Z"
        },
        "id": "Sab1F_Khw3To"
      },
      "outputs": [],
      "source": [
        "import numpy as np\n",
        "import pandas as pd \n",
        "import matplotlib.pyplot as plt\n",
        "from scipy.optimize import fsolve\n",
        "%matplotlib inline"
      ]
    },
    {
      "cell_type": "code",
      "execution_count": null,
      "metadata": {
        "ExecuteTime": {
          "end_time": "2021-04-14T18:25:34.191890Z",
          "start_time": "2021-04-14T18:25:34.188936Z"
        },
        "id": "OVe5TEi9w3Tq"
      },
      "outputs": [],
      "source": [
        "ft = 16\n",
        "plt.rcParams.update({'font.size':ft})"
      ]
    },
    {
      "cell_type": "code",
      "source": [
        "class Species(object):\n",
        "  \n",
        "  def __init__(self, name='no name',antoine = pd.read_csv('https://raw.githubusercontent.com/amandalemette/images/main/ENG1818/Antoine.csv')):\n",
        "    self.name = name\n",
        "    self.antoine = antoine\n",
        "  \n",
        "  def antoine():\n",
        "    return pd.read_csv('Antoine.csv')\n",
        "\n",
        "  def params(self):\n",
        "    idx = self.antoine[self.antoine['compoundname']== self.name].index[0]\n",
        "    A = self.antoine.loc[idx]['A']\n",
        "    B = self.antoine.loc[idx]['B']\n",
        "    C = self.antoine.loc[idx]['C']\n",
        "    Tmin = self.antoine.loc[idx]['Tmin']\n",
        "    Tmax = self.antoine.loc[idx]['Tmax']\n",
        "    return [A,B,C,Tmin,Tmax]\n",
        "\n",
        "  def Psat(self,params,T):\n",
        "    return 10**(params[0]-params[1]/(T+params[2]))\n",
        "\n",
        "  def Tsat(self,params,P):\n",
        "    return params[1]/(params[0]-np.log10(P))-params[2]"
      ],
      "metadata": {
        "id": "rkwl20cpyZfV"
      },
      "execution_count": null,
      "outputs": []
    },
    {
      "cell_type": "markdown",
      "source": [
        "# Trabalhando com a base Antoine"
      ],
      "metadata": {
        "id": "0BjKwT7Q7xWY"
      }
    },
    {
      "cell_type": "code",
      "source": [
        "tol = Species('toluene')\n",
        "benz = Species('benzene')"
      ],
      "metadata": {
        "id": "QUnBCqF68HwH"
      },
      "execution_count": null,
      "outputs": []
    },
    {
      "cell_type": "code",
      "source": [
        "df = tol.antoine\n",
        "df.head()"
      ],
      "metadata": {
        "colab": {
          "base_uri": "https://localhost:8080/",
          "height": 204
        },
        "id": "RTvgBH-4YNy-",
        "outputId": "fa560af4-4388-4732-ebb6-ade18e736c1c"
      },
      "execution_count": null,
      "outputs": [
        {
          "output_type": "execute_result",
          "data": {
            "text/html": [
              "\n",
              "  <div id=\"df-29148689-d391-475d-b73c-f96f152c6ced\">\n",
              "    <div class=\"colab-df-container\">\n",
              "      <div>\n",
              "<style scoped>\n",
              "    .dataframe tbody tr th:only-of-type {\n",
              "        vertical-align: middle;\n",
              "    }\n",
              "\n",
              "    .dataframe tbody tr th {\n",
              "        vertical-align: top;\n",
              "    }\n",
              "\n",
              "    .dataframe thead th {\n",
              "        text-align: right;\n",
              "    }\n",
              "</style>\n",
              "<table border=\"1\" class=\"dataframe\">\n",
              "  <thead>\n",
              "    <tr style=\"text-align: right;\">\n",
              "      <th></th>\n",
              "      <th>ID</th>\n",
              "      <th>formula</th>\n",
              "      <th>compoundname</th>\n",
              "      <th>A</th>\n",
              "      <th>B</th>\n",
              "      <th>C</th>\n",
              "      <th>Tmin</th>\n",
              "      <th>Tmax</th>\n",
              "    </tr>\n",
              "  </thead>\n",
              "  <tbody>\n",
              "    <tr>\n",
              "      <th>0</th>\n",
              "      <td>1</td>\n",
              "      <td>CCL4</td>\n",
              "      <td>carbon-tetrachloride</td>\n",
              "      <td>6.89410</td>\n",
              "      <td>1219.580</td>\n",
              "      <td>227.170</td>\n",
              "      <td>-20</td>\n",
              "      <td>101.0</td>\n",
              "    </tr>\n",
              "    <tr>\n",
              "      <th>1</th>\n",
              "      <td>2</td>\n",
              "      <td>CCL3F</td>\n",
              "      <td>trichlorofluoromethane</td>\n",
              "      <td>6.88430</td>\n",
              "      <td>1043.010</td>\n",
              "      <td>236.860</td>\n",
              "      <td>-33</td>\n",
              "      <td>27.0</td>\n",
              "    </tr>\n",
              "    <tr>\n",
              "      <th>2</th>\n",
              "      <td>3</td>\n",
              "      <td>CCL2F2</td>\n",
              "      <td>dichlorodifluoromethane</td>\n",
              "      <td>6.68619</td>\n",
              "      <td>782.072</td>\n",
              "      <td>235.377</td>\n",
              "      <td>-119</td>\n",
              "      <td>-30.0</td>\n",
              "    </tr>\n",
              "    <tr>\n",
              "      <th>3</th>\n",
              "      <td>4</td>\n",
              "      <td>CCLF3</td>\n",
              "      <td>chlorotrifluoromethane</td>\n",
              "      <td>6.35109</td>\n",
              "      <td>522.061</td>\n",
              "      <td>231.677</td>\n",
              "      <td>-150</td>\n",
              "      <td>-81.0</td>\n",
              "    </tr>\n",
              "    <tr>\n",
              "      <th>4</th>\n",
              "      <td>5</td>\n",
              "      <td>CF4</td>\n",
              "      <td>carbon-tetrafluoride</td>\n",
              "      <td>6.97230</td>\n",
              "      <td>540.500</td>\n",
              "      <td>260.100</td>\n",
              "      <td>-180</td>\n",
              "      <td>-125.0</td>\n",
              "    </tr>\n",
              "  </tbody>\n",
              "</table>\n",
              "</div>\n",
              "      <button class=\"colab-df-convert\" onclick=\"convertToInteractive('df-29148689-d391-475d-b73c-f96f152c6ced')\"\n",
              "              title=\"Convert this dataframe to an interactive table.\"\n",
              "              style=\"display:none;\">\n",
              "        \n",
              "  <svg xmlns=\"http://www.w3.org/2000/svg\" height=\"24px\"viewBox=\"0 0 24 24\"\n",
              "       width=\"24px\">\n",
              "    <path d=\"M0 0h24v24H0V0z\" fill=\"none\"/>\n",
              "    <path d=\"M18.56 5.44l.94 2.06.94-2.06 2.06-.94-2.06-.94-.94-2.06-.94 2.06-2.06.94zm-11 1L8.5 8.5l.94-2.06 2.06-.94-2.06-.94L8.5 2.5l-.94 2.06-2.06.94zm10 10l.94 2.06.94-2.06 2.06-.94-2.06-.94-.94-2.06-.94 2.06-2.06.94z\"/><path d=\"M17.41 7.96l-1.37-1.37c-.4-.4-.92-.59-1.43-.59-.52 0-1.04.2-1.43.59L10.3 9.45l-7.72 7.72c-.78.78-.78 2.05 0 2.83L4 21.41c.39.39.9.59 1.41.59.51 0 1.02-.2 1.41-.59l7.78-7.78 2.81-2.81c.8-.78.8-2.07 0-2.86zM5.41 20L4 18.59l7.72-7.72 1.47 1.35L5.41 20z\"/>\n",
              "  </svg>\n",
              "      </button>\n",
              "      \n",
              "  <style>\n",
              "    .colab-df-container {\n",
              "      display:flex;\n",
              "      flex-wrap:wrap;\n",
              "      gap: 12px;\n",
              "    }\n",
              "\n",
              "    .colab-df-convert {\n",
              "      background-color: #E8F0FE;\n",
              "      border: none;\n",
              "      border-radius: 50%;\n",
              "      cursor: pointer;\n",
              "      display: none;\n",
              "      fill: #1967D2;\n",
              "      height: 32px;\n",
              "      padding: 0 0 0 0;\n",
              "      width: 32px;\n",
              "    }\n",
              "\n",
              "    .colab-df-convert:hover {\n",
              "      background-color: #E2EBFA;\n",
              "      box-shadow: 0px 1px 2px rgba(60, 64, 67, 0.3), 0px 1px 3px 1px rgba(60, 64, 67, 0.15);\n",
              "      fill: #174EA6;\n",
              "    }\n",
              "\n",
              "    [theme=dark] .colab-df-convert {\n",
              "      background-color: #3B4455;\n",
              "      fill: #D2E3FC;\n",
              "    }\n",
              "\n",
              "    [theme=dark] .colab-df-convert:hover {\n",
              "      background-color: #434B5C;\n",
              "      box-shadow: 0px 1px 3px 1px rgba(0, 0, 0, 0.15);\n",
              "      filter: drop-shadow(0px 1px 2px rgba(0, 0, 0, 0.3));\n",
              "      fill: #FFFFFF;\n",
              "    }\n",
              "  </style>\n",
              "\n",
              "      <script>\n",
              "        const buttonEl =\n",
              "          document.querySelector('#df-29148689-d391-475d-b73c-f96f152c6ced button.colab-df-convert');\n",
              "        buttonEl.style.display =\n",
              "          google.colab.kernel.accessAllowed ? 'block' : 'none';\n",
              "\n",
              "        async function convertToInteractive(key) {\n",
              "          const element = document.querySelector('#df-29148689-d391-475d-b73c-f96f152c6ced');\n",
              "          const dataTable =\n",
              "            await google.colab.kernel.invokeFunction('convertToInteractive',\n",
              "                                                     [key], {});\n",
              "          if (!dataTable) return;\n",
              "\n",
              "          const docLinkHtml = 'Like what you see? Visit the ' +\n",
              "            '<a target=\"_blank\" href=https://colab.research.google.com/notebooks/data_table.ipynb>data table notebook</a>'\n",
              "            + ' to learn more about interactive tables.';\n",
              "          element.innerHTML = '';\n",
              "          dataTable['output_type'] = 'display_data';\n",
              "          await google.colab.output.renderOutput(dataTable, element);\n",
              "          const docLink = document.createElement('div');\n",
              "          docLink.innerHTML = docLinkHtml;\n",
              "          element.appendChild(docLink);\n",
              "        }\n",
              "      </script>\n",
              "    </div>\n",
              "  </div>\n",
              "  "
            ],
            "text/plain": [
              "   ID formula             compoundname        A         B        C  Tmin   Tmax\n",
              "0   1    CCL4     carbon-tetrachloride  6.89410  1219.580  227.170   -20  101.0\n",
              "1   2   CCL3F   trichlorofluoromethane  6.88430  1043.010  236.860   -33   27.0\n",
              "2   3  CCL2F2  dichlorodifluoromethane  6.68619   782.072  235.377  -119  -30.0\n",
              "3   4   CCLF3   chlorotrifluoromethane  6.35109   522.061  231.677  -150  -81.0\n",
              "4   5     CF4     carbon-tetrafluoride  6.97230   540.500  260.100  -180 -125.0"
            ]
          },
          "metadata": {},
          "execution_count": 14
        }
      ]
    },
    {
      "cell_type": "code",
      "source": [
        "par = tol.params()\n",
        "par"
      ],
      "metadata": {
        "colab": {
          "base_uri": "https://localhost:8080/"
        },
        "id": "rVYQS3QIYpN8",
        "outputId": "8b0b12c5-64ae-4301-e3a2-5a53432e985a"
      },
      "execution_count": null,
      "outputs": [
        {
          "output_type": "execute_result",
          "data": {
            "text/plain": [
              "[6.95464, 1344.8, 219.482, 6, 136.0]"
            ]
          },
          "metadata": {},
          "execution_count": 16
        }
      ]
    },
    {
      "cell_type": "code",
      "source": [
        "Trange = np.linspace(par[-2],par[-1])"
      ],
      "metadata": {
        "id": "FuCyVuVe8iyO"
      },
      "execution_count": null,
      "outputs": []
    },
    {
      "cell_type": "code",
      "source": [
        "plt.plot(Trange,tol.Psat(par,Trange))\n",
        "plt.show()"
      ],
      "metadata": {
        "id": "0HQjaCpk8oWh"
      },
      "execution_count": null,
      "outputs": []
    },
    {
      "cell_type": "markdown",
      "source": [
        "# FLASH"
      ],
      "metadata": {
        "id": "pq9mMyWU84Cb"
      }
    },
    {
      "cell_type": "markdown",
      "source": [
        "<center><img src=\"https://github.com/amandalemette/images/blob/3ac80597bd92bd844326667905be8218e2436fb2/ENG1818/fig3.png?raw=true\"  width=400 height=380 />"
      ],
      "metadata": {
        "id": "CatswQLSyzgA"
      }
    },
    {
      "cell_type": "markdown",
      "source": [
        "**Flash isotérmico:**\n",
        "\n",
        "<center><img src=\"https://github.com/amandalemette/images/blob/8947ebeb727e84d3634203fa81e5bdcfbd630a00/ENG1818/fig4.png?raw=true\"  width=850 height=450 />"
      ],
      "metadata": {
        "id": "yJSzqY-3zFo4"
      }
    },
    {
      "cell_type": "markdown",
      "source": [
        "<center><img src=\"https://github.com/amandalemette/images/blob/5cf64e9ad5cc59188766c9044b46d3736b0e46c7/ENG1818/fig5.png?raw=true\"  width=600 height=300 />"
      ],
      "metadata": {
        "id": "fkCvhV4lzb4c"
      }
    },
    {
      "cell_type": "markdown",
      "source": [
        "Para simularmos a operação de um flash em estado estacionário, lidamos com os seguintes cenários:\n",
        "\n",
        "Problema | $z_i$ | T | P | $\\frac{V}{F}$ | Ação\n",
        "-------------------|------------------|------------------|------------------|------------------|------------------\n",
        "Ponto de bolha | ✔ | 😰 | ✔ | 0 | Setar $x_i = z_i$. Resolver para $T$ e $y_i$\n",
        "Ponto de bolha | ✔ | ✔  | 😰| 0 | Setar $x_i = z_i$. Resolver para $P$ e $y_i$\n",
        "Ponto de orvalho | ✔ | 😰 | ✔ | 1 | Setar $y_i = z_i$. Resolver para $T$ e $x_i$\n",
        "Ponto de orvalho | ✔ | ✔ | 😰| 1 | Setar $y_i = z_i$. Resolver para $P$ e $x_i$\n",
        "Flash isotérmico | ✔ | ✔ |✔| 😰 | Resolver para $\\frac{V}{F}$, $x_i$ e $y_i$"
      ],
      "metadata": {
        "id": "HBak3VAk23YL"
      }
    },
    {
      "cell_type": "markdown",
      "source": [
        "*Na resolução dos problemas dessa aula, vamos assumir SEMPRE comportamento de gás e líquido ideais.*"
      ],
      "metadata": {
        "id": "eIt-kExD0m-7"
      }
    },
    {
      "cell_type": "markdown",
      "source": [
        "# Problema 1: FLASH isotérmico de uma mistura binária"
      ],
      "metadata": {
        "id": "TWXmK1lrz8oR"
      }
    },
    {
      "cell_type": "markdown",
      "source": [
        "Uma corrente de alimentação F de vazão $0,1$ kmol/h é dividida em uma corrente de vapor V e uma corrente de líquido L em um tanque de flash. São alimentados $50$ mol% benzeno e 50 mol% de tolueno. No tanque, T = $95 \\ ^0C$ e P = $760$ mmHg. O tanque contém um trocador de calor que mantém a temperatura constante e uma válvula na corrente gasosa de produto de modo a manter constante a pressão no tanque. Calcule as composições vapor e líquido nas correntes de produto, assim como as correntes V e L. \n"
      ],
      "metadata": {
        "id": "d_bT56t2zy2n"
      }
    },
    {
      "cell_type": "markdown",
      "source": [
        "Metodologia a ser implementada:"
      ],
      "metadata": {
        "id": "Kq9DdnpG0dv6"
      }
    },
    {
      "cell_type": "markdown",
      "source": [
        "<center><img src=\"https://github.com/amandalemette/images/blob/66d2f6f45489276d48372ffbfd3775bc759e92f4/ENG1818/fig6.png?raw=true\"  width=350 height=300 />"
      ],
      "metadata": {
        "id": "YRn-jNpB0D8P"
      }
    },
    {
      "cell_type": "code",
      "source": [
        ""
      ],
      "metadata": {
        "id": "j1xZrtVA0hC5"
      },
      "execution_count": null,
      "outputs": []
    },
    {
      "cell_type": "markdown",
      "source": [
        "# Problema 2: FLASH isotérmico multicomponente"
      ],
      "metadata": {
        "id": "lF_608Ew0y6l"
      }
    },
    {
      "cell_type": "markdown",
      "source": [
        "Uma corrente de alimentação F de vazão 400,0 mol/h é dividida em uma corrente de vapor V e uma corrente de líquido L em um tanque de flash. \n",
        "São alimentados 10 mol% n-hexano, 20 mol% ciclo-hexano e 70 mol% de n-heptano. \n",
        "No tanque, T = 116 ℃ e P = 2 atm. \n",
        "O tanque contém um trocador de calor que mantém a temperatura constante e uma válvula na corrente gasosa de produto de modo a manter constante a pressão no tanque. \n",
        "Calcule as composições vapor e líquido nas correntes de produto, assim como as correntes V e L.\n"
      ],
      "metadata": {
        "id": "BVQiTEzB02l_"
      }
    },
    {
      "cell_type": "code",
      "source": [
        "df[df['compoundname'] == 'hexane']"
      ],
      "metadata": {
        "id": "PgGk7zTG9EPs"
      },
      "execution_count": null,
      "outputs": []
    },
    {
      "cell_type": "code",
      "source": [
        "df[df['compoundname'].str.contains('hexane')]"
      ],
      "metadata": {
        "id": "hz4BFq7G9NCM"
      },
      "execution_count": null,
      "outputs": []
    },
    {
      "cell_type": "code",
      "source": [
        "df[df['compoundname'].str.contains('heptane')]"
      ],
      "metadata": {
        "id": "kw0biHjC9ctY"
      },
      "execution_count": null,
      "outputs": []
    },
    {
      "cell_type": "code",
      "source": [
        ""
      ],
      "metadata": {
        "id": "JRYz40rQ9iBG"
      },
      "execution_count": null,
      "outputs": []
    },
    {
      "cell_type": "code",
      "source": [
        ""
      ],
      "metadata": {
        "id": "xe7G4AqD9hwA"
      },
      "execution_count": null,
      "outputs": []
    }
  ],
  "metadata": {
    "kernelspec": {
      "display_name": "Python 3",
      "language": "python",
      "name": "python3"
    },
    "language_info": {
      "codemirror_mode": {
        "name": "ipython",
        "version": 3
      },
      "file_extension": ".py",
      "mimetype": "text/x-python",
      "name": "python",
      "nbconvert_exporter": "python",
      "pygments_lexer": "ipython3",
      "version": "3.7.6"
    },
    "toc": {
      "base_numbering": 1,
      "nav_menu": {},
      "number_sections": true,
      "sideBar": true,
      "skip_h1_title": false,
      "title_cell": "Table of Contents",
      "title_sidebar": "Contents",
      "toc_cell": false,
      "toc_position": {
        "height": "calc(100% - 180px)",
        "left": "10px",
        "top": "150px",
        "width": "251px"
      },
      "toc_section_display": true,
      "toc_window_display": true
    },
    "colab": {
      "name": "PB_PORV_Flash.ipynb",
      "provenance": [],
      "toc_visible": true,
      "collapsed_sections": []
    }
  },
  "nbformat": 4,
  "nbformat_minor": 0
}