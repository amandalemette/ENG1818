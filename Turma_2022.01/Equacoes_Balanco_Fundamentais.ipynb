{
  "nbformat": 4,
  "nbformat_minor": 0,
  "metadata": {
    "colab": {
      "name": "Equacoes_Balanco_Fundamentais.ipynb",
      "provenance": [],
      "collapsed_sections": [],
      "toc_visible": true
    },
    "kernelspec": {
      "name": "python3",
      "display_name": "Python 3"
    },
    "language_info": {
      "name": "python"
    }
  },
  "cells": [
    {
      "cell_type": "markdown",
      "source": [
        "# Importação de bibliotecas"
      ],
      "metadata": {
        "id": "rMPSRTmQpnt9"
      }
    },
    {
      "cell_type": "code",
      "source": [
        "import numpy as np\n",
        "import matplotlib.pyplot as plt\n",
        "import pandas as pd "
      ],
      "metadata": {
        "id": "xFlh0hIbpqaw"
      },
      "execution_count": null,
      "outputs": []
    },
    {
      "cell_type": "markdown",
      "source": [
        "# Especificações para gráficos\n"
      ],
      "metadata": {
        "id": "gBGNP8N5om43"
      }
    },
    {
      "cell_type": "code",
      "source": [
        "ft = 16\n",
        "plt.rcParams.update({'font.size':ft})"
      ],
      "metadata": {
        "id": "Wzren-ZspgrU"
      },
      "execution_count": null,
      "outputs": []
    },
    {
      "cell_type": "markdown",
      "source": [
        "# Estudo de caso 1: Mistura em estado estacionário de um tanque de armazenamento de resíduos "
      ],
      "metadata": {
        "id": "O_KbLpjor_Yy"
      }
    },
    {
      "cell_type": "markdown",
      "source": [
        "Uma corrente que vem de uma estação de tratamento de águas residuais com vazão volumétrica de $1.0 \\ m^3/s$ e que possui concentração de $5.0 \\ mg/L$ de fósforo se combina com uma segunda corrente de vazão $25 \\ m^3/s$ que contém $0.010 \\ mg/L$ de fósforo. As duas correntes são encaminhadas para um grande tanque de armazenamento de resíduos. Determine a concentração resultante de fósforo (em $mg/L$) na corrente de saída desse tanque. "
      ],
      "metadata": {
        "id": "AEFZMqWWs5B9"
      }
    },
    {
      "cell_type": "markdown",
      "source": [
        "<center><img src=\"https://github.com/amandalemette/images/blob/5a68bfaa5062701d09064d131a64794424d5c49f/ENG1818/fig1.png?raw=true\"  width=400 height=380 />"
      ],
      "metadata": {
        "id": "AU6nHnajsfD6"
      }
    },
    {
      "cell_type": "markdown",
      "source": [
        "$$\n",
        "\\frac{dm}{dt} = \\dot{m}_{in} - \\dot{m}_{out}\n",
        "$$"
      ],
      "metadata": {
        "id": "2sBEF_QfuIYs"
      }
    },
    {
      "cell_type": "markdown",
      "source": [
        "$$\n",
        "\\frac{dm}{dt} = C_{in}F_{in} - C_{out}F_{out}\n",
        "$$"
      ],
      "metadata": {
        "id": "U5X1___zvcMr"
      }
    },
    {
      "cell_type": "markdown",
      "source": [
        "$$\n",
        "\\frac{dm}{dt} = 0 = C_{in}F_{in} - C_{out}F_{out} \\ (Estado\\ estacionário)\n",
        "$$"
      ],
      "metadata": {
        "id": "lA49nFlrvxeg"
      }
    },
    {
      "cell_type": "markdown",
      "source": [
        "Considerando densidade $\\rho$ constante:"
      ],
      "metadata": {
        "id": "ma4L_NQZv4VH"
      }
    },
    {
      "cell_type": "markdown",
      "source": [
        "$$\n",
        "F_{in} = F_1 + F_2 = F_{out}\n",
        "$$"
      ],
      "metadata": {
        "id": "aGDkf9G8v7I9"
      }
    },
    {
      "cell_type": "markdown",
      "source": [
        "Vamos terminar a resolução?"
      ],
      "metadata": {
        "id": "zcBjkkdDwGSN"
      }
    },
    {
      "cell_type": "code",
      "source": [
        ""
      ],
      "metadata": {
        "id": "PpzYKpKBseVv"
      },
      "execution_count": null,
      "outputs": []
    },
    {
      "cell_type": "markdown",
      "source": [
        "# Estudo de caso 2: CSTR em estado estacionário"
      ],
      "metadata": {
        "id": "dfudRblowlVy"
      }
    },
    {
      "cell_type": "markdown",
      "source": [
        "Uma reação de recuperação de resíduo é processada em estado estacionário dentro de um reator do tipo CSTR tem cinética de primeira ordem que tem sua taxa reacional expressa por:\n",
        "$$\n",
        "r = kC\n",
        "$$\n",
        "onde $k = 0.216 \\ {dia}^{-1}$. O volume do reator é de $500 \\ m^3$. A vazão da corrente de entrada é a mesma da corrente de saída e é de $50 \\ m^3/dia$. A corrente de entrada possui concentração de resíduo de $100 \\ g/m^3$. Determine a concentração de resíduo na saída do reator considerando estado estacionário. "
      ],
      "metadata": {
        "id": "KYjn1crwxABb"
      }
    },
    {
      "cell_type": "markdown",
      "source": [
        "<center><img src=\"https://github.com/amandalemette/images/blob/7c1ee446f65f93f73b0016712e937ae0bae8c56a/ENG1818/fig2.png?raw=true\"  width=300 height=380 />"
      ],
      "metadata": {
        "id": "7sWMGPpMwohu"
      }
    },
    {
      "cell_type": "markdown",
      "source": [
        "$$\n",
        "\\frac{dm}{dt} = \\dot{m}_{in} - \\dot{m}_{out}\n",
        "$$"
      ],
      "metadata": {
        "id": "xLA9KasbyBdH"
      }
    },
    {
      "cell_type": "markdown",
      "source": [
        "Balanço por componente em termos de concentração molar:\n",
        "\n",
        "$$\n",
        "\\frac{dn}{dt} = C_{in}F - CF - kCV = 0\n",
        "$$"
      ],
      "metadata": {
        "id": "Z1yr0Z0fyDI8"
      }
    },
    {
      "cell_type": "markdown",
      "source": [
        "Termine a resolução."
      ],
      "metadata": {
        "id": "z14Hp2ULyWcJ"
      }
    },
    {
      "cell_type": "code",
      "source": [
        ""
      ],
      "metadata": {
        "id": "MBP0DQAEyZzx"
      },
      "execution_count": null,
      "outputs": []
    },
    {
      "cell_type": "markdown",
      "source": [
        "# Estudo de caso 3: Aquecimento de um tanque de água"
      ],
      "metadata": {
        "id": "nXe1nMEVyjEm"
      }
    },
    {
      "cell_type": "markdown",
      "source": [
        "Um aquecedor de água elétrico de capacidade de $50 \\ L$ é usado para aquecer água de torneira. O aquecedor utiliza $5 \\ kW$ de eletricidade. Para um banho quente, uma pessoa precisa esperar até que o aquecedor aqueça a água no tanque. Determine o tempo necessário de espera para a temperatura da água no tanque alcançar $55 \\ ^0C$ se a temperatura inicial for the $20 \\ ^0C$ (observe que nenhuma água foi removida do tanque uma vez que o aquecedor foi ligado)."
      ],
      "metadata": {
        "id": "eeJIqqnwyo39"
      }
    },
    {
      "cell_type": "markdown",
      "source": [
        "O aquecedor recebe uma única fonte de energia que é energia elétrica. Pelo balanço de energia, temos:"
      ],
      "metadata": {
        "id": "msiIYXW9M4Xw"
      }
    },
    {
      "cell_type": "markdown",
      "source": [
        "$$\n",
        "\\frac{d(\\rho V C_p (T-T_{ref}))}{dt} = Q\n",
        "$$"
      ],
      "metadata": {
        "id": "rIh9nzhBNQlr"
      }
    },
    {
      "cell_type": "markdown",
      "source": [
        "Assumindo densidade e capacidade calorífica constantes:"
      ],
      "metadata": {
        "id": "HtBhfQP1NkZH"
      }
    },
    {
      "cell_type": "markdown",
      "source": [
        "$$\n",
        "\\frac{dT}{dt} = \\frac{Q}{\\rho V C_p}\n",
        "$$"
      ],
      "metadata": {
        "id": "JUNXZdC3NrNJ"
      }
    },
    {
      "cell_type": "markdown",
      "source": [
        "A EDO acima pode ser resolvida analiticamente. Resolva de ambas as formas: \n",
        "- via solução analítica\n",
        "- via solução numérica"
      ],
      "metadata": {
        "id": "1D7GjKV8OZYc"
      }
    },
    {
      "cell_type": "markdown",
      "source": [
        "Variável  | Valor | Unidade\n",
        "-------------------|------------------|------------------\n",
        "$T_{initial}$       | 20 | $^0C$\n",
        "$T_{end}$       | 55 | $^0C$\n",
        "$C_p$ | 4184 | $\\frac{J}{kg \\ ^0C}$\n",
        "$\\rho$ | 1 | $\\frac{kg}{L}$\n",
        "$V$ | 50 | $L$\n",
        "$Q$ | 5000 | $\\frac{J}{s}$\n"
      ],
      "metadata": {
        "id": "yyLWRPBQOjgJ"
      }
    },
    {
      "cell_type": "code",
      "source": [
        ""
      ],
      "metadata": {
        "id": "wRIgOEUtQHJb"
      },
      "execution_count": null,
      "outputs": []
    },
    {
      "cell_type": "markdown",
      "source": [
        "# Estudo de caso 4: Nível de tanque cilíndrico "
      ],
      "metadata": {
        "id": "dZiyIOMOuHA0"
      }
    },
    {
      "cell_type": "markdown",
      "source": [
        "Um tanque cilíndrico está inicialmente cheio de água pela metade. Uma corrente de água é alimentada na parte de cima do tanque e uma corrente de saída é removida do tanque pela sua base. As vazões volumétricas de entrada e de saída são diferentes. A EDO que descreve o nível de água no tanque é:\n",
        "\n",
        "$$\n",
        "\\frac{dh}{dt} = 6 - 8\\sqrt{h}\n",
        "$$\n",
        "\n",
        "onde $h$ mede o nível da água em metros. Calcule a altura da água no tanque assumindo estado estacionário. "
      ],
      "metadata": {
        "id": "sX6gSGe5vYqC"
      }
    },
    {
      "cell_type": "code",
      "source": [
        ""
      ],
      "metadata": {
        "id": "geT1TlQ5wAwO"
      },
      "execution_count": null,
      "outputs": []
    },
    {
      "cell_type": "markdown",
      "source": [
        "# Referências\n",
        "\n",
        "\n",
        "\n",
        "1.   Ghasem, Nayef. Modeling and Simulation of Chemical Process Systems. CRC Press, Taylor & Francis Group, 2019.\n",
        "\n",
        "<center><img src=\"https://github.com/amandalemette/images/blob/4b5bc671e60c4a94d6de9fdd486bdc90daecd516/ENG1818/ref1.png?raw=true\"  width=100 height=160 />\n",
        "\n",
        "\n"
      ],
      "metadata": {
        "id": "E6LU1ySapzI0"
      }
    },
    {
      "cell_type": "code",
      "source": [
        ""
      ],
      "metadata": {
        "id": "w6oiKIXzrgeu"
      },
      "execution_count": null,
      "outputs": []
    }
  ]
}