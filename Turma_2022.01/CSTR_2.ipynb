{
  "cells": [
    {
      "cell_type": "markdown",
      "metadata": {
        "id": "Xho7CEfnnVCP"
      },
      "source": [
        "# Modelo de reator CSTR exotérmico"
      ]
    },
    {
      "cell_type": "markdown",
      "source": [
        "## Apresentação\n",
        "\n",
        "Nesse notebook, o problema apresentado é um CSTR exotérmico. Esse exemplo ilustra que o reator CSTR pode ter comportamento dinâmico não linear. Com ele, simulamos o efeito de uma mudança gradual na temperatura do fluido refrigerante $T_c$ nas direções positiva e negativa. \n",
        "\n",
        "As variáveis de estados (as variáveis que integramos) são a concentração de A ($C_A$) e a temperatura do reator $T$. A variável manipulada é a temperatura da água da camisa $T_c$."
      ],
      "metadata": {
        "id": "jDPhKFRFrvr_"
      }
    },
    {
      "cell_type": "markdown",
      "source": [
        "## Problema Proposto"
      ],
      "metadata": {
        "id": "SB5jlUV4rxLi"
      }
    },
    {
      "cell_type": "markdown",
      "metadata": {
        "id": "AtCZ9nZlnVCU"
      },
      "source": [
        "Esse problema é o Exemplo 2.5 do livro do autor Seborg. No presente problema, temos um reator do tipo CSTR não isotérmico. Na imagem a seguir, vemos a ilustração desse reator. "
      ]
    },
    {
      "cell_type": "markdown",
      "metadata": {
        "id": "8vfEI2CYnVCU"
      },
      "source": [
        "<center><img src=\"https://github.com/amandalemette/ENG1818/blob/5c05cba96e599eb97a649f673a3a9d88e844d104/Imagens/im11.png?raw=true\"  width=400 height=320 />"
      ]
    },
    {
      "cell_type": "markdown",
      "metadata": {
        "id": "UtYktSnmnVCV"
      },
      "source": [
        "Assumimos que a cinética é dominada por uma única reação de primeira ordem e irreversível\n",
        "\n",
        "$$\n",
        "A \\ \\xrightarrow{{k_{C_A}}} \\ B\n",
        "$$\n",
        "\n",
        "A taxa de reação por unidade de volume é modelada como sendo o produto $k\\cdot C_A$ onde $C_A$ é a concentração de A. A constante reacional $k(T)$ aumenta com a temperatura seguindo a lei de Arrhenius:\n",
        "\n",
        "$$\n",
        "k(t) = k_0e^{-\\frac{Ea}{RT}}\n",
        "$$\n",
        "\n",
        "- $Ea$: energia de ativação\n",
        "- $T$: temperatura\n",
        "- $R$: constante dos gases ideais\n",
        "- $k_0$: fator pré-exponencial"
      ]
    },
    {
      "cell_type": "markdown",
      "metadata": {
        "id": "Z3OOLqtGnVCW"
      },
      "source": [
        "| | Variable | &nbsp; &nbsp; &nbsp; &nbsp; Symbol &nbsp; &nbsp; &nbsp; &nbsp;  |&nbsp; &nbsp; Value &nbsp; &nbsp; | &nbsp; &nbsp; Units &nbsp; &nbsp;|\n",
        "|---:| :-: | :-: | :-: | :-: |\n",
        "|1| Energia ativ./Cte gases | $\\frac{Ea}{R}$ | 8750| $K$|\n",
        "|2| Fator pré-exponencial | $k_0$ | $7.2\\cdot 10^{10}$ | $\\frac{1}{min}$|\n",
        "|3| Volume do reator | $V$ | $100$ | $L$|\n",
        "|4| Densidade | $\\rho$ | $1000$ | $g/L$|\n",
        "|5| Capacidade calorífica | $C_p$ | $0.239$ | $J/g/K$|\n",
        "|6| Entalpia de reação | $\\Delta H_R$ | $-50000$ | $J/mol$|\n",
        "|7| Vazão de alimentação| $q$ | $100$ | $L/min$|\n",
        "|8| Concentração de alimentação | $C_{Ai}$ | $1.0$ | $mol/L$|\n",
        "|9| Temperatura de alimentação | $T_i$ | $350$ | $K$|\n",
        "|10| Concentração inicial | $C_{A0}$ | $0.5$ | $mol/L$|\n",
        "|11| Temperatura inicial | $T_0$ | $350$ | $K$|\n",
        "|12| Temperatura de resfriamento | $T_c$ | $300$ | $K$|\n",
        "|13| Coeficiente de troca de calor * área de troca térmica | $UA$ | $50000$ | $J/min/K$|\n",
        "\n",
        "obs: $U$ é o coeficiente global de troca térmica e $A$ é a área de troca térmica e ambos são considerados constantes. "
      ]
    },
    {
      "cell_type": "markdown",
      "metadata": {
        "id": "9n8L4eHrnVCX"
      },
      "source": [
        "- Modelo:"
      ]
    },
    {
      "cell_type": "markdown",
      "metadata": {
        "id": "3JjCQ1oYnVCX"
      },
      "source": [
        "$$\n",
        "V\\frac{dC_A}{dt} = q(C_{Ai}-C_A) - VkC_A\n",
        "$$\n",
        "\n",
        "$$\n",
        "V\\rho C_p\\frac{dT}{dt} = wC_p(T_i - T) + (-\\Delta H_R)VkC_A + UA(T_c-T)\n",
        "$$"
      ]
    },
    {
      "cell_type": "markdown",
      "metadata": {
        "id": "DgPUs6mxnVCX"
      },
      "source": [
        "Normalizando as equações para isolarmos $C_A$ e $T$, temos:"
      ]
    },
    {
      "cell_type": "markdown",
      "metadata": {
        "id": "74skOnR4nVCY"
      },
      "source": [
        "$$\n",
        "\\frac{dC_A}{dt} = \\frac{q}{V}(C_{Ai}-C_A) - kC_A\n",
        "$$\n",
        "\n",
        "$$\n",
        "\\frac{dT}{dt} = \\frac{w}{V\\rho}(T_i - T) + \\frac{(-\\Delta H_R)}{\\rho C_p}kC_A + \\frac{UA}{V\\rho C_p}(T_c-T)\n",
        "$$"
      ]
    },
    {
      "cell_type": "markdown",
      "metadata": {
        "id": "vfHQKq32nVCY"
      },
      "source": [
        "Substituindo $w/\\rho$ por $q$, temos:"
      ]
    },
    {
      "cell_type": "markdown",
      "metadata": {
        "id": "HCVE6uGcnVCZ"
      },
      "source": [
        "$$\n",
        "\\frac{dC_A}{dt} = \\frac{q}{V}(C_{Ai}-C_A) - kC_A\n",
        "$$\n",
        "\n",
        "$$\n",
        "\\frac{dT}{dt} = \\frac{q}{V}(T_i - T) + \\frac{(-\\Delta H_R)}{\\rho C_p}kC_A + \\frac{UA}{V\\rho C_p}(T_c-T)\n",
        "$$"
      ]
    },
    {
      "cell_type": "markdown",
      "metadata": {
        "id": "zEaevv66nVCZ"
      },
      "source": [
        "## Atividades:"
      ]
    },
    {
      "cell_type": "markdown",
      "metadata": {
        "id": "lItaELI2nVCZ"
      },
      "source": [
        "### Atividade 1"
      ]
    },
    {
      "cell_type": "markdown",
      "metadata": {
        "id": "vwPwnJxTnVCa"
      },
      "source": [
        "Faça um gráfico da constante reacional $k(T)$ em função da temperatura em $^oC$. Salve o gráfico em uma figura de resolução 600 dpi. "
      ]
    },
    {
      "cell_type": "code",
      "execution_count": null,
      "metadata": {
        "id": "EpTAz8uNnVCa"
      },
      "outputs": [],
      "source": [
        ""
      ]
    },
    {
      "cell_type": "code",
      "execution_count": null,
      "metadata": {
        "id": "5HGVbNtYnVCb"
      },
      "outputs": [],
      "source": [
        ""
      ]
    },
    {
      "cell_type": "markdown",
      "metadata": {
        "id": "YrmHTxM0nVCc"
      },
      "source": [
        "### Atividade 2"
      ]
    },
    {
      "cell_type": "markdown",
      "metadata": {
        "id": "RQBtDlg9nVCc"
      },
      "source": [
        "Implemente o modelo de CSTR exotérmico e simule o mesmo considerando as considerando condições iniciais e os parâmetros mostrados na tabela.\n",
        "\n",
        "Gere dois plots:\n",
        "\n",
        "1. concentração de $A$ em função do tempo de reação em $min$. \n",
        "2. temperatura do reator (em $^oC$) em função do tempo de reação em $min$.\n"
      ]
    },
    {
      "cell_type": "code",
      "execution_count": null,
      "metadata": {
        "id": "uFBnNcG7nVCd"
      },
      "outputs": [],
      "source": [
        ""
      ]
    },
    {
      "cell_type": "code",
      "execution_count": null,
      "metadata": {
        "id": "6PptlXGwnVCd"
      },
      "outputs": [],
      "source": [
        ""
      ]
    },
    {
      "cell_type": "markdown",
      "metadata": {
        "id": "WG8DWyswnVCd"
      },
      "source": [
        "### Atividade 3"
      ]
    },
    {
      "cell_type": "markdown",
      "metadata": {
        "id": "Dj2q__R8nVCe"
      },
      "source": [
        "Na simulação anterior, você considerou que a temperatura do líquido resfriante era $300 K$. Refaça as simulações, considerando $T_c$ igual a:\n",
        "\n",
        "- $T_c = 290 K$\n",
        "\n",
        "e, depois, \n",
        "\n",
        "- $T_c = 305 K$\n",
        "\n",
        "Gere 2 gráficos:\n",
        "\n",
        "- **Gráfico 1:** Concentração de $A$ em função do tempo com 3 séries ($C_A$ simulada com cada valor de $T_c$ testado: 290, 300 e 305 K)\n",
        "- **Gráfico 2:** Temperatura do reator ($^oC$) em função do tempo com 3 séries ($T$ simulada com cada valor de $T_c$ testado: 290, 300 e 305 K)\n",
        "\n",
        "Analise os gráficos. "
      ]
    },
    {
      "cell_type": "code",
      "execution_count": null,
      "metadata": {
        "id": "AOSpW1G1nVCe"
      },
      "outputs": [],
      "source": [
        ""
      ]
    },
    {
      "cell_type": "code",
      "execution_count": null,
      "metadata": {
        "id": "SvpNgGGlnVCf"
      },
      "outputs": [],
      "source": [
        ""
      ]
    },
    {
      "cell_type": "markdown",
      "source": [
        "## Discussão"
      ],
      "metadata": {
        "id": "Edsf0GO4wCGf"
      }
    },
    {
      "cell_type": "markdown",
      "source": [
        "A uma temperatura da camisa de $305$ $K$, o modelo do reator tem uma resposta oscilatória. As oscilações são caracterizadas pelo aparente descontrole da reação com um pico de temperatura. \n",
        "\n",
        "No entanto, quando a concentração cai para um valor baixo, o reator esfria até que a concentração aumente, então há outro aumento de temperatura. \n",
        "\n",
        "Não é incomum que reatores químicos exibam comportamentos tão diferentes para diferentes mudanças direcionais nas condições de operação.\n",
        "\n",
        "Veja se foram esses cenários que você observou na sua simulação. "
      ],
      "metadata": {
        "id": "WblPm31iv3F9"
      }
    },
    {
      "cell_type": "markdown",
      "source": [
        "## Referências\n",
        "\n",
        "- Fogler, Scott. Elementos de Engenharia das Reações Químicas. LTC, 4a Edição, 2009.\n",
        "<center><img src=\"https://github.com/amandalemette/ENG1818/blob/601183f3155bf66274ffa37137c158cc0ac5d975/Imagens/im10.png?raw=true\"  width=100 height=160 />\n",
        "\n",
        "- Seborg, Edgar, Mellichamp, Doyle. Process Dynamics and Control. John Wiley & Sons, Inc., 3rd Edition, 2011.\n",
        "<center><img src=\"https://github.com/amandalemette/ENG1818/blob/78e5c648d72e43bd37e12997312be0925fc05518/Imagens/im12.png?raw=true\"  width=100 height=160 />\n"
      ],
      "metadata": {
        "id": "x8-bojshrf-R"
      }
    },
    {
      "cell_type": "code",
      "source": [
        ""
      ],
      "metadata": {
        "id": "kgPzYP5rwvVw"
      },
      "execution_count": null,
      "outputs": []
    }
  ],
  "metadata": {
    "kernelspec": {
      "display_name": "Python 3",
      "language": "python",
      "name": "python3"
    },
    "language_info": {
      "codemirror_mode": {
        "name": "ipython",
        "version": 3
      },
      "file_extension": ".py",
      "mimetype": "text/x-python",
      "name": "python",
      "nbconvert_exporter": "python",
      "pygments_lexer": "ipython3",
      "version": "3.7.6"
    },
    "toc": {
      "base_numbering": 1,
      "nav_menu": {},
      "number_sections": true,
      "sideBar": true,
      "skip_h1_title": false,
      "title_cell": "Table of Contents",
      "title_sidebar": "Contents",
      "toc_cell": false,
      "toc_position": {},
      "toc_section_display": true,
      "toc_window_display": true
    },
    "colab": {
      "name": "CSTR_2.ipynb",
      "provenance": [],
      "collapsed_sections": [],
      "toc_visible": true
    }
  },
  "nbformat": 4,
  "nbformat_minor": 0
}