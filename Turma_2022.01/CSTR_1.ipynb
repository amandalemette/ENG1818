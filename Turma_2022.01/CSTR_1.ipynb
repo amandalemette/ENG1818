{
  "cells": [
    {
      "cell_type": "markdown",
      "source": [
        "# Simulação de reator ideal do tipo CSTR"
      ],
      "metadata": {
        "id": "7swBOky2UP2M"
      }
    },
    {
      "cell_type": "markdown",
      "source": [
        "## Apresentação"
      ],
      "metadata": {
        "id": "AgOJMvU6Ug7B"
      }
    },
    {
      "cell_type": "markdown",
      "source": [
        "Nesse notebook, é apresentado um problema teórico sobre uma única reação conduzida em um reator ideal do tipo CSTR (*Continuous Stirred Tank Reactor*). Esse é um reator de mistura perfeita, para saber mais, acesse o [link](https://drive.google.com/file/d/1sm8x-gI4alsn2ZWKorbDylMfZ76UaRmx/view?usp=sharing). O objetivo da aula é com que o aluno consiga fazer a implementação desse problema em linguagem Python. "
      ],
      "metadata": {
        "id": "Se0eX9VfUpK_"
      }
    },
    {
      "cell_type": "markdown",
      "metadata": {
        "id": "eSuRt2aGOTjU"
      },
      "source": [
        "## Problema proposto"
      ]
    },
    {
      "cell_type": "markdown",
      "source": [
        "Vamos simular 10 h de operação do reator ideal do tipo CSTR que processa a reação seguinte:"
      ],
      "metadata": {
        "id": "CsFVnUw-OgAh"
      }
    },
    {
      "cell_type": "markdown",
      "metadata": {
        "id": "ubI97dVLOTjV"
      },
      "source": [
        "$$\n",
        "A \\longrightarrow B\n",
        "$$"
      ]
    },
    {
      "cell_type": "markdown",
      "source": [
        "Vamos considerar:\n",
        "- reação isotérmica (temperatura constante) \n",
        "- vazao de entrada igual à de saída e de valor $0.1$ $m^3/h$\n",
        "- volume de mistura constante e igual a $0.1$ $m^3$\n",
        "- temperatura de operação do reator e de reação $70^\\circ C$\n",
        "- somente o composto A é alimentado com concentração $C_{Af}$ que é a mesma concentração inicial de A no reator $C_{A0}$ (tempo zero s)\n",
        "- o reator no tempo zero s só possui componente A\n",
        "- a constante reacional $k$ se comporta segundo à Eq. de Arrhenius:\n",
        "$$\n",
        "k = k_0 \\cdot e^{-\\frac{Ea}{R\\cdot T}}\n",
        "$$\n",
        "- a taxa de reação é de primeira ordem:\n",
        "$$\n",
        "r = k\\cdot C_A\n",
        "$$\n",
        "\n"
      ],
      "metadata": {
        "id": "DDy3xBNAOmU6"
      }
    },
    {
      "cell_type": "markdown",
      "source": [
        "Sistema de EDO correspondente e que deve ser implementado:\n",
        "\n",
        "$$\n",
        "\\frac{dC_A}{dt} = q \\frac{\\left(C_{Af} - C_A\\right)}{V} - r\n",
        "$$\n",
        "\n",
        "\n",
        "$$\n",
        "\\frac{dC_B}{dt} = q \\frac{\\left(C_{Bf} - C_B\\right)}{V} + r\n",
        "$$"
      ],
      "metadata": {
        "id": "TkWu8ZUiRhta"
      }
    },
    {
      "cell_type": "markdown",
      "source": [
        "A tabela a seguir apresenta os parâmetros que devem ser considerados na resolução do problema. \n",
        "\n",
        "| Variáveis | Valor   | Unidade |\n",
        "| :-------- | :-------- |:--------\n",
        "| $k_0$| $9703$ | $h^{-1}$\n",
        "| $Ea$ | $11843$| $\\frac{kcal}{kgmol}$\n",
        "| $R$ | $1.987$ | $\\frac{kcal}{kgmol\\cdot K}$\n",
        "| $T$ | $70 + 273.15$ | $K$\n",
        "| $C_{Af}$| $10$ | $\\frac{kgmol}{m^3}$ \n",
        "| $C_{Bf}$| $0$ | $\\frac{kgmol}{m^3}$ \n",
        "| $t_0$| $0$ | $h$ \n",
        "| $t_f$| $10$ | $h$ \n"
      ],
      "metadata": {
        "id": "snujVz9iS6tB"
      }
    },
    {
      "cell_type": "markdown",
      "source": [
        "## Exercícios\n",
        "\n",
        "- Simule a reação em CSTR apresentada e plote os gráficos:\n",
        "  - $C_A$ versus $t_{reação}$\n",
        "  - $C_B$ versus $t_{reação}$ (pode ser como 2a série no plot anterior)\n",
        "  - Conversão versus $t_{reação}$\n",
        "  - $k$ versus ${T}$ (faça um *range* de temperatura e para cada valor, calcule o $k$ correspondente)"
      ],
      "metadata": {
        "id": "iMM35thCTGki"
      }
    },
    {
      "cell_type": "markdown",
      "source": [
        "## Sugestão:"
      ],
      "metadata": {
        "id": "D_jyROiHUWDP"
      }
    },
    {
      "cell_type": "markdown",
      "source": [
        "Na resolução, você pode usar uma das duas bibliotecas a seguir: "
      ],
      "metadata": {
        "id": "bkxYu4AsRaWb"
      }
    },
    {
      "cell_type": "markdown",
      "metadata": {
        "id": "VP7tgq-fOTjT"
      },
      "source": [
        "- [scipy.integrate.ode manual](https://docs.scipy.org/doc/scipy/reference/generated/scipy.integrate.ode.html)\n",
        "\n",
        "- [scipy.integrate.odeint manual](https://docs.scipy.org/doc/scipy/reference/generated/scipy.integrate.odeint.html)"
      ]
    },
    {
      "cell_type": "markdown",
      "source": [
        "Veja os exemplos disponíveis no manual das bibliotecas, rode os exemplos e depois tente adaptar para o presente caso. "
      ],
      "metadata": {
        "id": "ZIeVD90pUZcr"
      }
    },
    {
      "cell_type": "code",
      "execution_count": null,
      "metadata": {
        "id": "VifSugf9OTjp"
      },
      "outputs": [],
      "source": [
        ""
      ]
    },
    {
      "cell_type": "code",
      "source": [
        ""
      ],
      "metadata": {
        "id": "NTdbjb_2mHIL"
      },
      "execution_count": null,
      "outputs": []
    },
    {
      "cell_type": "code",
      "source": [
        ""
      ],
      "metadata": {
        "id": "4ss7I3WUmG1_"
      },
      "execution_count": null,
      "outputs": []
    },
    {
      "cell_type": "markdown",
      "source": [
        "## Referências\n",
        "\n",
        "- Fogler, Scott. Elementos de Engenharia das Reações Químicas. LTC, 4a Edição, 2009.\n",
        "<center><img src=\"https://github.com/amandalemette/ENG1818/blob/601183f3155bf66274ffa37137c158cc0ac5d975/Imagens/im10.png?raw=true\"  width=100 height=160 />\n"
      ],
      "metadata": {
        "id": "VNsFVnEPmHhX"
      }
    },
    {
      "cell_type": "code",
      "source": [
        ""
      ],
      "metadata": {
        "id": "B75lsfBwm8o0"
      },
      "execution_count": null,
      "outputs": []
    }
  ],
  "metadata": {
    "kernelspec": {
      "display_name": "Python 3",
      "language": "python",
      "name": "python3"
    },
    "language_info": {
      "codemirror_mode": {
        "name": "ipython",
        "version": 3
      },
      "file_extension": ".py",
      "mimetype": "text/x-python",
      "name": "python",
      "nbconvert_exporter": "python",
      "pygments_lexer": "ipython3",
      "version": "3.7.6"
    },
    "toc": {
      "base_numbering": 1,
      "nav_menu": {},
      "number_sections": true,
      "sideBar": true,
      "skip_h1_title": false,
      "title_cell": "Table of Contents",
      "title_sidebar": "Contents",
      "toc_cell": false,
      "toc_position": {
        "height": "calc(100% - 180px)",
        "left": "10px",
        "top": "150px",
        "width": "188px"
      },
      "toc_section_display": true,
      "toc_window_display": true
    },
    "colab": {
      "name": "CSTR_1.ipynb",
      "provenance": [],
      "toc_visible": true
    }
  },
  "nbformat": 4,
  "nbformat_minor": 0
}