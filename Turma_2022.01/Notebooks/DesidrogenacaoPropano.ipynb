{
  "nbformat": 4,
  "nbformat_minor": 0,
  "metadata": {
    "colab": {
      "name": "DesidrogenacaoPropano.ipynb",
      "provenance": [],
      "collapsed_sections": [],
      "toc_visible": true
    },
    "kernelspec": {
      "name": "python3",
      "display_name": "Python 3"
    },
    "language_info": {
      "name": "python"
    }
  },
  "cells": [
    {
      "cell_type": "markdown",
      "source": [
        "# Desidrogenação do Propano"
      ],
      "metadata": {
        "id": "F9WNUgXlI5NV"
      }
    },
    {
      "cell_type": "markdown",
      "source": [
        "(Exemplo 4.7-2 de Felder, et al.)\n",
        "\n",
        "O propano pode ser desidrogenado para formar propileno em um reator catalítico:\n",
        "\n",
        "$$C_3H_8 \\longrightarrow C_3H_6 + H_2$$\n",
        "\n",
        "Um processo deve ser projetado para uma conversão geral de 95% de propano. Os produtos da reação são separados em duas correntes: a primeira, que contém H2, C3H6 e 0,555% do propano que sai do reator, é retirada como produto; \n",
        "\n",
        "A segunda corrente, contém o equilíbrio do propano e propileno não reagido em uma quantidade igual a 5% daquela na primeira corrente, é reciclada para o reator. \n",
        "\n",
        "Calcule a composição do produto, a razão (moles reciclados)/(mole de alimentação fresca) e a conversão de passagem única."
      ],
      "metadata": {
        "id": "ThpFeC9uJCCz"
      }
    },
    {
      "cell_type": "markdown",
      "source": [
        "<center><img src=\"https://github.com/amandalemette/ENG1818/blob/1471b4ab58f972d84086159c1217b6a60f0363d2/Imagens/ex47-2.png?raw=true\"  width=2000 height=400 />"
      ],
      "metadata": {
        "id": "tCkZLLF5KKv3"
      }
    },
    {
      "cell_type": "markdown",
      "source": [
        "## Modelo do Processo"
      ],
      "metadata": {
        "id": "s4dLjo6SJbEg"
      }
    },
    {
      "cell_type": "code",
      "source": [
        ""
      ],
      "metadata": {
        "id": "MasegquezUKM"
      },
      "execution_count": null,
      "outputs": []
    },
    {
      "cell_type": "markdown",
      "source": [
        "<center><img src=\"https://github.com/amandalemette/ENG1818/blob/1471b4ab58f972d84086159c1217b6a60f0363d2/Imagens/ex47-2.png?raw=true\"  width=800 height=240 />"
      ],
      "metadata": {
        "id": "0fSwnVtHKsLi"
      }
    },
    {
      "cell_type": "code",
      "source": [
        ""
      ],
      "metadata": {
        "id": "NL_tiPUmzVkx"
      },
      "execution_count": null,
      "outputs": []
    },
    {
      "cell_type": "markdown",
      "source": [
        "### Composição do Produto"
      ],
      "metadata": {
        "id": "GXX1WxIbLF7z"
      }
    },
    {
      "cell_type": "code",
      "source": [
        ""
      ],
      "metadata": {
        "id": "sSq8kAZAzWfd"
      },
      "execution_count": null,
      "outputs": []
    },
    {
      "cell_type": "markdown",
      "source": [
        "### Razão de Reciclo"
      ],
      "metadata": {
        "id": "vTf94n6bLNgm"
      }
    },
    {
      "cell_type": "code",
      "source": [
        ""
      ],
      "metadata": {
        "id": "c4s8I6KKzXjR"
      },
      "execution_count": null,
      "outputs": []
    },
    {
      "cell_type": "markdown",
      "source": [
        "### Conversão de passe único "
      ],
      "metadata": {
        "id": "1HhEN9AULXRS"
      }
    },
    {
      "cell_type": "code",
      "source": [
        ""
      ],
      "metadata": {
        "id": "ZGbT_gyWzYtv"
      },
      "execution_count": null,
      "outputs": []
    },
    {
      "cell_type": "code",
      "source": [
        ""
      ],
      "metadata": {
        "id": "NiEI9fkvLaH2"
      },
      "execution_count": null,
      "outputs": []
    }
  ]
}