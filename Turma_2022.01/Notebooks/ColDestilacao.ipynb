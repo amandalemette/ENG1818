{
  "nbformat": 4,
  "nbformat_minor": 0,
  "metadata": {
    "colab": {
      "name": "ColDestilacao.ipynb",
      "provenance": [],
      "collapsed_sections": [],
      "toc_visible": true
    },
    "kernelspec": {
      "name": "python3",
      "display_name": "Python 3"
    },
    "language_info": {
      "name": "python"
    }
  },
  "cells": [
    {
      "cell_type": "markdown",
      "source": [
        "# Simulação dinâmica de uma coluna de destilação "
      ],
      "metadata": {
        "id": "aBeH3SSVscYL"
      }
    },
    {
      "cell_type": "markdown",
      "source": [
        "## Apresentação"
      ],
      "metadata": {
        "id": "WWjI6pglsg_U"
      }
    },
    {
      "cell_type": "markdown",
      "source": [
        "Nesse notebook, é apresentado um problema que simula a operação de uma coluna de destilação ao longo to tempo. "
      ],
      "metadata": {
        "id": "32EkOvSHspBb"
      }
    },
    {
      "cell_type": "markdown",
      "source": [
        "## Modelagem"
      ],
      "metadata": {
        "id": "5LyWhj-Us3wi"
      }
    },
    {
      "cell_type": "markdown",
      "source": [
        "A imagem a seguir ilustra uma coluna de destilação com uma corrente de entrada sendo alimentada basicamente no meio da coluna, um condensador no topo e um refervedor na base da coluna."
      ],
      "metadata": {
        "id": "Lt5f0rZWxxJx"
      }
    },
    {
      "cell_type": "markdown",
      "source": [
        "<center><img src=\"https://github.com/amandalemette/ENG1818/blob/55328778c9a3211103716ca5e4b2402c69374ce5/Imagens/coldest.PNG?raw=true\"  width=300 height=320 />"
      ],
      "metadata": {
        "id": "q1vTO6vhxolL"
      }
    },
    {
      "cell_type": "markdown",
      "source": [
        "Considerando líquido e gás ideais, pela relação de equilíbrio líquido-vapor, temos:\n",
        "\n",
        "$$\n",
        "y_i = \\frac{\\alpha_{ij}x_i}{\\sum_{i=1}^{N_c} {\\alpha_{ij}x_i}}\n",
        "$$\n",
        "\n",
        "onde:\n",
        "- $\\alpha_{ij} = $ volatividade relativa $\\alpha_{ij} = \\frac{K_i}{K_j}$\n",
        "- $K_i = \\frac{y_i}{x_i} = \\frac{P^{sat}_i}{P}$ (para líquido e gás ideais) \n",
        "- $N_c = $ número de componentes presentes no sistema \n",
        "- $j =$ componente de referência"
      ],
      "metadata": {
        "id": "vpr2YTqUs9oL"
      }
    },
    {
      "cell_type": "markdown",
      "source": [
        "Vamos assumir que todos os pratos da coluna são ideais e, portanto, atuam com 100 % de eficiência."
      ],
      "metadata": {
        "id": "zoAmOakgvv26"
      }
    },
    {
      "cell_type": "markdown",
      "source": [
        "Nas próximas subseções vamos focar em apenas uma parte da coluna."
      ],
      "metadata": {
        "id": "V1U98unHyDjw"
      }
    },
    {
      "cell_type": "markdown",
      "source": [
        "### Condensador"
      ],
      "metadata": {
        "id": "1MmMqO3eyH2q"
      }
    },
    {
      "cell_type": "markdown",
      "source": [
        "<center><img src=\"https://github.com/amandalemette/ENG1818/blob/381a79f26725a89a508facbb550bbaba2bbd14bc/Imagens/im13.PNG?raw=true\"  width=270 height=200 />"
      ],
      "metadata": {
        "id": "sYGpU33oyVv4"
      }
    },
    {
      "cell_type": "markdown",
      "source": [
        "- Balanço de massa global:\n",
        "\n",
        "$$\n",
        "\\dot{m}_D = \\frac{dm_D}{dt} = V_1 - L -D\n",
        "$$\n",
        "\n",
        "Como $m_D$ é constante, a equação acima fica sendo\n",
        "\n",
        "$$\n",
        "V_1 = L + D\n",
        "$$"
      ],
      "metadata": {
        "id": "oHEilhbDyhHf"
      }
    },
    {
      "cell_type": "markdown",
      "source": [
        "- Balanço de massa por componente:\n",
        "\n",
        "$$\n",
        "\\frac{\\dot{m}_D\\dot{x}_{i,0}}{dt} = V_1y_{i,1} - (L+D)x_{i,0}\n",
        "$$\n",
        "\n",
        "$$\n",
        "\\dot{x}_{i,0} = \\frac{(L+D)(y_{i,1} - x_{i,0})}{\\dot{m}_D}\n",
        "$$"
      ],
      "metadata": {
        "id": "UPvrsU7MzRLu"
      }
    },
    {
      "cell_type": "markdown",
      "source": [
        "### Seção de enriquecimento ou retificação"
      ],
      "metadata": {
        "id": "jU7Rk1ZGzy6H"
      }
    },
    {
      "cell_type": "markdown",
      "source": [
        "<center><img src=\"https://github.com/amandalemette/ENG1818/blob/73a0d5d2282dda81d70cac92d5cba8f1076c54cb/Imagens/im14.PNG?raw=true\"  width=270 height=250 />"
      ],
      "metadata": {
        "id": "9XbS_H3919du"
      }
    },
    {
      "cell_type": "markdown",
      "source": [
        "- Balanço de massa global:\n",
        "\n",
        "$$\n",
        "\\dot{m}_R = \\frac{dm_R}{dt} = L + V_{N_F} - L_{N_F-1} -V_1\n",
        "$$\n",
        "\n",
        "Como $m_R$ é constante, a equação acima fica sendo\n",
        "\n",
        "$$\n",
        "L_{N_F - 1} = L\n",
        "$$\n",
        "\n",
        "- Balanço de massa por componente:\n",
        "\n",
        "$$\n",
        "\\dot{m}_R\\dot{x}_{i,R} = Lx_{i,0} + V_{N_F}y_{i,N_F} - L_{N_F-1}x_{i,N_F-1} - V_1y_{i,1}\n",
        "$$\n",
        "\n",
        "$$\n",
        "\\dot{m}_R\\dot{x}_{i,R} = Lx_{i,0} + Vy_{i,N_F} - Lx_{i,N_F-1} - Vy_{i,1}\n",
        "$$\n",
        "\n",
        "$$\n",
        "\\dot{x}_{i,R} = \\frac{L\\left(x_{i,0} - x_{i,N_F-1} \\right)+V\\left(y_{i,N_F} - y_{i,1} \\right)}{\\dot{m}_R}\n",
        "$$"
      ],
      "metadata": {
        "id": "VYr1gIEwaqyZ"
      }
    },
    {
      "cell_type": "markdown",
      "source": [
        "### Prato de alimentação"
      ],
      "metadata": {
        "id": "Vt1rbsfsb05D"
      }
    },
    {
      "cell_type": "markdown",
      "source": [
        "<center><img src=\"https://github.com/amandalemette/ENG1818/blob/082f01c00be65550ae94bc2aa44ed9412dfa1576/Imagens/im17.png?raw=true\"  width=270 height=220 />"
      ],
      "metadata": {
        "id": "NCIhRg51cl0S"
      }
    },
    {
      "cell_type": "markdown",
      "source": [
        "- Balanço de massa global:\n",
        "\n",
        "$$\n",
        "\\dot{m}_F = L_{N_F-1} + F + V_{N_F+1} - L_{N_F} -V_{N_F}\n",
        "$$\n",
        "\n",
        "Como $\\dot{m}_F$ é constante e $V_{N_F+1} = V_{N_F} = V$, temos:\n",
        "\n",
        "$$\n",
        "L_{N_F} = L_{N_F-1}+F\n",
        "$$\n"
      ],
      "metadata": {
        "id": "Mn14psSAdGRl"
      }
    },
    {
      "cell_type": "markdown",
      "source": [
        "- Balanço de massa por componente:\n",
        "\n",
        "$$\n",
        "\\dot{m}_F\\dot{x}_{i,F} = L_{N_F-1}x_{i,N_F-1} + Fz_d + V_{N_F+1}y_{i,N_F+1} - L_{N_F}x_{i,N_F} - V_{N_F}y_{i,N_F}\n",
        "$$\n",
        "\n",
        "$$\n",
        "\\dot{m}_F\\dot{x}_{i,F} = L_{N_F-1}\\left( x_{i,N_F-1} - x_{i,N_F}\\right) + V\\left( y_{i,N_F+1 - y_{i,N_F}}\\right) + F\\left(z_i - x_{i,N_F} \\right)\n",
        "$$\n",
        "\n",
        "$$\n",
        "\\dot{x}_{i,F} = \\frac{1}{\\dot{m}_F}\\left[ L_{N_F-1}\\left( x_{i,N_F-1} - x_{i,N_F}\\right)+ V\\left( y_{i,N_F+1 - y_{i,N_F}}\\right)  + F\\left(z_i - x_{i,N_F} \\right)\\right]\n",
        "$$"
      ],
      "metadata": {
        "id": "o2lJFS5hz08_"
      }
    },
    {
      "cell_type": "markdown",
      "source": [
        "## Seção de esgotamento ou stripping"
      ],
      "metadata": {
        "id": "jQ1EPA9zcup6"
      }
    },
    {
      "cell_type": "markdown",
      "source": [
        "\n",
        "<center><img src=\"https://github.com/amandalemette/ENG1818/blob/082f01c00be65550ae94bc2aa44ed9412dfa1576/Imagens/im16.png?raw=true\"  width=270 height=220 />"
      ],
      "metadata": {
        "id": "nQmPiN2WcyHf"
      }
    },
    {
      "cell_type": "markdown",
      "source": [
        "- Balanço de massa global:\n",
        "\n",
        "$$\n",
        "\\dot{m}_s = L_{N_F} + V - L_{N} -V_{N_F+1}\n",
        "$$\n",
        "\n",
        "Como $\\dot{m}_s$ é constante e $V_{N_F+1} =  V$, temos:\n",
        "\n",
        "$$\n",
        "L_{N_F} = L_N\n",
        "$$"
      ],
      "metadata": {
        "id": "r1Eh1AHY1C11"
      }
    },
    {
      "cell_type": "markdown",
      "source": [
        "- Balanço de massa por componente:\n",
        "\n",
        "$$\n",
        "\\dot{m}_s\\dot{x}_{i,s} = L_{N_F}x_{i,N_F} + Vy_{i,B} - L_{N}x_{i,N} - V_{N_F+1}y_{i,N_F+1}\n",
        "$$\n",
        "\n",
        "$$\n",
        "\\dot{x}_{i,s} =\\frac{1}{\\dot{m}_s}\\left[ L_{N}\\left(x_{i,N_F} + x_{i,N}\\right) + V\\left(y_{i,B} -y_{i,N_F+1}\\right)\\right]\n",
        "$$\n"
      ],
      "metadata": {
        "id": "zXQCEYiE1RxR"
      }
    },
    {
      "cell_type": "markdown",
      "source": [
        "### Refervedor"
      ],
      "metadata": {
        "id": "qBrlnAnSc3FR"
      }
    },
    {
      "cell_type": "markdown",
      "source": [
        "<center><img src=\"https://github.com/amandalemette/ENG1818/blob/082f01c00be65550ae94bc2aa44ed9412dfa1576/Imagens/im15.png?raw=true\"  width=400 height=300 />"
      ],
      "metadata": {
        "id": "bD-GQ8hcc669"
      }
    },
    {
      "cell_type": "markdown",
      "source": [
        "- Balanço de massa global:\n",
        "\n",
        "$$\n",
        "\\dot{m}_B = L_{N} - V - B\n",
        "$$\n",
        "\n",
        "Como $\\dot{m}_B$ é constante:\n",
        "\n",
        "$$\n",
        "B = L_{N} - B\n",
        "$$\n",
        "\n",
        "- Balanço de massa por componente:\n",
        "\n",
        "$$\n",
        "\\dot{m}_{B}\\dot{x_{i,B}} = L_Nx_{i,N} - Bx_{i,B} - Vy_{i,B}\n",
        "$$\n",
        "\n",
        "$$\n",
        "\\dot{x_{i,B}} =\\frac{1}{\\dot{m}_{B}}\\left[ L_Nx_{i,N} - Bx_{i,B} - Vy_{i,B}\\right]\n",
        "$$"
      ],
      "metadata": {
        "id": "k2X_9G9o16Hj"
      }
    },
    {
      "cell_type": "markdown",
      "source": [
        "## Atividade"
      ],
      "metadata": {
        "id": "qBugWn7w28Wo"
      }
    },
    {
      "cell_type": "markdown",
      "source": [
        "Simule a separação de um líquido saturado contendo benzeno, tolueno e p-xileno por uma coluna de destilação. Considere os dados do problema:"
      ],
      "metadata": {
        "id": "7amZiTKA3DE8"
      }
    },
    {
      "cell_type": "markdown",
      "source": [
        "<center><img src=\"https://github.com/amandalemette/ENG1818/blob/7670ebe790857b4a53944de69930cf83aff26d8a/Imagens/im18.png?raw=true\"  width=600 height=270 />"
      ],
      "metadata": {
        "id": "OYVHaRiV3P2c"
      }
    },
    {
      "cell_type": "markdown",
      "source": [
        "Considere que, em t=0, todas as composições sejam iguais às do estágio de alimentação."
      ],
      "metadata": {
        "id": "0EnCv0YM3h9n"
      }
    },
    {
      "cell_type": "code",
      "execution_count": null,
      "metadata": {
        "id": "OW1xczNEsYdd"
      },
      "outputs": [],
      "source": [
        ""
      ]
    }
  ]
}