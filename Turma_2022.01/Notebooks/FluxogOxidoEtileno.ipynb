{
  "nbformat": 4,
  "nbformat_minor": 0,
  "metadata": {
    "colab": {
      "name": "FluxogOxidoEtileno.ipynb",
      "provenance": [],
      "toc_visible": true,
      "collapsed_sections": []
    },
    "kernelspec": {
      "name": "python3",
      "display_name": "Python 3"
    },
    "language_info": {
      "name": "python"
    }
  },
  "cells": [
    {
      "cell_type": "markdown",
      "source": [
        "# Fluxograma do óxido de etileno"
      ],
      "metadata": {
        "id": "WDtKVBJvMNnO"
      }
    },
    {
      "cell_type": "markdown",
      "source": [
        "## Apresentação\n",
        "\n",
        "Esse notebook demonstra a formulação e a solução do balanço material de um fluxograma de produção do óxido de etileno em Python utilizando a biblioteca [Sympy](http://sympy.org/en/index.html)."
      ],
      "metadata": {
        "id": "LnTn0FTRMQro"
      }
    },
    {
      "cell_type": "markdown",
      "source": [
        "## Oxido de Etileno\n",
        "\n",
        "<p><a href=\"http://commons.wikimedia.org/wiki/File:TASNEE_001.jpg#/media/File:TASNEE_001.jpg\"><img src=\"http://upload.wikimedia.org/wikipedia/commons/thumb/d/d2/TASNEE_001.jpg/1200px-TASNEE_001.jpg\" alt=\"TASNEE 001.jpg\"></a><br>\"<a href=\"http://commons.wikimedia.org/wiki/File:TASNEE_001.jpg#/media/File:TASNEE_001.jpg\""
      ],
      "metadata": {
        "id": "BNbIFDvXMlRA"
      }
    },
    {
      "cell_type": "markdown",
      "source": [
        "## Problema Proposto (Murphy 2005, Exemplo 3.19)\n",
        "\n",
        "O problema propõe analisar a capacidade de existência do processo de produção do óxido de etileno pela reação de etileno com oxigênio\n",
        "\n",
        "$$2\\,C_2H_4 + O_2 \\longrightarrow 2\\,C_2H_4O$$\n",
        "\n",
        "O objetivo é produzir 1.7 &#215; 10<sup>6</sup> kgmol/ano de óxido de etileno com 98 mol% de pureza.<br/> \n",
        "A vazão de alimentação de etileno é especificada em 196 kgmol/hr, e de oxigênio oxygen é especificada em 84.5 kgmol/hr.<br/>\n",
        "O reator tem uma conversão nominal de passagem única de 6% etileno.<br/> \n",
        "O separador recupera 98% do etileno e 99.5% do oxigênio para o reciclo e 97% de óxido de etileno para a corrente de produto. \n",
        "\n",
        "<img src=\"https://github.com/amandalemette/ENG1818/blob/c9940469a1300fa902126b85321e683c688b63f9/Imagens/im4.png?raw=true\"  width=600 height=200 />\n",
        "\n",
        "O problema é encontrar a pureza nominal do produto e as taxas de produção e examinar a sensibilidade da pureza e produção do produto às especificações do equipamento."
      ],
      "metadata": {
        "id": "NgveAdSnM3Ll"
      }
    },
    {
      "cell_type": "markdown",
      "source": [
        "### Resolução\n",
        "\n",
        "A estratégia de solução é representar as variáveis de corrente e de grau de avanço de reação como variáveis simbólicas, e expressar o balanço material e as especificações do processo como equações simbólicas e finalmente utilizar o Sympy para resolver o sistema formulado e executar a análise paramétrica.\n",
        "\n",
        "A célula seguinte inicializa a biblioteca **Sympy**.  "
      ],
      "metadata": {
        "id": "o9TEDsYdcO3A"
      }
    },
    {
      "cell_type": "code",
      "execution_count": null,
      "metadata": {
        "id": "Z-CxFFJuL7o_"
      },
      "outputs": [],
      "source": [
        "%matplotlib inline\n",
        "\n",
        "import sympy as sym"
      ]
    },
    {
      "cell_type": "markdown",
      "source": [
        "### Variáveis"
      ],
      "metadata": {
        "id": "Uno4d_qSc3ei"
      }
    },
    {
      "cell_type": "markdown",
      "source": [
        "#### Correntes "
      ],
      "metadata": {
        "id": "Svug1Nhzc46v"
      }
    },
    {
      "cell_type": "markdown",
      "source": [
        "As variáveis correntes são sistematicamente criadas utilizando a função Sympy `var`, e adicionando elas na lista chamada `stream_table`."
      ],
      "metadata": {
        "id": "0lOHh5e5c-DV"
      }
    },
    {
      "cell_type": "markdown",
      "source": [
        "<center><img src=\"https://github.com/amandalemette/ENG1818/blob/c9940469a1300fa902126b85321e683c688b63f9/Imagens/im4.png?raw=true\"  width=600 height=200 />"
      ],
      "metadata": {
        "id": "zREoPriNdPZa"
      }
    },
    {
      "cell_type": "code",
      "source": [
        "stream_table = []\n",
        "stream_table.append(sym.var('nE1 nO1 nEO1'))   # Stream 1\n",
        "stream_table.append(sym.var('nE2 nO2 nEO2'))   # Stream 2\n",
        "stream_table.append(sym.var('nE3 nO3 nEO3'))   # Stream 3\n",
        "stream_table.append(sym.var('nE4 nO4 nEO4'))   # Stream 4\n",
        "stream_table.append(sym.var('nE5 nO5 nEO5'))   # Stream 5\n",
        "\n",
        "display(stream_table)"
      ],
      "metadata": {
        "id": "vdNJpmtScv80"
      },
      "execution_count": null,
      "outputs": []
    },
    {
      "cell_type": "markdown",
      "source": [
        "#### Grau de Avanço"
      ],
      "metadata": {
        "id": "kYuF2VahdTb6"
      }
    },
    {
      "cell_type": "markdown",
      "source": [
        "Esse problema inclui somente uma reação em um único reator. O correspondente grau de avanço será representado por uma variável criada pelo Sympy."
      ],
      "metadata": {
        "id": "e7TW8JALdX5a"
      }
    },
    {
      "cell_type": "code",
      "source": [
        "extents = [sym.var('X')]\n",
        "display(extents)"
      ],
      "metadata": {
        "id": "PZVaIs-zdV5j"
      },
      "execution_count": null,
      "outputs": []
    },
    {
      "cell_type": "markdown",
      "source": [
        "Vamos criar uma lista com todas as variáveis:"
      ],
      "metadata": {
        "id": "opatK05zdxbO"
      }
    },
    {
      "cell_type": "code",
      "source": [
        "variables = []\n",
        "for x in extents:\n",
        "    variables.append(x)\n",
        "for s in stream_table:\n",
        "    for v in s:\n",
        "        variables.append(v)\n",
        "\n",
        "display(variables)"
      ],
      "metadata": {
        "id": "Nf8IIFJ6dlhh"
      },
      "execution_count": null,
      "outputs": []
    },
    {
      "cell_type": "markdown",
      "source": [
        "### Equações"
      ],
      "metadata": {
        "id": "vfhyVRzAd2uT"
      }
    },
    {
      "cell_type": "markdown",
      "source": [
        "#### Balanço Material\n",
        "\n",
        "Os balanços materiais são escritos para cada operação unitária usando a lista de correntes simbólicas e a variável para o grau de reação criadas.  \n",
        "\n",
        "Cada balanço de material é expresso como a taxa líquida de acúmulo e será definido como zero para especificar a operação em regime estacionário. \n",
        "\n",
        "Os balanços materiais são reunidos em uma lista para cada operação unitária, em seguida, as listas são concatenadas para criar uma lista de todos os balanços."
      ],
      "metadata": {
        "id": "oG1k99oZd34i"
      }
    },
    {
      "cell_type": "markdown",
      "source": [
        "<center><img src=\"https://github.com/amandalemette/ENG1818/blob/c9940469a1300fa902126b85321e683c688b63f9/Imagens/im4.png?raw=true\"  width=600 height=200 />"
      ],
      "metadata": {
        "id": "h6dq67BhgNuW"
      }
    },
    {
      "cell_type": "code",
      "source": [
        "mixer = [\n",
        "    sym.Eq(0, nE1 + nE5 - nE2),\n",
        "    sym.Eq(0, nO1 + nO5 - nO2),\n",
        "    sym.Eq(0, nEO5 - nEO2)]\n",
        "\n",
        "reactor = [\n",
        "    sym.Eq(0, nE2 - nE3 - 2*X),\n",
        "    sym.Eq(0, nO2 - nO3 - X),\n",
        "    sym.Eq(0, nEO2 - nEO3 + 2*X)]\n",
        "\n",
        "separator = [\n",
        "    sym.Eq(0, nE3 - nE4 - nE5),\n",
        "    sym.Eq(0, nO3 - nO4 - nO5),\n",
        "    sym.Eq(0, nEO3 - nEO4 - nEO5)]\n",
        "\n",
        "material_balances = mixer + reactor + separator\n",
        "\n",
        "for eqn in material_balances:\n",
        "    display(eqn)"
      ],
      "metadata": {
        "id": "pLDGmKM-drYi"
      },
      "execution_count": null,
      "outputs": []
    },
    {
      "cell_type": "markdown",
      "source": [
        "#### Especificações\n",
        "\n",
        "As especificações do processo são escritas como equações utilizando a função do Sympy `Eq`."
      ],
      "metadata": {
        "id": "IAPphAnZgXyQ"
      }
    },
    {
      "cell_type": "markdown",
      "source": [
        "<center><img src=\"https://github.com/amandalemette/ENG1818/blob/c9940469a1300fa902126b85321e683c688b63f9/Imagens/im4.png?raw=true\"  width=600 height=200 />"
      ],
      "metadata": {
        "id": "oKjjuWQdgk5g"
      }
    },
    {
      "cell_type": "code",
      "source": [
        "feed_spec = [\n",
        "    sym.Eq(nE1, 196.0),\n",
        "    sym.Eq(nO1, 84.5),\n",
        "    sym.Eq(nEO1, 0.0)]\n",
        "\n",
        "reactor_spec = [\n",
        "    sym.Eq(nE2 - nE3, 0.06*nE2)]\n",
        "\n",
        "separator_spec = [\n",
        "    sym.Eq(nE5, 0.98*nE3),\n",
        "    sym.Eq(nO5, 0.995*nO3),\n",
        "    sym.Eq(nEO4, 0.97*nEO3)]\n",
        "\n",
        "specifications = feed_spec + reactor_spec + separator_spec\n",
        "\n",
        "for eqn in specifications:\n",
        "    display(eqn)"
      ],
      "metadata": {
        "id": "ovvZJCeFgUFI"
      },
      "execution_count": null,
      "outputs": []
    },
    {
      "cell_type": "markdown",
      "source": [
        "### Análise de Grau de Liberdade\n",
        "\n",
        "Uma análise simples dos graus de liberdade é feita comparando o número total de variáveis com o de equações."
      ],
      "metadata": {
        "id": "2S5SGmPVg1gX"
      }
    },
    {
      "cell_type": "code",
      "source": [
        "nVars = 0\n",
        "nstream = 0\n",
        "for s in stream_table:\n",
        "    for v in s:\n",
        "        nVars += 1\n",
        "        print(f\"Corrente: {nstream}, Variável: {v.name}, Número de Variáveis: {nVars}\")\n",
        "    nstream += 1\n",
        "\n",
        "print(\"\\n%d Grau de avanço da reação\\n\" % len(extents))\n",
        "for v in extents:\n",
        "    print(\"Grau de avanço da reação: \", v.name)\n",
        "\n",
        "print(\"\\n%d Variaveis = %d Variáveis de Corrente + %d Grau de avanço \\n\" \\\n",
        "    % (len(variables),nVars,len(extents)))"
      ],
      "metadata": {
        "id": "hnIdiSXagx5R"
      },
      "execution_count": null,
      "outputs": []
    },
    {
      "cell_type": "code",
      "source": [
        "equations = material_balances + specifications\n",
        "print(\"\\n%d Equacoes = %d Balancos Materiais + %d Especificacoes\" \\\n",
        "    % (len(equations),len(material_balances),len(specifications)))\n",
        "\n",
        "print(\"\\n%d Balancos Materiais\\n\" % len(material_balances))\n",
        "for mb in material_balances:\n",
        "    print(mb)\n",
        "\n",
        "print(\"\\n%d Especificacoes\\n\" % len(specifications))\n",
        "for spec in specifications:\n",
        "    print(spec)"
      ],
      "metadata": {
        "id": "i_tFR88MhE9p"
      },
      "execution_count": null,
      "outputs": []
    },
    {
      "cell_type": "markdown",
      "source": [
        "### Solução"
      ],
      "metadata": {
        "id": "s9RA_e7Wnie0"
      }
    },
    {
      "cell_type": "code",
      "source": [
        "soln = sym.solve(material_balances + specifications)\n",
        "\n",
        "for k in soln.keys():\n",
        "    print(\"Variavel {0:4s}:  {1:8.2f}\".format(str(k),round(soln[k],2)))"
      ],
      "metadata": {
        "id": "vPnTVhWjnamz"
      },
      "execution_count": null,
      "outputs": []
    },
    {
      "cell_type": "code",
      "source": [
        "# display solution for each variable, rounded to 1 decimal place\n",
        "for v in variables:\n",
        "    display(sym.Eq(v,round(soln[v],1)))"
      ],
      "metadata": {
        "id": "hVA743bBnvn9"
      },
      "execution_count": null,
      "outputs": []
    },
    {
      "cell_type": "markdown",
      "source": [
        "#### Produção e Pureza"
      ],
      "metadata": {
        "id": "BrzwsaWJn7zt"
      }
    },
    {
      "cell_type": "markdown",
      "source": [
        "kgmol/h ---> (precisa virar) kgmol/ano\n",
        "\n",
        "kgmol/h*24 h/dia*364 dias/ano"
      ],
      "metadata": {
        "id": "Ftb-gtYGoVOW"
      }
    },
    {
      "cell_type": "code",
      "source": [
        "purity = soln[nEO4]/(soln[nEO4]+soln[nE4]+soln[nO4])\n",
        "production = 24*364*(soln[nEO4] + soln[nE4] + soln[nO4])/1000000\n",
        "\n",
        "print(\"Producao anual %4.2f milhoes kgmol/ano a %5.3f pureza.\" \\\n",
        "    % (production,purity))"
      ],
      "metadata": {
        "id": "jhqiHWoin0H4"
      },
      "execution_count": null,
      "outputs": []
    },
    {
      "cell_type": "markdown",
      "source": [
        "#### Para refletir e discutir...\n",
        "\n",
        "* Esses números te surpreendem? Por que a taxa de reciclo é tão alta? \n",
        "* Por que a especificação da pureza não foi atendida?"
      ],
      "metadata": {
        "id": "4AcnRVLypoqt"
      }
    },
    {
      "cell_type": "markdown",
      "source": [
        "### Análise Paramétrica: Conversão fracionada de etileno \n",
        "\n",
        "O problema pedia uma análise da sensibilidade dos resultados do problema às mudanças no desempenho da unidade. Isso é implementado reafirmando as especificações onde um parâmetro chave é substituído por uma variável simbólica, e o processo o desempenho plotado em função do parâmetro."
      ],
      "metadata": {
        "id": "U2pzdh7sp4cw"
      }
    },
    {
      "cell_type": "code",
      "source": [
        "feed_spec = [\n",
        "    sym.Eq(nE1, 196.0),\n",
        "    sym.Eq(nO1, 84.5),\n",
        "    sym.Eq(nEO1, 0.0)]\n",
        "\n",
        "fconv = sym.var('fconv')\n",
        "\n",
        "reactor_spec = [\n",
        "    sym.Eq(nE2 - nE3, fconv*nE2)]\n",
        "\n",
        "separator_spec = [\n",
        "    sym.Eq(nE5, 0.98*nE3),\n",
        "    sym.Eq(nO5, 0.995*nO3),\n",
        "    sym.Eq(nEO4, 0.97*nEO3)]\n",
        "\n",
        "specifications = feed_spec + reactor_spec + separator_spec\n",
        "\n",
        "for s in specifications:\n",
        "    display(s)"
      ],
      "metadata": {
        "id": "yxGemMfuoDzZ"
      },
      "execution_count": null,
      "outputs": []
    },
    {
      "cell_type": "markdown",
      "source": [
        "Os cálculos de reciclo introduzem uma forte dependência das taxas de fluxo a parâmetros como conversão de frações no reator e recuperação fracionária em unidades de separação.\n",
        "\n",
        "Para ver isso, aqui resolvemos a vazão de E<sub>2</sub> em função da conversão fracionária de etileno no reator.\n",
        "\n",
        "A partir do balanço material\n",
        "\n",
        "E<sub>2</sub> = E<sub>1</sub> + E<sub>5</sub><br>\n",
        "E<sub>3</sub> = (1-f<sub>conv</sub>) E<sub>2</sub><br>\n",
        "E<sub>5</sub> = 0.98 E<sub>3</sub><br>\n"
      ],
      "metadata": {
        "id": "ZKo8WQJ1qcrO"
      }
    },
    {
      "cell_type": "markdown",
      "source": [
        "<center><img src=\"https://github.com/amandalemette/ENG1818/blob/c9940469a1300fa902126b85321e683c688b63f9/Imagens/im4.png?raw=true\"  width=600 height=200 />"
      ],
      "metadata": {
        "id": "qjfNbN3Qqs4r"
      }
    },
    {
      "cell_type": "code",
      "source": [
        "soln = sym.solve(material_balances + specifications, exclude=[fconv])\n",
        "soln"
      ],
      "metadata": {
        "id": "Ppz4PmeaqPXG"
      },
      "execution_count": null,
      "outputs": []
    },
    {
      "cell_type": "code",
      "source": [
        "display(sym.Eq(nE2,soln[nE2]))"
      ],
      "metadata": {
        "id": "OJTLVdtLq1Ld"
      },
      "execution_count": null,
      "outputs": []
    },
    {
      "cell_type": "code",
      "source": [
        "sym.plot(soln[nE2],(fconv,0,1),xlabel='fconv',ylabel='kg-mol/h',title='E2 flowrate')"
      ],
      "metadata": {
        "id": "zVLhk986q6Me"
      },
      "execution_count": null,
      "outputs": []
    },
    {
      "cell_type": "code",
      "source": [
        "for v in variables:\n",
        "    display(sym.Eq(v, soln[v]))"
      ],
      "metadata": {
        "id": "YvL9Adu7rAxM"
      },
      "execution_count": null,
      "outputs": []
    },
    {
      "cell_type": "code",
      "source": [
        "purity = soln[nEO4]/(soln[nEO4]+soln[nE4]+soln[nO4])\n",
        "\n",
        "display(sym.simplify(purity))"
      ],
      "metadata": {
        "id": "kbS8PZxGrGP7"
      },
      "execution_count": null,
      "outputs": []
    },
    {
      "cell_type": "code",
      "source": [
        "sym.plot(purity,(fconv,0,.2),xlabel='fconv',ylabel='fraction EO',title='Purity');"
      ],
      "metadata": {
        "id": "v0hYn4lWrJ9F"
      },
      "execution_count": null,
      "outputs": []
    },
    {
      "cell_type": "code",
      "source": [
        "production = 24*364*(soln[nEO4] + soln[nE4] + soln[nO4])/1000000\n",
        "\n",
        "display(sym.simplify(production))\n",
        "sym.plot(production,(fconv,0,0.2),xlabel='fconv',ylabel='kg-mol/ano',title='Producao');"
      ],
      "metadata": {
        "id": "tmF15_67rM11"
      },
      "execution_count": null,
      "outputs": []
    },
    {
      "cell_type": "markdown",
      "source": [
        "### Análise Paramétrica: Recuperação Fracionada de Óxido de Etileno para Produto\n",
        "\n",
        "A melhoria da recuperação do óxido de etileno no fluxo do produto melhorará a pureza do produto? Faça uma previsão e, em seguida, verifique os resultados dos cálculos a seguir."
      ],
      "metadata": {
        "id": "jrf-Yuwarg3v"
      }
    },
    {
      "cell_type": "code",
      "source": [
        "feed_spec = [\n",
        "    sym.Eq(nE1,196.0),\n",
        "    sym.Eq(nO1, 84.5)]\n",
        "\n",
        "reactor_spec = [\n",
        "    sym.Eq(nE2 - nE3, 0.06*nE2)]\n",
        "\n",
        "frcvr = sym.var('frcvr')\n",
        "separator_spec = [\n",
        "    sym.Eq(nE5, 0.98*nE3),\n",
        "    sym.Eq(nO5, 0.995*nO3),\n",
        "    sym.Eq(nEO4, frcvr*nEO3)]\n",
        "\n",
        "specifications = feed_spec + reactor_spec + separator_spec\n",
        "for s in specifications:\n",
        "    display(s)"
      ],
      "metadata": {
        "id": "TadZarlJrS1P"
      },
      "execution_count": null,
      "outputs": []
    },
    {
      "cell_type": "code",
      "source": [
        "soln = sym.solve(material_balances + specifications, exclude=[frcvr])\n",
        "\n",
        "purity = soln[nEO4]/(soln[nEO4]+soln[nE4]+soln[nO4])\n",
        "\n",
        "display(purity)\n",
        "sym.plot(purity,(frcvr,0.9,1.00),xlabel='frcvr',ylabel='fraction EO',title='Purity');"
      ],
      "metadata": {
        "id": "1tHto2kHrnn_"
      },
      "execution_count": null,
      "outputs": []
    },
    {
      "cell_type": "code",
      "source": [
        "production = 24*364*(soln[nEO4] + soln[nE4] + soln[nO4])/1000000.0\n",
        "display(production)\n",
        "sym.plot(production,(frcvr,0.9,1.00),xlabel='frcvr',ylabel='kg-mol/year',title='Production');"
      ],
      "metadata": {
        "id": "O41fDOZnrp_P"
      },
      "execution_count": null,
      "outputs": []
    },
    {
      "cell_type": "markdown",
      "source": [
        "### Análise Paramétrica: Recuperação Fracionada de Etileno para Reciclo\n",
        "\n",
        "Aumentar a fração de etileno recuperada para reciclo deve melhorar a pureza do produto. Vamos ver o que acontece quando a elevamos."
      ],
      "metadata": {
        "id": "qvPcox_KsJcH"
      }
    },
    {
      "cell_type": "code",
      "source": [
        "feed_spec = [\n",
        "    sym.Eq(nE1,196.0),\n",
        "    sym.Eq(nO1, 84.5)]\n",
        "\n",
        "reactor_spec = [\n",
        "    sym.Eq(nE2 - nE3, 0.06*nE2)]\n",
        "\n",
        "frcvr = sym.var('frcvr')\n",
        "separator_spec = [\n",
        "    sym.Eq(nE5, frcvr*nE3),\n",
        "    sym.Eq(nO5, 0.995*nO3),\n",
        "    sym.Eq(nEO4, 0.97*nEO3)]\n",
        "\n",
        "specifications = feed_spec + reactor_spec + separator_spec\n",
        "for s in specifications:\n",
        "    display(s)"
      ],
      "metadata": {
        "id": "UnPvV2eCryDJ"
      },
      "execution_count": null,
      "outputs": []
    },
    {
      "cell_type": "code",
      "source": [
        "soln = sym.solve(material_balances + specifications,exclude=[frcvr])\n",
        "\n",
        "purity = soln[nEO4]/(soln[nEO4]+soln[nE4]+soln[nO4])\n",
        "display(sym.simplify(purity))\n",
        "sym.plot(purity,(frcvr,0.9,1),xlabel='frcvr',ylabel='fraction EO',title='Purity');"
      ],
      "metadata": {
        "id": "KNoZPuSjsQt9"
      },
      "execution_count": null,
      "outputs": []
    },
    {
      "cell_type": "code",
      "source": [
        "production = 24*364*(soln[nEO4] + soln[nE4] + soln[nO4])/1000000.0\n",
        "display(sym.simplify(production))\n",
        "sym.plot(production,(frcvr,0.9,1.00),xlabel='frcvr',ylabel='kg-mol/year',title='Production');"
      ],
      "metadata": {
        "id": "pn1BvBEdsSfs"
      },
      "execution_count": null,
      "outputs": []
    },
    {
      "cell_type": "markdown",
      "source": [
        "#### Análise Paramétrica: Altere a Taxa de Alimentação de Oxigênio\n",
        "\n",
        "Como descobrimos, a taxa de alimentação de oxigênio não é suficiente para consumir todo o etileno. Vamos explorar o que acontece se mudarmos a taxa de alimentação de oxigênio."
      ],
      "metadata": {
        "id": "3oG0nJe5slzb"
      }
    },
    {
      "cell_type": "code",
      "source": [
        "oxyfeed = sym.var('oxyfeed')\n",
        "feed_spec = [\n",
        "    sym.Eq(nE1,196.0),\n",
        "    sym.Eq(nO1,oxyfeed)]\n",
        "\n",
        "reactor_spec = [\n",
        "    sym.Eq(nE2 - nE3, 0.06*nE2)]\n",
        "\n",
        "separator_spec = [\n",
        "    sym.Eq(nE5, 0.98*nE3),\n",
        "    sym.Eq(nO5, 0.995*nO3),\n",
        "    sym.Eq(nEO4, 0.97*nEO3)]\n",
        "\n",
        "specifications = feed_spec + reactor_spec + separator_spec\n",
        "for s in specifications:\n",
        "    display(s)"
      ],
      "metadata": {
        "id": "hWdLmkz0sXK8"
      },
      "execution_count": null,
      "outputs": []
    },
    {
      "cell_type": "code",
      "source": [
        "soln = sym.solve(material_balances + specifications, exlude=[oxyfeed])\n",
        "\n",
        "purity = soln[nEO4]/(soln[nEO4]+soln[nE4]+soln[nO4])\n",
        "display(sym.simplify(purity))\n",
        "sym.plot(purity,(oxyfeed,74.5,196/2),xlabel='O1',ylabel='fraction EO',title='Purity');"
      ],
      "metadata": {
        "id": "AX-PvF6vspFK"
      },
      "execution_count": null,
      "outputs": []
    },
    {
      "cell_type": "code",
      "source": [
        "production = 24*364*(soln[nEO4] + soln[nE4] + soln[nO4])/1000000\n",
        "display(sym.simplify(production))\n",
        "sym.plot(production,(oxyfeed,74.5,196/2),xlabel='O1',ylabel='kg-mol/year',title='Production');"
      ],
      "metadata": {
        "id": "r0pSCjlGsrSJ"
      },
      "execution_count": null,
      "outputs": []
    },
    {
      "cell_type": "markdown",
      "source": [
        "## Conclusões\n",
        "\n",
        "* As especificações nominais do processo rendem uma pureza do produto de 72,5 mol% e uma produção de 1,73 milhão de kgmol/ano. A pureza do produto fica significativamente aquém da pureza desejada de 98% em mol.\n",
        "* A pureza do produto pode ser aumentada aumentando a conversão do reator de passagem única, aumentando a recuperação de etileno para reciclar e diminuindo a alimentação de oxigênio. Individual, no entanto, essas alterações não são suficientes para atender à pureza desejada.\n",
        "* Você consegue encontrar especificações que atendam à especificação de 98% de pureza do produto?"
      ],
      "metadata": {
        "id": "T9OQ3H_YtDcw"
      }
    },
    {
      "cell_type": "code",
      "source": [
        ""
      ],
      "metadata": {
        "id": "pHbm8gQ8sy_i"
      },
      "execution_count": null,
      "outputs": []
    }
  ]
}