{
  "nbformat": 4,
  "nbformat_minor": 0,
  "metadata": {
    "colab": {
      "name": "FluxogOxidoEtileno.ipynb",
      "provenance": [],
      "toc_visible": true,
      "collapsed_sections": []
    },
    "kernelspec": {
      "name": "python3",
      "display_name": "Python 3"
    },
    "language_info": {
      "name": "python"
    }
  },
  "cells": [
    {
      "cell_type": "markdown",
      "source": [
        "# Fluxograma do óxido de etileno"
      ],
      "metadata": {
        "id": "WDtKVBJvMNnO"
      }
    },
    {
      "cell_type": "markdown",
      "source": [
        "## Apresentação\n",
        "\n",
        "Esse notebook demonstra a formulação e a solução do balanço material de um fluxograma de produção do óxido de etileno em Python utilizando a biblioteca [Sympy](http://sympy.org/en/index.html)."
      ],
      "metadata": {
        "id": "LnTn0FTRMQro"
      }
    },
    {
      "cell_type": "markdown",
      "source": [
        "## Oxido de Etileno\n",
        "\n",
        "<p><a href=\"http://commons.wikimedia.org/wiki/File:TASNEE_001.jpg#/media/File:TASNEE_001.jpg\"><img src=\"http://upload.wikimedia.org/wikipedia/commons/thumb/d/d2/TASNEE_001.jpg/1200px-TASNEE_001.jpg\" alt=\"TASNEE 001.jpg\"></a><br>\"<a href=\"http://commons.wikimedia.org/wiki/File:TASNEE_001.jpg#/media/File:TASNEE_001.jpg\""
      ],
      "metadata": {
        "id": "BNbIFDvXMlRA"
      }
    },
    {
      "cell_type": "markdown",
      "source": [
        "## Problema Proposto (Murphy 2005, Exemplo 3.19)\n",
        "\n",
        "O problema propõe analisar a capacidade de existência do processo de produção do óxido de etileno pela reação de etileno com oxigênio\n",
        "\n",
        "$$2\\,C_2H_4 + O_2 \\longrightarrow 2\\,C_2H_4O$$\n",
        "\n",
        "O objetivo é produzir 1.7 &#215; 10<sup>6</sup> kgmol/ano de óxido de etileno com 98 mol% de pureza.<br/> \n",
        "A vazão de alimentação de etileno é especificada em 196 kgmol/hr, e de oxigênio oxygen é especificada em 84.5 kgmol/hr.<br/>\n",
        "O reator tem uma conversão nominal de passagem única de 6% etileno.<br/> \n",
        "O separador recupera 98% do etileno e 99.5% do oxigênio para o reciclo e 97% de óxido de etileno para a corrente de produto. \n",
        "\n",
        "<img src=\"https://github.com/amandalemette/ENG1818/blob/c9940469a1300fa902126b85321e683c688b63f9/Imagens/im4.png?raw=true\"  width=600 height=200 />\n",
        "\n",
        "O problema é encontrar a pureza nominal do produto e as taxas de produção e examinar a sensibilidade da pureza e produção do produto às especificações do equipamento."
      ],
      "metadata": {
        "id": "NgveAdSnM3Ll"
      }
    },
    {
      "cell_type": "markdown",
      "source": [
        "### Resolução\n",
        "\n",
        "A estratégia de solução é representar as variáveis de corrente e de grau de avanço de reação como variáveis simbólicas, e expressar o balanço material e as especificações do processo como equações simbólicas e finalmente utilizar o Sympy para resolver o sistema formulado e executar a análise paramétrica.\n",
        "\n",
        "A célula seguinte inicializa a biblioteca **Sympy**.  "
      ],
      "metadata": {
        "id": "o9TEDsYdcO3A"
      }
    },
    {
      "cell_type": "code",
      "execution_count": null,
      "metadata": {
        "id": "Z-CxFFJuL7o_"
      },
      "outputs": [],
      "source": [
        "%matplotlib inline\n",
        "\n",
        "import sympy as sym"
      ]
    },
    {
      "cell_type": "markdown",
      "source": [
        "### Variáveis"
      ],
      "metadata": {
        "id": "Uno4d_qSc3ei"
      }
    },
    {
      "cell_type": "markdown",
      "source": [
        "#### Correntes "
      ],
      "metadata": {
        "id": "Svug1Nhzc46v"
      }
    },
    {
      "cell_type": "markdown",
      "source": [
        "As variáveis correntes são sistematicamente criadas utilizando a função Sympy `var`, e adicionando elas na lista chamada `stream_table`."
      ],
      "metadata": {
        "id": "0lOHh5e5c-DV"
      }
    },
    {
      "cell_type": "markdown",
      "source": [
        "<center><img src=\"https://github.com/amandalemette/ENG1818/blob/c9940469a1300fa902126b85321e683c688b63f9/Imagens/im4.png?raw=true\"  width=600 height=200 />"
      ],
      "metadata": {
        "id": "zREoPriNdPZa"
      }
    },
    {
      "cell_type": "code",
      "source": [
        "stream_table = []\n",
        "stream_table.append(sym.var('nE1 nO1 nEO1'))   # Stream 1\n",
        "stream_table.append(sym.var('nE2 nO2 nEO2'))   # Stream 2\n",
        "stream_table.append(sym.var('nE3 nO3 nEO3'))   # Stream 3\n",
        "stream_table.append(sym.var('nE4 nO4 nEO4'))   # Stream 4\n",
        "stream_table.append(sym.var('nE5 nO5 nEO5'))   # Stream 5\n",
        "\n",
        "display(stream_table)"
      ],
      "metadata": {
        "colab": {
          "base_uri": "https://localhost:8080/",
          "height": 38
        },
        "id": "vdNJpmtScv80",
        "outputId": "baaeb4b5-f61c-4555-8c54-9b0d95968194"
      },
      "execution_count": null,
      "outputs": [
        {
          "output_type": "display_data",
          "data": {
            "image/png": "[encoded data removed]",
            "text/latex": "$\\displaystyle \\left[ \\left( nE_{1}, \\  nO_{1}, \\  nEO_{1}\\right), \\  \\left( nE_{2}, \\  nO_{2}, \\  nEO_{2}\\right), \\  \\left( nE_{3}, \\  nO_{3}, \\  nEO_{3}\\right), \\  \\left( nE_{4}, \\  nO_{4}, \\  nEO_{4}\\right), \\  \\left( nE_{5}, \\  nO_{5}, \\  nEO_{5}\\right)\\right]$",
            "text/plain": [
              "[(nE₁, nO₁, nEO₁), (nE₂, nO₂, nEO₂), (nE₃, nO₃, nEO₃), (nE₄, nO₄, nEO₄), (nE₅,\n",
              " nO₅, nEO₅)]"
            ]
          },
          "metadata": {}
        }
      ]
    },
    {
      "cell_type": "markdown",
      "source": [
        "#### Grau de Avanço"
      ],
      "metadata": {
        "id": "kYuF2VahdTb6"
      }
    },
    {
      "cell_type": "markdown",
      "source": [
        "Esse problema inclui somente uma reação em um único reator. O correspondente grau de avanço será representado por uma variável criada pelo Sympy."
      ],
      "metadata": {
        "id": "e7TW8JALdX5a"
      }
    },
    {
      "cell_type": "code",
      "source": [
        "extents = [sym.var('X')]\n",
        "display(extents)"
      ],
      "metadata": {
        "colab": {
          "base_uri": "https://localhost:8080/",
          "height": 38
        },
        "id": "PZVaIs-zdV5j",
        "outputId": "94662046-a796-4795-9be7-b2aea4167f4b"
      },
      "execution_count": null,
      "outputs": [
        {
          "output_type": "display_data",
          "data": {
            "image/png": "[encoded data removed]",
            "text/latex": "$\\displaystyle \\left[ X\\right]$",
            "text/plain": [
              "[X]"
            ]
          },
          "metadata": {}
        }
      ]
    },
    {
      "cell_type": "markdown",
      "source": [
        "Vamos criar uma lista com todas as variáveis:"
      ],
      "metadata": {
        "id": "opatK05zdxbO"
      }
    },
    {
      "cell_type": "code",
      "source": [
        "variables = []\n",
        "for x in extents:\n",
        "    variables.append(x)\n",
        "for s in stream_table:\n",
        "    for v in s:\n",
        "        variables.append(v)\n",
        "\n",
        "display(variables)"
      ],
      "metadata": {
        "colab": {
          "base_uri": "https://localhost:8080/",
          "height": 38
        },
        "id": "Nf8IIFJ6dlhh",
        "outputId": "17f0c1e3-9281-4e60-abb7-2cbefbfe3389"
      },
      "execution_count": null,
      "outputs": [
        {
          "output_type": "display_data",
          "data": {
            "image/png": "[encoded data removed]",
            "text/latex": "$\\displaystyle \\left[ X, \\  nE_{1}, \\  nO_{1}, \\  nEO_{1}, \\  nE_{2}, \\  nO_{2}, \\  nEO_{2}, \\  nE_{3}, \\  nO_{3}, \\  nEO_{3}, \\  nE_{4}, \\  nO_{4}, \\  nEO_{4}, \\  nE_{5}, \\  nO_{5}, \\  nEO_{5}\\right]$",
            "text/plain": [
              "[X, nE₁, nO₁, nEO₁, nE₂, nO₂, nEO₂, nE₃, nO₃, nEO₃, nE₄, nO₄, nEO₄, nE₅, nO₅, \n",
              "nEO₅]"
            ]
          },
          "metadata": {}
        }
      ]
    },
    {
      "cell_type": "markdown",
      "source": [
        "### Equações"
      ],
      "metadata": {
        "id": "vfhyVRzAd2uT"
      }
    },
    {
      "cell_type": "markdown",
      "source": [
        "#### Balanço Material\n",
        "\n",
        "Os balanços materiais são escritos para cada operação unitária usando a lista de correntes simbólicas e a variável para o grau de reação criadas.  \n",
        "\n",
        "Cada balanço de material é expresso como a taxa líquida de acúmulo e será definido como zero para especificar a operação em regime estacionário. \n",
        "\n",
        "Os balanços materiais são reunidos em uma lista para cada operação unitária, em seguida, as listas são concatenadas para criar uma lista de todos os balanços."
      ],
      "metadata": {
        "id": "oG1k99oZd34i"
      }
    },
    {
      "cell_type": "markdown",
      "source": [
        "<center><img src=\"https://github.com/amandalemette/ENG1818/blob/c9940469a1300fa902126b85321e683c688b63f9/Imagens/im4.png?raw=true\"  width=600 height=200 />"
      ],
      "metadata": {
        "id": "h6dq67BhgNuW"
      }
    },
    {
      "cell_type": "code",
      "source": [
        "mixer = [\n",
        "    sym.Eq(0, nE1 + nE5 - nE2),\n",
        "    sym.Eq(0, nO1 + nO5 - nO2),\n",
        "    sym.Eq(0, nEO5 - nEO2)]\n",
        "\n",
        "reactor = [\n",
        "    sym.Eq(0, nE2 - nE3 - 2*X),\n",
        "    sym.Eq(0, nO2 - nO3 - X),\n",
        "    sym.Eq(0, nEO2 - nEO3 + 2*X)]\n",
        "\n",
        "separator = [\n",
        "    sym.Eq(0, nE3 - nE4 - nE5),\n",
        "    sym.Eq(0, nO3 - nO4 - nO5),\n",
        "    sym.Eq(0, nEO3 - nEO4 - nEO5)]\n",
        "\n",
        "material_balances = mixer + reactor + separator\n",
        "\n",
        "for eqn in material_balances:\n",
        "    display(eqn)"
      ],
      "metadata": {
        "id": "pLDGmKM-drYi",
        "colab": {
          "base_uri": "https://localhost:8080/",
          "height": 206
        },
        "outputId": "3897095e-0c09-4c59-ad81-7245ba600a50"
      },
      "execution_count": null,
      "outputs": [
        {
          "output_type": "display_data",
          "data": {
            "image/png": "[encoded data removed]",
            "text/latex": "$\\displaystyle 0 = nE_{1} - nE_{2} + nE_{5}$",
            "text/plain": [
              "0 = nE₁ - nE₂ + nE₅"
            ]
          },
          "metadata": {}
        },
        {
          "output_type": "display_data",
          "data": {
            "image/png": "[encoded data removed]",
            "text/latex": "$\\displaystyle 0 = nO_{1} - nO_{2} + nO_{5}$",
            "text/plain": [
              "0 = nO₁ - nO₂ + nO₅"
            ]
          },
          "metadata": {}
        },
        {
          "output_type": "display_data",
          "data": {
            "image/png": "[encoded data removed]",
            "text/latex": "$\\displaystyle 0 = - nEO_{2} + nEO_{5}$",
            "text/plain": [
              "0 = -nEO₂ + nEO₅"
            ]
          },
          "metadata": {}
        },
        {
          "output_type": "display_data",
          "data": {
            "image/png": "[encoded data removed]",
            "text/latex": "$\\displaystyle 0 = - 2 X + nE_{2} - nE_{3}$",
            "text/plain": [
              "0 = -2⋅X + nE₂ - nE₃"
            ]
          },
          "metadata": {}
        },
        {
          "output_type": "display_data",
          "data": {
            "image/png": "[encoded data removed]",
            "text/latex": "$\\displaystyle 0 = - X + nO_{2} - nO_{3}$",
            "text/plain": [
              "0 = -X + nO₂ - nO₃"
            ]
          },
          "metadata": {}
        },
        {
          "output_type": "display_data",
          "data": {
            "image/png": "[encoded data removed]",
            "text/latex": "$\\displaystyle 0 = 2 X + nEO_{2} - nEO_{3}$",
            "text/plain": [
              "0 = 2⋅X + nEO₂ - nEO₃"
            ]
          },
          "metadata": {}
        },
        {
          "output_type": "display_data",
          "data": {
            "image/png": "[encoded data removed]",
            "text/latex": "$\\displaystyle 0 = nE_{3} - nE_{4} - nE_{5}$",
            "text/plain": [
              "0 = nE₃ - nE₄ - nE₅"
            ]
          },
          "metadata": {}
        },
        {
          "output_type": "display_data",
          "data": {
            "image/png": "[encoded data removed]",
            "text/latex": "$\\displaystyle 0 = nO_{3} - nO_{4} - nO_{5}$",
            "text/plain": [
              "0 = nO₃ - nO₄ - nO₅"
            ]
          },
          "metadata": {}
        },
        {
          "output_type": "display_data",
          "data": {
            "image/png": "[encoded data removed]",
            "text/latex": "$\\displaystyle 0 = nEO_{3} - nEO_{4} - nEO_{5}$",
            "text/plain": [
              "0 = nEO₃ - nEO₄ - nEO₅"
            ]
          },
          "metadata": {}
        }
      ]
    },
    {
      "cell_type": "markdown",
      "source": [
        "#### Especificações\n",
        "\n",
        "As especificações do processo são escritas como equações utilizando a função do Sympy `Eq`."
      ],
      "metadata": {
        "id": "IAPphAnZgXyQ"
      }
    },
    {
      "cell_type": "markdown",
      "source": [
        "<center><img src=\"https://github.com/amandalemette/ENG1818/blob/c9940469a1300fa902126b85321e683c688b63f9/Imagens/im4.png?raw=true\"  width=600 height=200 />"
      ],
      "metadata": {
        "id": "oKjjuWQdgk5g"
      }
    },
    {
      "cell_type": "code",
      "source": [
        "feed_spec = [\n",
        "    sym.Eq(nE1, 196.0),\n",
        "    sym.Eq(nO1, 84.5),\n",
        "    sym.Eq(nEO1, 0.0)]\n",
        "\n",
        "reactor_spec = [\n",
        "    sym.Eq(nE2 - nE3, 0.06*nE2)]\n",
        "\n",
        "separator_spec = [\n",
        "    sym.Eq(nE5, 0.98*nE3),\n",
        "    sym.Eq(nO5, 0.995*nO3),\n",
        "    sym.Eq(nEO4, 0.97*nEO3)]\n",
        "\n",
        "specifications = feed_spec + reactor_spec + separator_spec\n",
        "\n",
        "for eqn in specifications:\n",
        "    display(eqn)"
      ],
      "metadata": {
        "colab": {
          "base_uri": "https://localhost:8080/",
          "height": 164
        },
        "id": "ovvZJCeFgUFI",
        "outputId": "f4d01990-219d-43cb-cefc-9355b3aa3544"
      },
      "execution_count": null,
      "outputs": [
        {
          "output_type": "display_data",
          "data": {
            "image/png": "[encoded data removed]",
            "text/latex": "$\\displaystyle nE_{1} = 196.0$",
            "text/plain": [
              "nE₁ = 196.0"
            ]
          },
          "metadata": {}
        },
        {
          "output_type": "display_data",
          "data": {
            "image/png": "[encoded data removed]",
            "text/latex": "$\\displaystyle nO_{1} = 84.5$",
            "text/plain": [
              "nO₁ = 84.5"
            ]
          },
          "metadata": {}
        },
        {
          "output_type": "display_data",
          "data": {
            "image/png": "[encoded data removed]",
            "text/latex": "$\\displaystyle nEO_{1} = 0.0$",
            "text/plain": [
              "nEO₁ = 0.0"
            ]
          },
          "metadata": {}
        },
        {
          "output_type": "display_data",
          "data": {
            "image/png": "[encoded data removed]",
            "text/latex": "$\\displaystyle nE_{2} - nE_{3} = 0.06 nE_{2}$",
            "text/plain": [
              "nE₂ - nE₃ = 0.06⋅nE₂"
            ]
          },
          "metadata": {}
        },
        {
          "output_type": "display_data",
          "data": {
            "image/png": "[encoded data removed]",
            "text/latex": "$\\displaystyle nE_{5} = 0.98 nE_{3}$",
            "text/plain": [
              "nE₅ = 0.98⋅nE₃"
            ]
          },
          "metadata": {}
        },
        {
          "output_type": "display_data",
          "data": {
            "image/png": "[encoded data removed]",
            "text/latex": "$\\displaystyle nO_{5} = 0.995 nO_{3}$",
            "text/plain": [
              "nO₅ = 0.995⋅nO₃"
            ]
          },
          "metadata": {}
        },
        {
          "output_type": "display_data",
          "data": {
            "image/png": "[encoded data removed]",
            "text/latex": "$\\displaystyle nEO_{4} = 0.97 nEO_{3}$",
            "text/plain": [
              "nEO₄ = 0.97⋅nEO₃"
            ]
          },
          "metadata": {}
        }
      ]
    },
    {
      "cell_type": "markdown",
      "source": [
        "### Análise de Grau de Liberdade\n",
        "\n",
        "Uma análise simples dos graus de liberdade é feita comparando o número total de variáveis com o de equações."
      ],
      "metadata": {
        "id": "2S5SGmPVg1gX"
      }
    },
    {
      "cell_type": "code",
      "source": [
        "nVars = 0\n",
        "nstream = 0\n",
        "for s in stream_table:\n",
        "    for v in s:\n",
        "        nVars += 1\n",
        "        print(f\"Corrente: {nstream}, Variável: {v.name}, Número de Variáveis: {nVars}\")\n",
        "    nstream += 1\n",
        "\n",
        "print(\"\\n%d Grau de avanço da reação\\n\" % len(extents))\n",
        "for v in extents:\n",
        "    print(\"Grau de avanço da reação: \", v.name)\n",
        "\n",
        "print(\"\\n%d Variaveis = %d Variáveis de Corrente + %d Grau de avanço \\n\" \\\n",
        "    % (len(variables),nVars,len(extents)))"
      ],
      "metadata": {
        "colab": {
          "base_uri": "https://localhost:8080/"
        },
        "id": "hnIdiSXagx5R",
        "outputId": "eb462e1f-89d1-4b69-9076-d6f922050b6b"
      },
      "execution_count": 14,
      "outputs": [
        {
          "output_type": "stream",
          "name": "stdout",
          "text": [
            "Corrente: 0, Variável: nE1, Número de Variáveis: 1\n",
            "Corrente: 0, Variável: nO1, Número de Variáveis: 2\n",
            "Corrente: 0, Variável: nEO1, Número de Variáveis: 3\n",
            "Corrente: 1, Variável: nE2, Número de Variáveis: 4\n",
            "Corrente: 1, Variável: nO2, Número de Variáveis: 5\n",
            "Corrente: 1, Variável: nEO2, Número de Variáveis: 6\n",
            "Corrente: 2, Variável: nE3, Número de Variáveis: 7\n",
            "Corrente: 2, Variável: nO3, Número de Variáveis: 8\n",
            "Corrente: 2, Variável: nEO3, Número de Variáveis: 9\n",
            "Corrente: 3, Variável: nE4, Número de Variáveis: 10\n",
            "Corrente: 3, Variável: nO4, Número de Variáveis: 11\n",
            "Corrente: 3, Variável: nEO4, Número de Variáveis: 12\n",
            "Corrente: 4, Variável: nE5, Número de Variáveis: 13\n",
            "Corrente: 4, Variável: nO5, Número de Variáveis: 14\n",
            "Corrente: 4, Variável: nEO5, Número de Variáveis: 15\n",
            "\n",
            "1 Grau de avanço da reação\n",
            "\n",
            "Grau de avanço da reação:  X\n",
            "\n",
            "16 Variaveis = 15 Variáveis de Corrente + 1 Grau de avanço \n",
            "\n"
          ]
        }
      ]
    },
    {
      "cell_type": "code",
      "source": [
        "equations = material_balances + specifications\n",
        "print(\"\\n%d Equacoes = %d Balancos Materiais + %d Especificacoes\" \\\n",
        "    % (len(equations),len(material_balances),len(specifications)))\n",
        "\n",
        "print(\"\\n%d Balancos Materiais\\n\" % len(material_balances))\n",
        "for mb in material_balances:\n",
        "    print(mb)\n",
        "\n",
        "print(\"\\n%d Especificacoes\\n\" % len(specifications))\n",
        "for spec in specifications:\n",
        "    print(spec)"
      ],
      "metadata": {
        "id": "i_tFR88MhE9p",
        "colab": {
          "base_uri": "https://localhost:8080/"
        },
        "outputId": "bb1f8225-272b-4f90-cdb0-4de50b342721"
      },
      "execution_count": 16,
      "outputs": [
        {
          "output_type": "stream",
          "name": "stdout",
          "text": [
            "\n",
            "16 Equacoes = 9 Balancos Materiais + 7 Especificacoes\n",
            "\n",
            "9 Balancos Materiais\n",
            "\n",
            "Eq(0, nE1 - nE2 + nE5)\n",
            "Eq(0, nO1 - nO2 + nO5)\n",
            "Eq(0, -nEO2 + nEO5)\n",
            "Eq(0, -2*X + nE2 - nE3)\n",
            "Eq(0, -X + nO2 - nO3)\n",
            "Eq(0, 2*X + nEO2 - nEO3)\n",
            "Eq(0, nE3 - nE4 - nE5)\n",
            "Eq(0, nO3 - nO4 - nO5)\n",
            "Eq(0, nEO3 - nEO4 - nEO5)\n",
            "\n",
            "7 Especificacoes\n",
            "\n",
            "Eq(nE1, 196.0)\n",
            "Eq(nO1, 84.5)\n",
            "Eq(nEO1, 0.0)\n",
            "Eq(nE2 - nE3, 0.06*nE2)\n",
            "Eq(nE5, 0.98*nE3)\n",
            "Eq(nO5, 0.995*nO3)\n",
            "Eq(nEO4, 0.97*nEO3)\n"
          ]
        }
      ]
    },
    {
      "cell_type": "markdown",
      "source": [
        "### Solução"
      ],
      "metadata": {
        "id": "s9RA_e7Wnie0"
      }
    },
    {
      "cell_type": "code",
      "source": [
        "soln = sym.solve(material_balances + specifications)\n",
        "\n",
        "for k in soln.keys():\n",
        "    print(\"Variavel {0:4s}:  {1:8.2f}\".format(str(k),round(soln[k],2)))"
      ],
      "metadata": {
        "colab": {
          "base_uri": "https://localhost:8080/"
        },
        "id": "vPnTVhWjnamz",
        "outputId": "588fc3a7-0d06-40f6-dd1c-e337127ee74a"
      },
      "execution_count": 17,
      "outputs": [
        {
          "output_type": "stream",
          "name": "stdout",
          "text": [
            "Variavel X   :     74.62\n",
            "Variavel nE1 :    196.00\n",
            "Variavel nE2 :   2487.31\n",
            "Variavel nE3 :   2338.07\n",
            "Variavel nE4 :     46.76\n",
            "Variavel nE5 :   2291.31\n",
            "Variavel nEO2:      4.62\n",
            "Variavel nEO3:    153.85\n",
            "Variavel nEO4:    149.24\n",
            "Variavel nEO5:      4.62\n",
            "Variavel nO1 :     84.50\n",
            "Variavel nO2 :   2050.76\n",
            "Variavel nO3 :   1976.14\n",
            "Variavel nO4 :      9.88\n",
            "Variavel nO5 :   1966.26\n",
            "Variavel nEO1:      0.00\n"
          ]
        }
      ]
    },
    {
      "cell_type": "code",
      "source": [
        "# display solution for each variable, rounded to 1 decimal place\n",
        "for v in variables:\n",
        "    display(sym.Eq(v,round(soln[v],1)))"
      ],
      "metadata": {
        "colab": {
          "base_uri": "https://localhost:8080/",
          "height": 353
        },
        "id": "hVA743bBnvn9",
        "outputId": "f5c942e1-f6a6-4b43-8e8a-a130b5453163"
      },
      "execution_count": 18,
      "outputs": [
        {
          "output_type": "display_data",
          "data": {
            "image/png": "[encoded data removed]",
            "text/latex": "$\\displaystyle X = 74.6$",
            "text/plain": [
              "X = 74.6"
            ]
          },
          "metadata": {}
        },
        {
          "output_type": "display_data",
          "data": {
            "image/png": "[encoded data removed]",
            "text/latex": "$\\displaystyle nE_{1} = 196.0$",
            "text/plain": [
              "nE₁ = 196.0"
            ]
          },
          "metadata": {}
        },
        {
          "output_type": "display_data",
          "data": {
            "image/png": "[encoded data removed]",
            "text/latex": "$\\displaystyle nO_{1} = 84.5$",
            "text/plain": [
              "nO₁ = 84.5"
            ]
          },
          "metadata": {}
        },
        {
          "output_type": "display_data",
          "data": {
            "image/png": "[encoded data removed]",
            "text/latex": "$\\displaystyle nEO_{1} = 0.0$",
            "text/plain": [
              "nEO₁ = 0.0"
            ]
          },
          "metadata": {}
        },
        {
          "output_type": "display_data",
          "data": {
            "image/png": "[encoded data removed]",
            "text/latex": "$\\displaystyle nE_{2} = 2487.3$",
            "text/plain": [
              "nE₂ = 2487.3"
            ]
          },
          "metadata": {}
        },
        {
          "output_type": "display_data",
          "data": {
            "image/png": "[encoded data removed]",
            "text/latex": "$\\displaystyle nO_{2} = 2050.8$",
            "text/plain": [
              "nO₂ = 2050.8"
            ]
          },
          "metadata": {}
        },
        {
          "output_type": "display_data",
          "data": {
            "image/png": "[encoded data removed]",
            "text/latex": "$\\displaystyle nEO_{2} = 4.6$",
            "text/plain": [
              "nEO₂ = 4.6"
            ]
          },
          "metadata": {}
        },
        {
          "output_type": "display_data",
          "data": {
            "image/png": "[encoded data removed]",
            "text/latex": "$\\displaystyle nE_{3} = 2338.1$",
            "text/plain": [
              "nE₃ = 2338.1"
            ]
          },
          "metadata": {}
        },
        {
          "output_type": "display_data",
          "data": {
            "image/png": "[encoded data removed]",
            "text/latex": "$\\displaystyle nO_{3} = 1976.1$",
            "text/plain": [
              "nO₃ = 1976.1"
            ]
          },
          "metadata": {}
        },
        {
          "output_type": "display_data",
          "data": {
            "image/png": "[encoded data removed]",
            "text/latex": "$\\displaystyle nEO_{3} = 153.9$",
            "text/plain": [
              "nEO₃ = 153.9"
            ]
          },
          "metadata": {}
        },
        {
          "output_type": "display_data",
          "data": {
            "image/png": "[encoded data removed]",
            "text/latex": "$\\displaystyle nE_{4} = 46.8$",
            "text/plain": [
              "nE₄ = 46.8"
            ]
          },
          "metadata": {}
        },
        {
          "output_type": "display_data",
          "data": {
            "image/png": "[encoded data removed]",
            "text/latex": "$\\displaystyle nO_{4} = 9.9$",
            "text/plain": [
              "nO₄ = 9.9"
            ]
          },
          "metadata": {}
        },
        {
          "output_type": "display_data",
          "data": {
            "image/png": "[encoded data removed]",
            "text/latex": "$\\displaystyle nEO_{4} = 149.2$",
            "text/plain": [
              "nEO₄ = 149.2"
            ]
          },
          "metadata": {}
        },
        {
          "output_type": "display_data",
          "data": {
            "image/png": "[encoded data removed]",
            "text/latex": "$\\displaystyle nE_{5} = 2291.3$",
            "text/plain": [
              "nE₅ = 2291.3"
            ]
          },
          "metadata": {}
        },
        {
          "output_type": "display_data",
          "data": {
            "image/png": "[encoded data removed]",
            "text/latex": "$\\displaystyle nO_{5} = 1966.3$",
            "text/plain": [
              "nO₅ = 1966.3"
            ]
          },
          "metadata": {}
        },
        {
          "output_type": "display_data",
          "data": {
            "image/png": "[encoded data removed]",
            "text/latex": "$\\displaystyle nEO_{5} = 4.6$",
            "text/plain": [
              "nEO₅ = 4.6"
            ]
          },
          "metadata": {}
        }
      ]
    },
    {
      "cell_type": "markdown",
      "source": [
        "#### Produção e Pureza"
      ],
      "metadata": {
        "id": "BrzwsaWJn7zt"
      }
    },
    {
      "cell_type": "markdown",
      "source": [
        "kgmol/h ---> (precisa virar) kgmol/ano\n",
        "\n",
        "kgmol/h*24 h/dia*364 dias/ano"
      ],
      "metadata": {
        "id": "Ftb-gtYGoVOW"
      }
    },
    {
      "cell_type": "code",
      "source": [
        "purity = soln[nEO4]/(soln[nEO4]+soln[nE4]+soln[nO4])\n",
        "production = 24*364*(soln[nEO4] + soln[nE4] + soln[nO4])/1000000\n",
        "\n",
        "print(\"Producao anual %4.2f milhoes kgmol/ano a %5.3f pureza.\" \\\n",
        "    % (production,purity))"
      ],
      "metadata": {
        "colab": {
          "base_uri": "https://localhost:8080/"
        },
        "id": "jhqiHWoin0H4",
        "outputId": "308921a5-e3e0-4a24-c07d-4b60de01e958"
      },
      "execution_count": 20,
      "outputs": [
        {
          "output_type": "stream",
          "name": "stdout",
          "text": [
            "Producao anual 1.80 milhoes kgmol/ano a 0.725 pureza.\n"
          ]
        }
      ]
    },
    {
      "cell_type": "markdown",
      "source": [
        "#### Para refletir e discutir...\n",
        "\n",
        "* Esses números te surpreendem? Por que a taxa de reciclo é tão alta? \n",
        "* Por que a especificação da pureza não foi atendida?"
      ],
      "metadata": {
        "id": "4AcnRVLypoqt"
      }
    },
    {
      "cell_type": "markdown",
      "source": [
        "### Análise Paramétrica: Conversão fracionada de etileno \n",
        "\n",
        "O problema pedia uma análise da sensibilidade dos resultados do problema às mudanças no desempenho da unidade. Isso é implementado reafirmando as especificações onde um parâmetro chave é substituído por uma variável simbólica, e o processo o desempenho plotado em função do parâmetro."
      ],
      "metadata": {
        "id": "U2pzdh7sp4cw"
      }
    },
    {
      "cell_type": "code",
      "source": [
        "feed_spec = [\n",
        "    sym.Eq(nE1, 196.0),\n",
        "    sym.Eq(nO1, 84.5),\n",
        "    sym.Eq(nEO1, 0.0)]\n",
        "\n",
        "fconv = sym.var('fconv')\n",
        "\n",
        "reactor_spec = [\n",
        "    sym.Eq(nE2 - nE3, fconv*nE2)]\n",
        "\n",
        "separator_spec = [\n",
        "    sym.Eq(nE5, 0.98*nE3),\n",
        "    sym.Eq(nO5, 0.995*nO3),\n",
        "    sym.Eq(nEO4, 0.97*nEO3)]\n",
        "\n",
        "specifications = feed_spec + reactor_spec + separator_spec\n",
        "\n",
        "for s in specifications:\n",
        "    display(s)"
      ],
      "metadata": {
        "colab": {
          "base_uri": "https://localhost:8080/",
          "height": 164
        },
        "id": "yxGemMfuoDzZ",
        "outputId": "90b766d3-30c0-4794-adde-1f400327d879"
      },
      "execution_count": 21,
      "outputs": [
        {
          "output_type": "display_data",
          "data": {
            "image/png": "[encoded data removed]",
            "text/latex": "$\\displaystyle nE_{1} = 196.0$",
            "text/plain": [
              "nE₁ = 196.0"
            ]
          },
          "metadata": {}
        },
        {
          "output_type": "display_data",
          "data": {
            "image/png": "[encoded data removed]",
            "text/latex": "$\\displaystyle nO_{1} = 84.5$",
            "text/plain": [
              "nO₁ = 84.5"
            ]
          },
          "metadata": {}
        },
        {
          "output_type": "display_data",
          "data": {
            "image/png": "[encoded data removed]",
            "text/latex": "$\\displaystyle nEO_{1} = 0.0$",
            "text/plain": [
              "nEO₁ = 0.0"
            ]
          },
          "metadata": {}
        },
        {
          "output_type": "display_data",
          "data": {
            "image/png": "[encoded data removed]",
            "text/latex": "$\\displaystyle nE_{2} - nE_{3} = fconv nE_{2}$",
            "text/plain": [
              "nE₂ - nE₃ = fconv⋅nE₂"
            ]
          },
          "metadata": {}
        },
        {
          "output_type": "display_data",
          "data": {
            "image/png": "[encoded data removed]",
            "text/latex": "$\\displaystyle nE_{5} = 0.98 nE_{3}$",
            "text/plain": [
              "nE₅ = 0.98⋅nE₃"
            ]
          },
          "metadata": {}
        },
        {
          "output_type": "display_data",
          "data": {
            "image/png": "[encoded data removed]",
            "text/latex": "$\\displaystyle nO_{5} = 0.995 nO_{3}$",
            "text/plain": [
              "nO₅ = 0.995⋅nO₃"
            ]
          },
          "metadata": {}
        },
        {
          "output_type": "display_data",
          "data": {
            "image/png": "[encoded data removed]",
            "text/latex": "$\\displaystyle nEO_{4} = 0.97 nEO_{3}$",
            "text/plain": [
              "nEO₄ = 0.97⋅nEO₃"
            ]
          },
          "metadata": {}
        }
      ]
    },
    {
      "cell_type": "markdown",
      "source": [
        "Os cálculos de reciclo introduzem uma forte dependência das taxas de fluxo a parâmetros como conversão de frações no reator e recuperação fracionária em unidades de separação.\n",
        "\n",
        "Para ver isso, aqui resolvemos a vazão de E<sub>2</sub> em função da conversão fracionária de etileno no reator.\n",
        "\n",
        "A partir do balanço material\n",
        "\n",
        "E<sub>2</sub> = E<sub>1</sub> + E<sub>5</sub><br>\n",
        "E<sub>3</sub> = (1-f<sub>conv</sub>) E<sub>2</sub><br>\n",
        "E<sub>5</sub> = 0.98 E<sub>3</sub><br>\n"
      ],
      "metadata": {
        "id": "ZKo8WQJ1qcrO"
      }
    },
    {
      "cell_type": "markdown",
      "source": [
        "<center><img src=\"https://github.com/amandalemette/ENG1818/blob/c9940469a1300fa902126b85321e683c688b63f9/Imagens/im4.png?raw=true\"  width=600 height=200 />"
      ],
      "metadata": {
        "id": "qjfNbN3Qqs4r"
      }
    },
    {
      "cell_type": "code",
      "source": [
        "soln = sym.solve(material_balances + specifications, exclude=[fconv])\n",
        "soln"
      ],
      "metadata": {
        "colab": {
          "base_uri": "https://localhost:8080/",
          "height": 78
        },
        "id": "Ppz4PmeaqPXG",
        "outputId": "02401b49-71f9-4d8f-8082-8645dae54143"
      },
      "execution_count": 22,
      "outputs": [
        {
          "output_type": "execute_result",
          "data": {
            "image/png": "[encoded data removed]",
            "text/latex": "$\\displaystyle \\left\\{ X : \\frac{4900.0 fconv}{49.0 fconv + 1.0}, \\  nE_{1} : 196.0, \\  nE_{2} : \\frac{9800.0}{49.0 fconv + 1.0}, \\  nE_{3} : \\frac{9800.0 - 9800.0 fconv}{49.0 fconv + 1.0}, \\  nE_{4} : \\frac{196.0 - 196.0 fconv}{49.0 fconv + 1.0}, \\  nE_{5} : \\frac{9604.0 - 9604.0 fconv}{49.0 fconv + 1.0}, \\  nEO_{1} : 0.0, \\  nEO_{2} : \\frac{29400.0 fconv}{4753.0 fconv + 97.0}, \\  nEO_{3} : \\frac{980000.0 fconv}{4753.0 fconv + 97.0}, \\  nEO_{4} : \\frac{9800.0 fconv}{49.0 fconv + 1.0}, \\  nEO_{5} : \\frac{29400.0 fconv}{4753.0 fconv + 97.0}, \\  nO_{1} : 84.5, \\  nO_{2} : \\frac{16900.0 - 147000.0 fconv}{49.0 fconv + 1.0}, \\  nO_{3} : \\frac{16900.0 - 151900.0 fconv}{49.0 fconv + 1.0}, \\  nO_{4} : \\frac{169.0 - 1519.0 fconv}{98.0 fconv + 2.0}, \\  nO_{5} : \\frac{33631.0 - 302281.0 fconv}{98.0 fconv + 2.0}\\right\\}$",
            "text/plain": [
              "⎧     4900.0⋅fconv                          9800.0            9800.0 - 9800.0⋅\n",
              "⎨X: ────────────────, nE₁: 196.0, nE₂: ────────────────, nE₃: ────────────────\n",
              "⎩   49.0⋅fconv + 1.0                   49.0⋅fconv + 1.0          49.0⋅fconv + \n",
              "\n",
              "fconv       196.0 - 196.0⋅fconv       9604.0 - 9604.0⋅fconv                   \n",
              "─────, nE₄: ───────────────────, nE₅: ─────────────────────, nEO₁: 0.0, nEO₂: \n",
              "1.0           49.0⋅fconv + 1.0           49.0⋅fconv + 1.0                     \n",
              "\n",
              "   29400.0⋅fconv              980000.0⋅fconv            9800.0⋅fconv          \n",
              "───────────────────, nEO₃: ───────────────────, nEO₄: ────────────────, nEO₅: \n",
              "4753.0⋅fconv + 97.0        4753.0⋅fconv + 97.0        49.0⋅fconv + 1.0        \n",
              "\n",
              "   29400.0⋅fconv                     16900.0 - 147000.0⋅fconv       16900.0 - \n",
              "───────────────────, nO₁: 84.5, nO₂: ────────────────────────, nO₃: ──────────\n",
              "4753.0⋅fconv + 97.0                      49.0⋅fconv + 1.0               49.0⋅f\n",
              "\n",
              "151900.0⋅fconv       169.0 - 1519.0⋅fconv       33631.0 - 302281.0⋅fconv⎫\n",
              "──────────────, nO₄: ────────────────────, nO₅: ────────────────────────⎬\n",
              "conv + 1.0             98.0⋅fconv + 2.0             98.0⋅fconv + 2.0    ⎭"
            ]
          },
          "metadata": {},
          "execution_count": 22
        }
      ]
    },
    {
      "cell_type": "code",
      "source": [
        "display(sym.Eq(nE2,soln[nE2]))"
      ],
      "metadata": {
        "colab": {
          "base_uri": "https://localhost:8080/",
          "height": 55
        },
        "id": "OJTLVdtLq1Ld",
        "outputId": "37d5e302-13be-4318-a1fc-42ef59ab3a5d"
      },
      "execution_count": 24,
      "outputs": [
        {
          "output_type": "display_data",
          "data": {
            "image/png": "[encoded data removed]",
            "text/latex": "$\\displaystyle nE_{2} = \\frac{9800.0}{49.0 fconv + 1.0}$",
            "text/plain": [
              "           9800.0     \n",
              "nE₂ = ────────────────\n",
              "      49.0⋅fconv + 1.0"
            ]
          },
          "metadata": {}
        }
      ]
    },
    {
      "cell_type": "code",
      "source": [
        "sym.plot(soln[nE2],(fconv,0,1),xlabel='fconv',ylabel='kg-mol/h',title='E2 flowrate')"
      ],
      "metadata": {
        "colab": {
          "base_uri": "https://localhost:8080/",
          "height": 314
        },
        "id": "zVLhk986q6Me",
        "outputId": "3ebc3c27-3a32-4835-f003-109fe7c7562b"
      },
      "execution_count": 25,
      "outputs": [
        {
          "output_type": "display_data",
          "data": {
            "image/png": "[encoded data removed]",
            "text/plain": [
              "<Figure size 432x288 with 1 Axes>"
            ]
          },
          "metadata": {
            "needs_background": "light"
          }
        },
        {
          "output_type": "execute_result",
          "data": {
            "text/plain": [
              "<sympy.plotting.plot.Plot at 0x7f96536388d0>"
            ]
          },
          "metadata": {},
          "execution_count": 25
        }
      ]
    },
    {
      "cell_type": "code",
      "source": [
        "for v in variables:\n",
        "    display(sym.Eq(v, soln[v]))"
      ],
      "metadata": {
        "colab": {
          "base_uri": "https://localhost:8080/",
          "height": 586
        },
        "id": "YvL9Adu7rAxM",
        "outputId": "6cac68e4-1678-4619-f169-54efa86b0534"
      },
      "execution_count": 26,
      "outputs": [
        {
          "output_type": "display_data",
          "data": {
            "image/png": "[encoded data removed]",
            "text/latex": "$\\displaystyle X = \\frac{4900.0 fconv}{49.0 fconv + 1.0}$",
            "text/plain": [
              "      4900.0⋅fconv  \n",
              "X = ────────────────\n",
              "    49.0⋅fconv + 1.0"
            ]
          },
          "metadata": {}
        },
        {
          "output_type": "display_data",
          "data": {
            "image/png": "[encoded data removed]",
            "text/latex": "$\\displaystyle nE_{1} = 196.0$",
            "text/plain": [
              "nE₁ = 196.0"
            ]
          },
          "metadata": {}
        },
        {
          "output_type": "display_data",
          "data": {
            "image/png": "[encoded data removed]",
            "text/latex": "$\\displaystyle nO_{1} = 84.5$",
            "text/plain": [
              "nO₁ = 84.5"
            ]
          },
          "metadata": {}
        },
        {
          "output_type": "display_data",
          "data": {
            "image/png": "[encoded data removed]",
            "text/latex": "$\\displaystyle nEO_{1} = 0.0$",
            "text/plain": [
              "nEO₁ = 0.0"
            ]
          },
          "metadata": {}
        },
        {
          "output_type": "display_data",
          "data": {
            "image/png": "[encoded data removed]",
            "text/latex": "$\\displaystyle nE_{2} = \\frac{9800.0}{49.0 fconv + 1.0}$",
            "text/plain": [
              "           9800.0     \n",
              "nE₂ = ────────────────\n",
              "      49.0⋅fconv + 1.0"
            ]
          },
          "metadata": {}
        },
        {
          "output_type": "display_data",
          "data": {
            "image/png": "[encoded data removed]",
            "text/latex": "$\\displaystyle nO_{2} = \\frac{16900.0 - 147000.0 fconv}{49.0 fconv + 1.0}$",
            "text/plain": [
              "      16900.0 - 147000.0⋅fconv\n",
              "nO₂ = ────────────────────────\n",
              "          49.0⋅fconv + 1.0    "
            ]
          },
          "metadata": {}
        },
        {
          "output_type": "display_data",
          "data": {
            "image/png": "[encoded data removed]",
            "text/latex": "$\\displaystyle nEO_{2} = \\frac{29400.0 fconv}{4753.0 fconv + 97.0}$",
            "text/plain": [
              "          29400.0⋅fconv   \n",
              "nEO₂ = ───────────────────\n",
              "       4753.0⋅fconv + 97.0"
            ]
          },
          "metadata": {}
        },
        {
          "output_type": "display_data",
          "data": {
            "image/png": "[encoded data removed]",
            "text/latex": "$\\displaystyle nE_{3} = \\frac{9800.0 - 9800.0 fconv}{49.0 fconv + 1.0}$",
            "text/plain": [
              "      9800.0 - 9800.0⋅fconv\n",
              "nE₃ = ─────────────────────\n",
              "         49.0⋅fconv + 1.0  "
            ]
          },
          "metadata": {}
        },
        {
          "output_type": "display_data",
          "data": {
            "image/png": "[encoded data removed]",
            "text/latex": "$\\displaystyle nO_{3} = \\frac{16900.0 - 151900.0 fconv}{49.0 fconv + 1.0}$",
            "text/plain": [
              "      16900.0 - 151900.0⋅fconv\n",
              "nO₃ = ────────────────────────\n",
              "          49.0⋅fconv + 1.0    "
            ]
          },
          "metadata": {}
        },
        {
          "output_type": "display_data",
          "data": {
            "image/png": "[encoded data removed]",
            "text/latex": "$\\displaystyle nEO_{3} = \\frac{980000.0 fconv}{4753.0 fconv + 97.0}$",
            "text/plain": [
              "          980000.0⋅fconv  \n",
              "nEO₃ = ───────────────────\n",
              "       4753.0⋅fconv + 97.0"
            ]
          },
          "metadata": {}
        },
        {
          "output_type": "display_data",
          "data": {
            "image/png": "[encoded data removed]",
            "text/latex": "$\\displaystyle nE_{4} = \\frac{196.0 - 196.0 fconv}{49.0 fconv + 1.0}$",
            "text/plain": [
              "      196.0 - 196.0⋅fconv\n",
              "nE₄ = ───────────────────\n",
              "        49.0⋅fconv + 1.0 "
            ]
          },
          "metadata": {}
        },
        {
          "output_type": "display_data",
          "data": {
            "image/png": "[encoded data removed]",
            "text/latex": "$\\displaystyle nO_{4} = \\frac{169.0 - 1519.0 fconv}{98.0 fconv + 2.0}$",
            "text/plain": [
              "      169.0 - 1519.0⋅fconv\n",
              "nO₄ = ────────────────────\n",
              "        98.0⋅fconv + 2.0  "
            ]
          },
          "metadata": {}
        },
        {
          "output_type": "display_data",
          "data": {
            "image/png": "[encoded data removed]",
            "text/latex": "$\\displaystyle nEO_{4} = \\frac{9800.0 fconv}{49.0 fconv + 1.0}$",
            "text/plain": [
              "         9800.0⋅fconv  \n",
              "nEO₄ = ────────────────\n",
              "       49.0⋅fconv + 1.0"
            ]
          },
          "metadata": {}
        },
        {
          "output_type": "display_data",
          "data": {
            "image/png": "[encoded data removed]",
            "text/latex": "$\\displaystyle nE_{5} = \\frac{9604.0 - 9604.0 fconv}{49.0 fconv + 1.0}$",
            "text/plain": [
              "      9604.0 - 9604.0⋅fconv\n",
              "nE₅ = ─────────────────────\n",
              "         49.0⋅fconv + 1.0  "
            ]
          },
          "metadata": {}
        },
        {
          "output_type": "display_data",
          "data": {
            "image/png": "[encoded data removed]",
            "text/latex": "$\\displaystyle nO_{5} = \\frac{33631.0 - 302281.0 fconv}{98.0 fconv + 2.0}$",
            "text/plain": [
              "      33631.0 - 302281.0⋅fconv\n",
              "nO₅ = ────────────────────────\n",
              "          98.0⋅fconv + 2.0    "
            ]
          },
          "metadata": {}
        },
        {
          "output_type": "display_data",
          "data": {
            "image/png": "[encoded data removed]",
            "text/latex": "$\\displaystyle nEO_{5} = \\frac{29400.0 fconv}{4753.0 fconv + 97.0}$",
            "text/plain": [
              "          29400.0⋅fconv   \n",
              "nEO₅ = ───────────────────\n",
              "       4753.0⋅fconv + 97.0"
            ]
          },
          "metadata": {}
        }
      ]
    },
    {
      "cell_type": "code",
      "source": [
        "purity = soln[nEO4]/(soln[nEO4]+soln[nE4]+soln[nO4])\n",
        "\n",
        "display(sym.simplify(purity))"
      ],
      "metadata": {
        "colab": {
          "base_uri": "https://localhost:8080/",
          "height": 56
        },
        "id": "kbS8PZxGrGP7",
        "outputId": "0cf6af19-2424-4e0e-a8e2-9e98de7fdafe"
      },
      "execution_count": 27,
      "outputs": [
        {
          "output_type": "display_data",
          "data": {
            "image/png": "[encoded data removed]",
            "text/latex": "$\\displaystyle \\frac{960400.0 fconv}{866761.0 fconv + 27489.0}$",
            "text/plain": [
              "     960400.0⋅fconv     \n",
              "────────────────────────\n",
              "866761.0⋅fconv + 27489.0"
            ]
          },
          "metadata": {}
        }
      ]
    },
    {
      "cell_type": "code",
      "source": [
        "sym.plot(purity,(fconv,0,.2),xlabel='fconv',ylabel='fraction EO',title='Purity');"
      ],
      "metadata": {
        "colab": {
          "base_uri": "https://localhost:8080/",
          "height": 297
        },
        "id": "v0hYn4lWrJ9F",
        "outputId": "c0d43f91-9d5b-40b6-cf6e-2ef0fab0bf88"
      },
      "execution_count": 28,
      "outputs": [
        {
          "output_type": "display_data",
          "data": {
            "image/png": "[encoded data removed]",
            "text/plain": [
              "<Figure size 432x288 with 1 Axes>"
            ]
          },
          "metadata": {
            "needs_background": "light"
          }
        }
      ]
    },
    {
      "cell_type": "code",
      "source": [
        "production = 24*364*(soln[nEO4] + soln[nE4] + soln[nO4])/1000000\n",
        "\n",
        "display(sym.simplify(production))\n",
        "sym.plot(production,(fconv,0,0.2),xlabel='fconv',ylabel='kg-mol/ano',title='Producao');"
      ],
      "metadata": {
        "colab": {
          "base_uri": "https://localhost:8080/",
          "height": 338
        },
        "id": "tmF15_67rM11",
        "outputId": "d1cdde70-bdc0-45c7-c642-7856fe0069b9"
      },
      "execution_count": 30,
      "outputs": [
        {
          "output_type": "display_data",
          "data": {
            "image/png": "[encoded data removed]",
            "text/latex": "$\\displaystyle \\frac{362333184281250.0 fconv^{3} + 26280370593750.0 fconv^{2} + 619940343750.0 fconv + 4786031250.0}{229783203125000.0 fconv^{3} + 14068359375000.0 fconv^{2} + 287109375000.0 fconv + 1953125000.0}$",
            "text/plain": [
              "                       3                         2                            \n",
              "362333184281250.0⋅fconv  + 26280370593750.0⋅fconv  + 619940343750.0⋅fconv + 47\n",
              "──────────────────────────────────────────────────────────────────────────────\n",
              "                       3                         2                            \n",
              "229783203125000.0⋅fconv  + 14068359375000.0⋅fconv  + 287109375000.0⋅fconv + 19\n",
              "\n",
              "          \n",
              "86031250.0\n",
              "──────────\n",
              "          \n",
              "53125000.0"
            ]
          },
          "metadata": {}
        },
        {
          "output_type": "display_data",
          "data": {
            "image/png": "[encoded data removed]",
            "text/plain": [
              "<Figure size 432x288 with 1 Axes>"
            ]
          },
          "metadata": {
            "needs_background": "light"
          }
        }
      ]
    },
    {
      "cell_type": "markdown",
      "source": [
        "### Análise Paramétrica: Recuperação Fracionada de Óxido de Etileno para Produto\n",
        "\n",
        "A melhoria da recuperação do óxido de etileno no fluxo do produto melhorará a pureza do produto? Faça uma previsão e, em seguida, verifique os resultados dos cálculos a seguir."
      ],
      "metadata": {
        "id": "jrf-Yuwarg3v"
      }
    },
    {
      "cell_type": "code",
      "source": [
        "feed_spec = [\n",
        "    sym.Eq(nE1,196.0),\n",
        "    sym.Eq(nO1, 84.5)]\n",
        "\n",
        "reactor_spec = [\n",
        "    sym.Eq(nE2 - nE3, 0.06*nE2)]\n",
        "\n",
        "frcvr = sym.var('frcvr')\n",
        "separator_spec = [\n",
        "    sym.Eq(nE5, 0.98*nE3),\n",
        "    sym.Eq(nO5, 0.995*nO3),\n",
        "    sym.Eq(nEO4, frcvr*nEO3)]\n",
        "\n",
        "specifications = feed_spec + reactor_spec + separator_spec\n",
        "for s in specifications:\n",
        "    display(s)"
      ],
      "metadata": {
        "colab": {
          "base_uri": "https://localhost:8080/",
          "height": 143
        },
        "id": "TadZarlJrS1P",
        "outputId": "094fa0c6-21d2-4015-fa06-78860e57ae73"
      },
      "execution_count": 31,
      "outputs": [
        {
          "output_type": "display_data",
          "data": {
            "image/png": "[encoded data removed]",
            "text/latex": "$\\displaystyle nE_{1} = 196.0$",
            "text/plain": [
              "nE₁ = 196.0"
            ]
          },
          "metadata": {}
        },
        {
          "output_type": "display_data",
          "data": {
            "image/png": "[encoded data removed]",
            "text/latex": "$\\displaystyle nO_{1} = 84.5$",
            "text/plain": [
              "nO₁ = 84.5"
            ]
          },
          "metadata": {}
        },
        {
          "output_type": "display_data",
          "data": {
            "image/png": "[encoded data removed]",
            "text/latex": "$\\displaystyle nE_{2} - nE_{3} = 0.06 nE_{2}$",
            "text/plain": [
              "nE₂ - nE₃ = 0.06⋅nE₂"
            ]
          },
          "metadata": {}
        },
        {
          "output_type": "display_data",
          "data": {
            "image/png": "[encoded data removed]",
            "text/latex": "$\\displaystyle nE_{5} = 0.98 nE_{3}$",
            "text/plain": [
              "nE₅ = 0.98⋅nE₃"
            ]
          },
          "metadata": {}
        },
        {
          "output_type": "display_data",
          "data": {
            "image/png": "[encoded data removed]",
            "text/latex": "$\\displaystyle nO_{5} = 0.995 nO_{3}$",
            "text/plain": [
              "nO₅ = 0.995⋅nO₃"
            ]
          },
          "metadata": {}
        },
        {
          "output_type": "display_data",
          "data": {
            "image/png": "[encoded data removed]",
            "text/latex": "$\\displaystyle nEO_{4} = frcvr nEO_{3}$",
            "text/plain": [
              "nEO₄ = frcvr⋅nEO₃"
            ]
          },
          "metadata": {}
        }
      ]
    },
    {
      "cell_type": "code",
      "source": [
        "soln = sym.solve(material_balances + specifications, exclude=[frcvr])\n",
        "\n",
        "purity = soln[nEO4]/(soln[nEO4]+soln[nE4]+soln[nO4])\n",
        "\n",
        "display(purity)\n",
        "sym.plot(purity,(frcvr,0.9,1.00),xlabel='frcvr',ylabel='fraction EO',title='Purity');"
      ],
      "metadata": {
        "colab": {
          "base_uri": "https://localhost:8080/",
          "height": 317
        },
        "id": "1tHto2kHrnn_",
        "outputId": "9f4f073d-1f37-4b80-d508-c647cef68521"
      },
      "execution_count": 32,
      "outputs": [
        {
          "output_type": "display_data",
          "data": {
            "image/png": "[encoded data removed]",
            "text/latex": "$\\displaystyle 0.724878878656755$",
            "text/plain": [
              "0.724878878656755"
            ]
          },
          "metadata": {}
        },
        {
          "output_type": "display_data",
          "data": {
            "image/png": "[encoded data removed]",
            "text/plain": [
              "<Figure size 432x288 with 1 Axes>"
            ]
          },
          "metadata": {
            "needs_background": "light"
          }
        }
      ]
    },
    {
      "cell_type": "code",
      "source": [
        "production = 24*364*(soln[nEO4] + soln[nE4] + soln[nO4])/1000000.0\n",
        "display(production)\n",
        "sym.plot(production,(frcvr,0.9,1.00),xlabel='frcvr',ylabel='kg-mol/year',title='Production');"
      ],
      "metadata": {
        "colab": {
          "base_uri": "https://localhost:8080/",
          "height": 317
        },
        "id": "O41fDOZnrp_P",
        "outputId": "0774d22f-b52f-4684-b61d-705ded61f6b3"
      },
      "execution_count": 33,
      "outputs": [
        {
          "output_type": "display_data",
          "data": {
            "image/png": "[encoded data removed]",
            "text/latex": "$\\displaystyle 1.79857388832487$",
            "text/plain": [
              "1.79857388832487"
            ]
          },
          "metadata": {}
        },
        {
          "output_type": "display_data",
          "data": {
            "image/png": "[encoded data removed]",
            "text/plain": [
              "<Figure size 432x288 with 1 Axes>"
            ]
          },
          "metadata": {
            "needs_background": "light"
          }
        }
      ]
    },
    {
      "cell_type": "markdown",
      "source": [
        "### Análise Paramétrica: Recuperação Fracionada de Etileno para Reciclo\n",
        "\n",
        "Aumentar a fração de etileno recuperada para reciclo deve melhorar a pureza do produto. Vamos ver o que acontece quando a elevamos."
      ],
      "metadata": {
        "id": "qvPcox_KsJcH"
      }
    },
    {
      "cell_type": "code",
      "source": [
        "feed_spec = [\n",
        "    sym.Eq(nE1,196.0),\n",
        "    sym.Eq(nO1, 84.5)]\n",
        "\n",
        "reactor_spec = [\n",
        "    sym.Eq(nE2 - nE3, 0.06*nE2)]\n",
        "\n",
        "frcvr = sym.var('frcvr')\n",
        "separator_spec = [\n",
        "    sym.Eq(nE5, frcvr*nE3),\n",
        "    sym.Eq(nO5, 0.995*nO3),\n",
        "    sym.Eq(nEO4, 0.97*nEO3)]\n",
        "\n",
        "specifications = feed_spec + reactor_spec + separator_spec\n",
        "for s in specifications:\n",
        "    display(s)"
      ],
      "metadata": {
        "colab": {
          "base_uri": "https://localhost:8080/",
          "height": 143
        },
        "id": "UnPvV2eCryDJ",
        "outputId": "9de60de6-45d9-47d4-9b71-89a4c0598479"
      },
      "execution_count": 34,
      "outputs": [
        {
          "output_type": "display_data",
          "data": {
            "image/png": "[encoded data removed]",
            "text/latex": "$\\displaystyle nE_{1} = 196.0$",
            "text/plain": [
              "nE₁ = 196.0"
            ]
          },
          "metadata": {}
        },
        {
          "output_type": "display_data",
          "data": {
            "image/png": "[encoded data removed]",
            "text/latex": "$\\displaystyle nO_{1} = 84.5$",
            "text/plain": [
              "nO₁ = 84.5"
            ]
          },
          "metadata": {}
        },
        {
          "output_type": "display_data",
          "data": {
            "image/png": "[encoded data removed]",
            "text/latex": "$\\displaystyle nE_{2} - nE_{3} = 0.06 nE_{2}$",
            "text/plain": [
              "nE₂ - nE₃ = 0.06⋅nE₂"
            ]
          },
          "metadata": {}
        },
        {
          "output_type": "display_data",
          "data": {
            "image/png": "[encoded data removed]",
            "text/latex": "$\\displaystyle nE_{5} = frcvr nE_{3}$",
            "text/plain": [
              "nE₅ = frcvr⋅nE₃"
            ]
          },
          "metadata": {}
        },
        {
          "output_type": "display_data",
          "data": {
            "image/png": "[encoded data removed]",
            "text/latex": "$\\displaystyle nO_{5} = 0.995 nO_{3}$",
            "text/plain": [
              "nO₅ = 0.995⋅nO₃"
            ]
          },
          "metadata": {}
        },
        {
          "output_type": "display_data",
          "data": {
            "image/png": "[encoded data removed]",
            "text/latex": "$\\displaystyle nEO_{4} = 0.97 nEO_{3}$",
            "text/plain": [
              "nEO₄ = 0.97⋅nEO₃"
            ]
          },
          "metadata": {}
        }
      ]
    },
    {
      "cell_type": "code",
      "source": [
        "soln = sym.solve(material_balances + specifications,exclude=[frcvr])\n",
        "\n",
        "purity = soln[nEO4]/(soln[nEO4]+soln[nE4]+soln[nO4])\n",
        "display(sym.simplify(purity))\n",
        "sym.plot(purity,(frcvr,0.9,1),xlabel='frcvr',ylabel='fraction EO',title='Purity');"
      ],
      "metadata": {
        "colab": {
          "base_uri": "https://localhost:8080/",
          "height": 335
        },
        "id": "KNoZPuSjsQt9",
        "outputId": "7f5e982a-fd66-41fd-e952-bff6b0649745"
      },
      "execution_count": 35,
      "outputs": [
        {
          "output_type": "display_data",
          "data": {
            "image/png": "[encoded data removed]",
            "text/latex": "$\\displaystyle - \\frac{55272.0}{1239249.0 frcvr - 1290714.0}$",
            "text/plain": [
              "         -55272.0          \n",
              "───────────────────────────\n",
              "1239249.0⋅frcvr - 1290714.0"
            ]
          },
          "metadata": {}
        },
        {
          "output_type": "display_data",
          "data": {
            "image/png": "[encoded data removed]",
            "text/plain": [
              "<Figure size 432x288 with 1 Axes>"
            ]
          },
          "metadata": {
            "needs_background": "light"
          }
        }
      ]
    },
    {
      "cell_type": "code",
      "source": [
        "production = 24*364*(soln[nEO4] + soln[nE4] + soln[nO4])/1000000.0\n",
        "display(sym.simplify(production))\n",
        "sym.plot(production,(frcvr,0.9,1.00),xlabel='frcvr',ylabel='kg-mol/year',title='Production');"
      ],
      "metadata": {
        "colab": {
          "base_uri": "https://localhost:8080/",
          "height": 338
        },
        "id": "pn1BvBEdsSfs",
        "outputId": "9fc42473-112f-4c32-f577-df48cfeab7a3"
      },
      "execution_count": 37,
      "outputs": [
        {
          "output_type": "display_data",
          "data": {
            "image/png": "[encoded data removed]",
            "text/latex": "$\\displaystyle \\frac{10826.079264 frcvr^{2} - 22792.783104 frcvr + 11995.4016}{4418.0 frcvr^{2} - 9400.0 frcvr + 5000.0}$",
            "text/plain": [
              "                  2                                  \n",
              "10826.079264⋅frcvr  - 22792.783104⋅frcvr + 11995.4016\n",
              "─────────────────────────────────────────────────────\n",
              "                    2                                \n",
              "        4418.0⋅frcvr  - 9400.0⋅frcvr + 5000.0        "
            ]
          },
          "metadata": {}
        },
        {
          "output_type": "display_data",
          "data": {
            "image/png": "[encoded data removed]",
            "text/plain": [
              "<Figure size 432x288 with 1 Axes>"
            ]
          },
          "metadata": {
            "needs_background": "light"
          }
        }
      ]
    },
    {
      "cell_type": "markdown",
      "source": [
        "#### Análise Paramétrica: Altere a Taxa de Alimentação de Oxigênio\n",
        "\n",
        "Como descobrimos, a taxa de alimentação de oxigênio não é suficiente para consumir todo o etileno. Vamos explorar o que acontece se mudarmos a taxa de alimentação de oxigênio."
      ],
      "metadata": {
        "id": "3oG0nJe5slzb"
      }
    },
    {
      "cell_type": "code",
      "source": [
        "oxyfeed = sym.var('oxyfeed')\n",
        "feed_spec = [\n",
        "    sym.Eq(nE1,196.0),\n",
        "    sym.Eq(nO1,oxyfeed)]\n",
        "\n",
        "reactor_spec = [\n",
        "    sym.Eq(nE2 - nE3, 0.06*nE2)]\n",
        "\n",
        "separator_spec = [\n",
        "    sym.Eq(nE5, 0.98*nE3),\n",
        "    sym.Eq(nO5, 0.995*nO3),\n",
        "    sym.Eq(nEO4, 0.97*nEO3)]\n",
        "\n",
        "specifications = feed_spec + reactor_spec + separator_spec\n",
        "for s in specifications:\n",
        "    display(s)"
      ],
      "metadata": {
        "colab": {
          "base_uri": "https://localhost:8080/",
          "height": 143
        },
        "id": "hWdLmkz0sXK8",
        "outputId": "6f2983d7-6072-4266-ece7-0b7608fb7a68"
      },
      "execution_count": 38,
      "outputs": [
        {
          "output_type": "display_data",
          "data": {
            "image/png": "[encoded data removed]",
            "text/latex": "$\\displaystyle nE_{1} = 196.0$",
            "text/plain": [
              "nE₁ = 196.0"
            ]
          },
          "metadata": {}
        },
        {
          "output_type": "display_data",
          "data": {
            "image/png": "[encoded data removed]",
            "text/latex": "$\\displaystyle nO_{1} = oxyfeed$",
            "text/plain": [
              "nO₁ = oxyfeed"
            ]
          },
          "metadata": {}
        },
        {
          "output_type": "display_data",
          "data": {
            "image/png": "[encoded data removed]",
            "text/latex": "$\\displaystyle nE_{2} - nE_{3} = 0.06 nE_{2}$",
            "text/plain": [
              "nE₂ - nE₃ = 0.06⋅nE₂"
            ]
          },
          "metadata": {}
        },
        {
          "output_type": "display_data",
          "data": {
            "image/png": "[encoded data removed]",
            "text/latex": "$\\displaystyle nE_{5} = 0.98 nE_{3}$",
            "text/plain": [
              "nE₅ = 0.98⋅nE₃"
            ]
          },
          "metadata": {}
        },
        {
          "output_type": "display_data",
          "data": {
            "image/png": "[encoded data removed]",
            "text/latex": "$\\displaystyle nO_{5} = 0.995 nO_{3}$",
            "text/plain": [
              "nO₅ = 0.995⋅nO₃"
            ]
          },
          "metadata": {}
        },
        {
          "output_type": "display_data",
          "data": {
            "image/png": "[encoded data removed]",
            "text/latex": "$\\displaystyle nEO_{4} = 0.97 nEO_{3}$",
            "text/plain": [
              "nEO₄ = 0.97⋅nEO₃"
            ]
          },
          "metadata": {}
        }
      ]
    },
    {
      "cell_type": "code",
      "source": [
        "soln = sym.solve(material_balances + specifications, exlude=[oxyfeed])\n",
        "\n",
        "purity = soln[nEO4]/(soln[nEO4]+soln[nE4]+soln[nO4])\n",
        "display(sym.simplify(purity))\n",
        "sym.plot(purity,(oxyfeed,74.5,196/2),xlabel='O1',ylabel='fraction EO',title='Purity');"
      ],
      "metadata": {
        "colab": {
          "base_uri": "https://localhost:8080/",
          "height": 335
        },
        "id": "AX-PvF6vspFK",
        "outputId": "587ef488-31a7-42ae-ab08-ade71c733c71"
      },
      "execution_count": 39,
      "outputs": [
        {
          "output_type": "display_data",
          "data": {
            "image/png": "[encoded data removed]",
            "text/latex": "$\\displaystyle \\frac{149.238578680203}{oxyfeed + 121.380710659898}$",
            "text/plain": [
              "     149.238578680203     \n",
              "──────────────────────────\n",
              "oxyfeed + 121.380710659898"
            ]
          },
          "metadata": {}
        },
        {
          "output_type": "display_data",
          "data": {
            "image/png": "[encoded data removed]",
            "text/plain": [
              "<Figure size 432x288 with 1 Axes>"
            ]
          },
          "metadata": {
            "needs_background": "light"
          }
        }
      ]
    },
    {
      "cell_type": "code",
      "source": [
        "production = 24*364*(soln[nEO4] + soln[nE4] + soln[nO4])/1000000\n",
        "display(sym.simplify(production))\n",
        "sym.plot(production,(oxyfeed,74.5,196/2),xlabel='O1',ylabel='kg-mol/year',title='Production');"
      ],
      "metadata": {
        "colab": {
          "base_uri": "https://localhost:8080/",
          "height": 318
        },
        "id": "r0pSCjlGsrSJ",
        "outputId": "591b307d-23d7-4952-b3cb-0d8fec72df70"
      },
      "execution_count": 40,
      "outputs": [
        {
          "output_type": "display_data",
          "data": {
            "image/png": "[encoded data removed]",
            "text/latex": "$\\displaystyle 0.008736 oxyfeed + 1.06038188832487$",
            "text/plain": [
              "0.008736⋅oxyfeed + 1.06038188832487"
            ]
          },
          "metadata": {}
        },
        {
          "output_type": "display_data",
          "data": {
            "image/png": "[encoded data removed]",
            "text/plain": [
              "<Figure size 432x288 with 1 Axes>"
            ]
          },
          "metadata": {
            "needs_background": "light"
          }
        }
      ]
    },
    {
      "cell_type": "markdown",
      "source": [
        "## Conclusões\n",
        "\n",
        "* As especificações nominais do processo rendem uma pureza do produto de 72,5 mol% e uma produção de 1,73 milhão de kgmol/ano. A pureza do produto fica significativamente aquém da pureza desejada de 98% em mol.\n",
        "* A pureza do produto pode ser aumentada aumentando a conversão do reator de passagem única, aumentando a recuperação de etileno para reciclar e diminuindo a alimentação de oxigênio. Individual, no entanto, essas alterações não são suficientes para atender à pureza desejada.\n",
        "* Você consegue encontrar especificações que atendam à especificação de 98% de pureza do produto?"
      ],
      "metadata": {
        "id": "T9OQ3H_YtDcw"
      }
    },
    {
      "cell_type": "code",
      "source": [
        ""
      ],
      "metadata": {
        "id": "pHbm8gQ8sy_i"
      },
      "execution_count": null,
      "outputs": []
    }
  ]
}