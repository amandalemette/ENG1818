{
  "nbformat": 4,
  "nbformat_minor": 0,
  "metadata": {
    "colab": {
      "name": "Lista_Flash.ipynb",
      "provenance": [],
      "toc_visible": true
    },
    "kernelspec": {
      "name": "python3",
      "display_name": "Python 3"
    },
    "language_info": {
      "name": "python"
    }
  },
  "cells": [
    {
      "cell_type": "code",
      "execution_count": null,
      "metadata": {
        "id": "4Gl2kV0s5D_q"
      },
      "outputs": [],
      "source": [
        ""
      ]
    },
    {
      "cell_type": "markdown",
      "source": [
        "# Problema 2: FLASH isotérmico de uma mistura binária"
      ],
      "metadata": {
        "id": "lF_608Ew0y6l"
      }
    },
    {
      "cell_type": "markdown",
      "source": [
        "Uma corrente de alimentação F de vazão 20 kmol/h é dividida em uma corrente de vapor V e uma corrente de líquido L em um tanque de flash. São alimentados 60 mol% n-heptano e 40 mol% de n-octano. No tanque, T = 120 C e P = 1,4 atm. O tanque contém um trocador de calor que mantém a temperatura constante e uma válvula na corrente gasosa de produto de modo a manter constante a pressão no tanque. Calcule as composições vapor e líquido nas correntes de produto, assim como as correntes V e L. "
      ],
      "metadata": {
        "id": "BVQiTEzB02l_"
      }
    },
    {
      "cell_type": "code",
      "source": [
        ""
      ],
      "metadata": {
        "id": "PPZKzYGmzReu"
      },
      "execution_count": null,
      "outputs": []
    }
  ]
}