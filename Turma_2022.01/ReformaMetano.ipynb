{
  "nbformat": 4,
  "nbformat_minor": 0,
  "metadata": {
    "colab": {
      "name": "ReformaMetano.ipynb",
      "provenance": [],
      "collapsed_sections": [],
      "toc_visible": true
    },
    "kernelspec": {
      "name": "python3",
      "display_name": "Python 3"
    },
    "language_info": {
      "name": "python"
    }
  },
  "cells": [
    {
      "cell_type": "markdown",
      "source": [
        "# Reforma a Vapor do Metano --> Reator de Equilíbrio"
      ],
      "metadata": {
        "id": "P1D9eZ7TM6t7"
      }
    },
    {
      "cell_type": "markdown",
      "source": [
        "## Apresentação"
      ],
      "metadata": {
        "id": "bfw6MHQOM9-L"
      }
    },
    {
      "cell_type": "markdown",
      "source": [
        "Este notebook demonstra a formulação e solução de um problema de reator de equilíbrio a uma temperatura e pressão conhecidas. O notebook usa técnicas de programação funcional, incluindo as funções lambda e map do Python."
      ],
      "metadata": {
        "id": "zAcBasFZM_OY"
      }
    },
    {
      "cell_type": "markdown",
      "source": [
        "<center><img src=\"https://github.com/amandalemette/ENG1818/blob/6fb679e023faf5918633c3fd921cb7b46d914e29/Imagens/im6.png?raw=true\"  width=500 height=320 />"
      ],
      "metadata": {
        "id": "dGL22qDyPV1t"
      }
    },
    {
      "cell_type": "markdown",
      "source": [
        "<center><img src=\"https://github.com/amandalemette/ENG1818/blob/6fb679e023faf5918633c3fd921cb7b46d914e29/Imagens/im5.png?raw=true\"  width=700 height=350 />"
      ],
      "metadata": {
        "id": "t8IJlOlZPhEN"
      }
    },
    {
      "cell_type": "markdown",
      "source": [
        "## Problema Proposto"
      ],
      "metadata": {
        "id": "E2UjbiYoPs1a"
      }
    },
    {
      "cell_type": "markdown",
      "source": [
        "A reforma a vapor de metano \n",
        "\n",
        "$$ CH_4(g) + H_2O(g) \\longrightarrow CO(g) + 3\\,H_2(g) $$\n",
        "\n",
        "é uma reação endotérmica que produz hidrogênio. \n",
        "\n",
        "A reação normalmente é conduzida em relativamente altas temperaturas e pressões em cima de um catalisador heterogêneo. \n",
        "\n",
        "Assumindo que a reação é conduzida com 20% de excesso de água a 20 atm, resolva a extensão de equilíbrio da reação em função da temperatura em operação. \n"
      ],
      "metadata": {
        "id": "XVKdj4z3Puv3"
      }
    },
    {
      "cell_type": "markdown",
      "source": [
        "## Solução"
      ],
      "metadata": {
        "id": "ibxx3lDiQVZs"
      }
    },
    {
      "cell_type": "markdown",
      "source": [
        "Para uma mistura ideal de gases no equilíbrio, \n",
        "\n",
        "$$K_{rxn}(T) = \\prod_{c=1}^C \\left(y_cP\\right)^{\\nu_c}$$\n",
        "\n",
        "ou, depois de aplicar ln,\n",
        "\n",
        "$$\\ln K_{rxn}(T) = \\sum_{c=1}^C \\nu_c \\ln\\left(y_cP\\right)$$\n",
        "\n",
        "onde $K_{rxn}(T)$ é a constante de equilíbrio, $y_c$ é a fração molar do componente $c$, $\\nu_c$ é o coeficiente estequiométrico do componente $c$, $P$ e $T$ são a pressão e a temperatura respectivamente. \n",
        "\n",
        "A estratégia para resolver este problema é usar a equação de Van't Hoff para escrever uma função Python para calcular o lado esquerdo da equação como uma função da temperatura, e os balanços materiais dos componentes para resolver a expressão à direita como função da extensão ou do grau de avanço da reação. Então, dadas a temperatura e a pressão, a equação é resolvida para a extensão de equilíbrio da reação usando um algoritmo de cálculo de raízes.\n",
        "\n"
      ],
      "metadata": {
        "id": "I5Ta2046QWlW"
      }
    },
    {
      "cell_type": "code",
      "execution_count": 1,
      "metadata": {
        "id": "c_dm1Gj4MubW"
      },
      "outputs": [],
      "source": [
        "import matplotlib.pyplot as plt\n",
        "import numpy as np\n",
        "%matplotlib inline"
      ]
    },
    {
      "cell_type": "markdown",
      "source": [
        "## Dados do Problema"
      ],
      "metadata": {
        "id": "O17p6lR0RTwZ"
      }
    },
    {
      "cell_type": "markdown",
      "source": [
        "Os dados do problema são descritos nas células a seguir por conveniência. Ajuste esses parâmetros para fazer estudos paramétricos de desempenho do reator."
      ],
      "metadata": {
        "id": "UIW1naoJRacY"
      }
    },
    {
      "cell_type": "code",
      "source": [
        "# Reaction Conditions\n",
        "P = 20\n",
        "Tmin = 800\n",
        "Tmax = 1200\n",
        "\n",
        "# Reactor Feed Specifications\n",
        "nIn = dict()\n",
        "nIn['CH4'] = 1\n",
        "nIn['H2O'] = 1.2*nIn['CH4']\n",
        "nIn['CO'] = 0\n",
        "nIn['H2'] = 0\n",
        "\n",
        "# List of Components\n",
        "C = nIn.keys()"
      ],
      "metadata": {
        "id": "33tZVl9wRRlB"
      },
      "execution_count": 2,
      "outputs": []
    },
    {
      "cell_type": "markdown",
      "source": [
        "## Dados dos componentes"
      ],
      "metadata": {
        "id": "VEH3-18vRjwy"
      }
    },
    {
      "cell_type": "markdown",
      "source": [
        "Começamos reunindo a entalpia molar e a energia livre de Gibb das espécies que participam da reação nas condições padrão.\n",
        "\n",
        "\n",
        "Espécies | $\\Delta\\hat{G}_f^{\\circ}$ <br> [kJ/gmol]| $\\Delta\\hat{H}_f^{\\circ}$ <br> [kJ/gmol] | \n",
        "-------------------|------------------|------------------|\n",
        "Monóxido de Carbono (g) | $-137.27$| $-110.53$ |\n",
        "Hidrogênio (g)| $0$ | $0$ | \n",
        "Metano (g)| $-50.49$ | $-74.52$ | \n",
        "Agua (g) | $-228.59$ | $-241.83$ | \n",
        "\n"
      ],
      "metadata": {
        "id": "h9oyTQpdRlgJ"
      }
    },
    {
      "cell_type": "code",
      "source": [
        "# Enthalpy and Free Energy of Formation\n",
        "Gf = dict()\n",
        "Hf = dict()\n",
        "\n",
        "Gf['CO'] = -137270\n",
        "Hf['CO'] = -110530\n",
        "\n",
        "Gf['H2'] = 0\n",
        "Hf['H2'] = 0\n",
        "\n",
        "Gf['CH4'] = -50490\n",
        "Hf['CH4'] = -74520\n",
        "\n",
        "Gf['H2O'] = -228590\n",
        "Hf['H2O'] = -241830"
      ],
      "metadata": {
        "id": "thyq1Bq1Reru"
      },
      "execution_count": 3,
      "outputs": []
    },
    {
      "cell_type": "markdown",
      "source": [
        "## Entalpia e Energia Livre de Gibbs "
      ],
      "metadata": {
        "id": "c4U4RX8pTUnM"
      }
    },
    {
      "cell_type": "markdown",
      "source": [
        "A entalpia e a energia livre de Gibb's por mol de avanço de reação é dada por\n",
        "\n",
        "$$\\begin{align*}\n",
        "\\Delta\\hat{H}_{rxn}^{\\circ} & = \\sum_{c=1}^C \\nu_c \\Delta\\hat{H}_{f,c}^{\\circ} \\\\\n",
        "\\Delta\\hat{G}_{rxn}^{\\circ} & = \\sum_{c=1}^C \\nu_c \\Delta\\hat{G}_{f,c}^{\\circ} \n",
        "\\end{align*}$$\n",
        "\n",
        "onde $\\nu_c$ é o coeficiente estequiométrico para espécies  $c$."
      ],
      "metadata": {
        "id": "FiYwZrdpTaeW"
      }
    },
    {
      "cell_type": "code",
      "source": [
        "# Reaction Stoichiometry\n",
        "nu = dict()\n",
        "nu['CO']  = +1\n",
        "nu['H2']  = +3\n",
        "nu['CH4'] = -1\n",
        "nu['H2O'] = -1\n",
        "\n",
        "Hr = sum([nu[c]*Hf[c] for c in C])\n",
        "print(\"Hr = {:7.3f} kJ/gmol\".format(Hr/1000))\n",
        "\n",
        "Gr = sum([nu[c]*Gf[c] for c in C])\n",
        "print(\"Gr = {:7.3f} kJ/gmol\".format(Gr/1000))"
      ],
      "metadata": {
        "id": "BNtBA8FYTNoO"
      },
      "execution_count": null,
      "outputs": []
    },
    {
      "cell_type": "markdown",
      "source": [
        "## Constante de Equilíbrio Utilizando a Equação de van't Hoff"
      ],
      "metadata": {
        "id": "QznNAzLqTz9n"
      }
    },
    {
      "cell_type": "markdown",
      "source": [
        "A constante de equilíbrio em função da temperatura pode ser estimada usando a equação de Van't Hoff.\n",
        "\n",
        "$$ \\ln K_r(T) = -\\frac{1}{R}\\left[\\frac{\\Delta\\hat{G}_{rxn}^{\\circ} - \n",
        "  \\Delta\\hat{H}_{rxn}^{\\circ}}{298} + \\frac{\\Delta\\hat{H}_{rxn}^{\\circ}}{T}\\right] $$"
      ],
      "metadata": {
        "id": "F6uJigxVT6nm"
      }
    },
    {
      "cell_type": "markdown",
      "source": [
        "A equação acima é implementada em Python como uma função de $T$"
      ],
      "metadata": {
        "id": "hdXYGtHoUCR8"
      }
    },
    {
      "cell_type": "code",
      "source": [
        "R = 8.314 # J/K/gmol\n",
        "def lnKr(T):\n",
        "    return -((Gr-Hr)/298 + Hr/T)/R"
      ],
      "metadata": {
        "id": "vpUOaqHtTxkm"
      },
      "execution_count": 5,
      "outputs": []
    },
    {
      "cell_type": "markdown",
      "source": [
        "que pode ser plotada sobre a faixa de temperatura de interesse."
      ],
      "metadata": {
        "id": "op_Bog7NUNE9"
      }
    },
    {
      "cell_type": "code",
      "source": [
        "T = np.linspace(Tmin,Tmax,100)\n",
        "plt.plot(T,[lnKr(T) for T in T])\n",
        "plt.xlabel('Temperature [K]')\n",
        "plt.ylabel('$\\ln(K_{r})$')\n",
        "plt.title('Van\\'t Hoff Equation')\n",
        "plt.grid()"
      ],
      "metadata": {
        "id": "wMJ4jVDNUHJ1"
      },
      "execution_count": null,
      "outputs": []
    },
    {
      "cell_type": "markdown",
      "source": [
        "## Balanços Materiais"
      ],
      "metadata": {
        "id": "4yzNlb_eUSWK"
      }
    },
    {
      "cell_type": "markdown",
      "source": [
        "Os balanços materiais podem ser resolvidos para determinar as vazões molares na saída do reator em função da extensão molar (ou grau de avanço) da reação $\\dot{\\xi}$.\n",
        "\n",
        "$$\\begin{align*}\n",
        "\\dot{n}_{out,CO} & = \\dot{n}_{in,CO} + \\nu_{CO}\\dot{\\xi} \\\\\n",
        "\\dot{n}_{out,H_2} & = \\dot{n}_{in,H_2} + \\nu_{H_2}\\dot{\\xi} \\\\\n",
        "\\dot{n}_{out,CH_4} & = \\dot{n}_{in,CH_4} + \\nu_{CH_4}\\dot{\\xi} \\\\\n",
        "\\dot{n}_{out,H_2O} & = \\dot{n}_{in,H_2O} + \\nu_{H_2O}\\dot{\\xi} \n",
        "\\end{align*}$$\n",
        "\n"
      ],
      "metadata": {
        "id": "ehbjmBcWUT_J"
      }
    },
    {
      "cell_type": "markdown",
      "source": [
        "Os balanços materiais são implementados como funções de extensão molar $x$. As funções são atribuídas a um dicionário nOut. (O argumento padrão extra c=c é adicionado para que o c referenciado na função seja o mesmo que a chave do dicionário. Sem o argumento c=c, o c dentro da função refere-se à variável do contador em vez do desejado valor da chave.)"
      ],
      "metadata": {
        "id": "czUAV1m_Um18"
      }
    },
    {
      "cell_type": "code",
      "source": [
        "C"
      ],
      "metadata": {
        "id": "_Svqq366U4e8"
      },
      "execution_count": null,
      "outputs": []
    },
    {
      "cell_type": "code",
      "source": [
        "nOut = dict()\n",
        "for c in C:\n",
        "    nOut[c] = lambda x,c=c: nIn[c] + nu[c]*x"
      ],
      "metadata": {
        "id": "oZt7Hg0qUP4b"
      },
      "execution_count": 8,
      "outputs": []
    },
    {
      "cell_type": "markdown",
      "source": [
        "Os fluxos molares de saída podem ser plotados como funções da extensão molar (ou grau de avanço) da reação. O primeiro passo é calcular o grau de avanço máximo possível e, em seguida, traçar cada um dos fluxos molares em função do grau de avanço."
      ],
      "metadata": {
        "id": "OUd_mEBNVIJz"
      }
    },
    {
      "cell_type": "code",
      "source": [
        "xMax = np.Inf\n",
        "for c in C:\n",
        "    if nu[c] < 0:\n",
        "        xMax = min(xMax,-nIn[c]/nu[c])\n",
        "\n",
        "print('Maximum molar extent of reaction = {:.2f}'.format(xMax))\n",
        "\n",
        "x = np.linspace(0,xMax)\n",
        "\n",
        "for c in C:\n",
        "    plt.plot(x,[nOut[c](x) for x in x])\n",
        "\n",
        "plt.legend(C)\n",
        "plt.xlabel('Molar Extent of Reaction')\n",
        "plt.ylabel('$n_{Out}$')\n",
        "plt.title('Molar flows out the Reactor as Function of the Extent of Reaction')\n",
        "plt.grid()"
      ],
      "metadata": {
        "id": "6PJUoVcSVA8j"
      },
      "execution_count": null,
      "outputs": []
    },
    {
      "cell_type": "markdown",
      "source": [
        "## Composição dos Gases na saída do Reator"
      ],
      "metadata": {
        "id": "u_C_xye2VifN"
      }
    },
    {
      "cell_type": "markdown",
      "source": [
        "A composição dos gases na corrente de saída é dada por \n",
        "\n",
        "$$ y_{n}(\\dot{\\xi}) = \\frac{\\dot{n}_{out,n}(\\dot{\\xi})}{\\dot{n}_{Total}(\\dot{\\xi})} $$\n",
        "\n",
        "onde o fluxo molar total é a soma dos fluxos molares dos componentes. \n",
        "\n",
        "$$\\begin{align*}\n",
        "\\dot{n}_{Total} & = \\sum_{c=1}^C \\dot{n}_{out,c} \\\\\n",
        "& = \\sum_{c=1}^C \\dot{n}_{in,c} + \\left(\\sum_{c=1}^C \\nu_c\\right)\\dot{\\xi}\n",
        "\\end{align*}$$"
      ],
      "metadata": {
        "id": "ULnub_J7VlwT"
      }
    },
    {
      "cell_type": "code",
      "source": [
        "def nTotal(x):\n",
        "    nTotal = 0\n",
        "    for c in C:\n",
        "        nTotal += nOut[c](x)\n",
        "    return nTotal"
      ],
      "metadata": {
        "id": "hX86W4M_VV7R"
      },
      "execution_count": 12,
      "outputs": []
    },
    {
      "cell_type": "markdown",
      "source": [
        "O fluxo molar total é usado para criar um dicionário de funções lambda para a composição do efluente do reator em função do grau de avanço da reação."
      ],
      "metadata": {
        "id": "NxBQhJWQV_Bm"
      }
    },
    {
      "cell_type": "code",
      "source": [
        "y = dict()\n",
        "for c in C:\n",
        "    y[c] = lambda x,c=c: nOut[c](x)/nTotal(x)"
      ],
      "metadata": {
        "id": "wIvdqw2dV6AQ"
      },
      "execution_count": 13,
      "outputs": []
    },
    {
      "cell_type": "markdown",
      "source": [
        "Plotando a composição como função do grau de avanço da reação."
      ],
      "metadata": {
        "id": "GycDTW4dWGkj"
      }
    },
    {
      "cell_type": "code",
      "source": [
        "x = np.linspace(0,1)\n",
        "for c in C:\n",
        "    plt.plot(x,[y[c](x) for x in x])\n",
        "plt.legend(C)\n",
        "plt.xlabel('Molar Extent of Reaction')\n",
        "plt.ylabel('$y_c$')\n",
        "plt.title('Composition as a Function of Molar Extent of Reaction')\n",
        "plt.grid()"
      ],
      "metadata": {
        "id": "8hyXcgUbWEiM"
      },
      "execution_count": null,
      "outputs": []
    },
    {
      "cell_type": "markdown",
      "source": [
        "## Quociente de Reação"
      ],
      "metadata": {
        "id": "i0nj02_HWbLz"
      }
    },
    {
      "cell_type": "markdown",
      "source": [
        "Para uma reação na fase gasosa envolvendo uma mistura de gases ideais, definimos o quociente de reação como \n",
        "\n",
        "$$K_a(\\dot{\\xi}) = \\prod_{c=1}^C \\left(y_c(\\dot{\\xi})P\\right)^{\\nu_c}$$\n",
        "\n",
        "onde $y_c(\\dot{\\xi})P$ é a pressão parcial do componente $c$. \n",
        "\n",
        "Aplicando o logaritmo\n",
        "\n",
        "$$ \\ln K_a(\\dot{\\xi}) = \\sum_{c=1}^C \\nu_c\\ln(y_c(\\dot{\\xi})P)$$"
      ],
      "metadata": {
        "id": "S1yiCgIPWiCs"
      }
    },
    {
      "cell_type": "code",
      "source": [
        "def lnKa(x):\n",
        "    lnKa = 0;\n",
        "    for c in C:\n",
        "        lnKa += nu[c]*np.log(P*y[c](x))\n",
        "    return lnKa"
      ],
      "metadata": {
        "id": "1kGGjBNvWLiD"
      },
      "execution_count": 15,
      "outputs": []
    },
    {
      "cell_type": "code",
      "source": [
        "x = np.linspace(0.001,1)\n",
        "plt.plot(x,[lnKa(x) for x in x])\n",
        "plt.xlabel('Molar Extent of Reaction')\n",
        "plt.ylabel('$\\ln(Ka)$')\n",
        "plt.title('Reaction Activity Quotient');\n",
        "plt.grid()"
      ],
      "metadata": {
        "id": "sR8lP_3oW2wT"
      },
      "execution_count": null,
      "outputs": []
    },
    {
      "cell_type": "markdown",
      "source": [
        "## Resolvendo para o grau de avanço da reação no equilíbrio"
      ],
      "metadata": {
        "id": "heli0KCgXA3W"
      }
    },
    {
      "cell_type": "markdown",
      "source": [
        "Para uma dada temperatura e pressão, a solução para o grau de avanço da reação no equilíbrio eé o valor de $\\dot{\\xi}$ para o qual $K_r(T) = K_a(\\dot{\\xi})$ que pode ser escrito em termos de logaritmo como\n",
        "\n",
        "$$\\ln K_r(T) = \\ln K_a(\\dot{\\xi})$$\n",
        "\n",
        "Plotando essas funções lado a lado mostra uma técnica gráfica simples para encontrar soluções para $\\dot{\\xi}$."
      ],
      "metadata": {
        "id": "8BzyWL6xXTEq"
      }
    },
    {
      "cell_type": "code",
      "source": [
        "plt.figure(figsize=(12,5))\n",
        "plt.subplot(1,2,1)\n",
        "plt.plot(T,[lnKr(T) for T in T])\n",
        "plt.ylim(-5,10)\n",
        "plt.xlabel('Temperature [K]')\n",
        "plt.ylabel('$\\ln(Kr)$')\n",
        "plt.title('Equibrium Constant')\n",
        "plt.grid()\n",
        "\n",
        "plt.subplot(1,2,2)\n",
        "plt.plot(x,[lnKa(x) for x in x])\n",
        "plt.ylim(-5,10)\n",
        "plt.xlabel('Molar Extent of Reaction')\n",
        "plt.ylabel('$ln(Ka)$')\n",
        "plt.title('Equilibrium Activity Quotient')\n",
        "plt.grid()"
      ],
      "metadata": {
        "id": "7ohhwddOW4eR"
      },
      "execution_count": null,
      "outputs": []
    },
    {
      "cell_type": "markdown",
      "source": [
        "Vamos deixar $\\dot{\\xi}_{eq}(T)$ denotar os valores de equilíbrio do grau de avanço da reação em função da temperatura. Esses valores são definidos como raízes da equação\n",
        "\n",
        "$$ \\ln K_a(\\dot{\\xi}_{eq}(T)) - \\ln K_r(T) = 0$$\n",
        "\n",
        "Essa expressão é implementada como uma função lambda do Python, onde um algoritmo root=finding é usado para resolver a condição de equilíbrio em função da temperatura."
      ],
      "metadata": {
        "id": "TrzNLnQ8XsBc"
      }
    },
    {
      "cell_type": "code",
      "source": [
        "from scipy.optimize import brentq as fzero\n",
        "\n",
        "xEquil = lambda T: fzero(lambda x: lnKa(x) - lnKr(T), 0, xMax)"
      ],
      "metadata": {
        "id": "b-p0CvzmXjQ1"
      },
      "execution_count": 18,
      "outputs": []
    },
    {
      "cell_type": "code",
      "source": [
        "plt.plot(T,[xEquil(T) for T in T])\n",
        "plt.xlabel('Temperature [K]')\n",
        "plt.ylabel('Extent of Reaction [gmol/min]')\n",
        "plt.title('Equilibrium Extent of Reaction at {:.1f} atm'.format(P))\n",
        "plt.grid()"
      ],
      "metadata": {
        "id": "1_zMWeIrX6AV"
      },
      "execution_count": null,
      "outputs": []
    },
    {
      "cell_type": "markdown",
      "source": [
        "## Composição de Equilíbrio"
      ],
      "metadata": {
        "id": "shk7vnbtYHMv"
      }
    },
    {
      "cell_type": "markdown",
      "source": [
        "Agora que temos uma função para calcular o grau de avanço no equilíbrioem função da temperatura, temos tudo o que é necessário para calcular uma variedade de métricas de desempenho para o reator. \n",
        "\n",
        "Por exemplo, podemos usar as funções que já criamos para a composição do gás de saída para calcular e plotar a composição do gás de saída do reator em função da temperatura."
      ],
      "metadata": {
        "id": "leMIRsP2YJ1Z"
      }
    },
    {
      "cell_type": "code",
      "source": [
        "yEquil = dict()\n",
        "for c in C:\n",
        "    yEquil[c] = lambda T,c=c: y[c](xEquil(T))\n",
        "\n",
        "for c in C:\n",
        "    plt.plot(T,[yEquil[c](T) for T in T])\n",
        "\n",
        "plt.legend(C)\n",
        "plt.xlabel('Temperature [K]')\n",
        "plt.ylabel('Mole Fraction [mol/mol]')\n",
        "plt.title('Reactor Outlet Gas Composition at {:.1f} atm'.format(P))\n",
        "plt.grid()\n"
      ],
      "metadata": {
        "id": "7r6oeaAYX64k"
      },
      "execution_count": null,
      "outputs": []
    },
    {
      "cell_type": "markdown",
      "source": [
        "## Conversão do Metano"
      ],
      "metadata": {
        "id": "jcnxtKHrYXvI"
      }
    },
    {
      "cell_type": "markdown",
      "source": [
        "$$f_{conv} = \\frac{\\dot{n}_{in,CH_4} - \\dot{n}_{out,CH_4}}{\\dot{n}_{in,CH_4}}$$"
      ],
      "metadata": {
        "id": "2Ju-6VAVYZpi"
      }
    },
    {
      "cell_type": "code",
      "source": [
        "fconv = lambda T: (nIn['CH4'] - nOut['CH4'](xEquil(T)))/nIn['CH4']\n",
        "\n",
        "plt.plot(T,[fconv(T) for T in T])\n",
        "plt.xlabel('Temperature [K]')\n",
        "plt.ylabel('Fractional Methane Conversion')\n",
        "plt.title('Equilibrium Conversion at {:.1f} atm'.format(P))\n",
        "plt.grid()"
      ],
      "metadata": {
        "id": "j7rY3HYPYUzT"
      },
      "execution_count": null,
      "outputs": []
    },
    {
      "cell_type": "markdown",
      "source": [
        "# Exercícios"
      ],
      "metadata": {
        "id": "nQ7VZDdjYhtf"
      }
    },
    {
      "cell_type": "markdown",
      "source": [
        "1. Repita os cálculos para diferentes pressões operacionais. Como o grau de avanço da reação depende da pressão de operação? Por que este é o caso?\n",
        "2. Repita os cálculos para diferentes taxas de alimentação para água e metano. Como o grau de avanço da reação depende da razão de alimentação da água?"
      ],
      "metadata": {
        "id": "GKe4bpjoYmcq"
      }
    },
    {
      "cell_type": "code",
      "source": [
        ""
      ],
      "metadata": {
        "id": "4SNyNdANYd3y"
      },
      "execution_count": null,
      "outputs": []
    }
  ]
}