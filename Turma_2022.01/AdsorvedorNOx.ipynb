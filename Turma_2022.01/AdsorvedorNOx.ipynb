{
  "nbformat": 4,
  "nbformat_minor": 0,
  "metadata": {
    "colab": {
      "name": "AdsorvedorNOx.ipynb",
      "provenance": [],
      "toc_visible": true
    },
    "kernelspec": {
      "name": "python3",
      "display_name": "Python 3"
    },
    "language_info": {
      "name": "python"
    }
  },
  "cells": [
    {
      "cell_type": "markdown",
      "source": [
        "## Apresentação\n",
        "\n",
        "Esse notebook demonstra o cálculo de balanço de massa para um adsorvedor de NOx utilizado para atender aos padrões de qualidade do ar para óxidos de nitrogênio na exaustão de caminhões e automóveis movidos a diesel. Adsorvedores de NOx são dispositivos usados para reduzir as emissões de óxidos de nitrogênio (NO e NO2)."
      ],
      "metadata": {
        "id": "K5s3CV8YFzxe"
      }
    },
    {
      "cell_type": "markdown",
      "source": [
        "## Problema Proposto\n",
        "\n",
        "Alguns fabricantes de carros e caminhões a diesel, incluindo Volkswagen e outros, introduziram adsorvedores $NO_x$ (LNT) em sistemas de exaustão para atender aos rigorosos padrões de qualidade do ar para óxidos de nitrogênio.\n",
        "\n",
        "Um LNT inclui uma pequena quantidade de platina ($Pt$) em uma camada de óxido de bário ($BaO$) espalhada sobre um monólito cerâmico. Sob condições de combustível pobre, $NO$ é convertido em $NO_2$ pela reação\n",
        "\n",
        "$$NO \\, (g) + \\frac{1}{2} O_2 \\,(g) \\longrightarrow NO_2 \\,(g)$$\n",
        "\n",
        "catalisada por $Pt$. O dióxido de nitrogênio é então adsorvido na \"armadilha\" pela reação \n",
        "\n",
        "$$BaO\\,(s) + 2\\,NO_2\\,(g) + \\frac{1}{2}\\,O_2\\,(g) \\longrightarrow Ba(NO_3)_2\\,(s)$$\n",
        "\n",
        "O adsorvedor deve ser regenerado uma vez que tenha sido saturado com óxidos de nitrogênio. Para regenerar, uma pequena quantidade de óleo diesel para liberar o $NO_x$ reage com os hidrocarbonetos para formar água e nitrogênio.\n",
        "\n",
        "Considere um LNT operando com uma vazão total de 1 kg/min com 850ppm $NO$, 150ppm $NO_2$ e $O_2$ em excesso substancial.\n",
        "\n",
        "<img src=\"https://github.com/amandalemette/ENG1818/blob/4982c629f4dbce8a4d5fed7c8dda4c7641a5b682/Imagens/im2.png?raw=true\"  width=400 height=100 />\n",
        "\n",
        "Informação adicional:\n",
        "\n",
        "|    Espécies  |  MW   |\n",
        "|  :-------------  | ---: |\n",
        "| $Ba(NO_3)_2$ | 261.3 |\n",
        "| $BaO$        | 153.3 |\n",
        "| $NO$         | 30.0  |\n",
        "| $NO_2$       | 46.0  |\n",
        "| $O_2$        | 32.0  |\n",
        "\n",
        "O gás de exaustão deve ser reduzido para 50ppm $NO$ sem $NO_2$ residual.\n",
        "\n",
        "1. Identifique as variáveis relevantes. Faça uma análise de grau de liberdade.\n",
        "2. Calcule o grau de avanço da reação. Certifique-se de mostrar unidades.\n",
        "3. O adsorvedor é inicialmente carregado com 100 gramas de $BaO$. Quanto tempo leva para que a armadilha seja regenerada?                                          "
      ],
      "metadata": {
        "id": "tqxwNhS-GRCF"
      }
    },
    {
      "cell_type": "markdown",
      "source": [
        "### Etapa 1: Análise de Graus de Liberdade\n",
        "\n",
        "As variáveis relevantes foram rotuladas no diagrama a seguir. As especificações de entrada foram traduzidas para taxas de fluxo. O fluxo de saída de $NO_2$ é zero, e o fluxo de $\\dot{m}_{{NO},2}$ é 50 ppm do fluxo de massa total de saída.\n",
        "\n",
        "\n",
        "<img src=\"https://github.com/amandalemette/ENG1818/blob/c4ff113eda5e606d446569990d0987449080758a/Imagens/im3.png?raw=true\"  width=400 height=110 />"
      ],
      "metadata": {
        "id": "ZSXoAnCLH3ct"
      }
    },
    {
      "cell_type": "markdown",
      "source": [
        "| Variáveis |    |\n",
        "| :-------- | -: |\n",
        "| Correntes (variáveis) | 6\n",
        "| Variáveis de Acúmulo | 2\n",
        "| Grau de avanço de reação | 2\n",
        "| TOTAL de variáveis | 10\n",
        "\n",
        "| Equações |    |\n",
        "| :-------- | -: |\n",
        "| Balanços de massa | 5\n",
        "| Especificações de Entrada | 2\n",
        "| Especificações de Saída | 2\n",
        "| TOTAL de equações | 9\n",
        "\n",
        "$$ GL = Variáveis - Equações = 10 - 9 = \\fbox{1}$$"
      ],
      "metadata": {
        "id": "mOXsQnjYI-B7"
      }
    },
    {
      "cell_type": "markdown",
      "source": [
        "### Etapa 2: Balanços de Massa"
      ],
      "metadata": {
        "id": "bPK4JWxBJT6N"
      }
    },
    {
      "cell_type": "markdown",
      "source": [
        "<img src=\"https://github.com/amandalemette/ENG1818/blob/c4ff113eda5e606d446569990d0987449080758a/Imagens/im3.png?raw=true\"  width=400 height=110 />"
      ],
      "metadata": {
        "id": "abNLPyEbJlEZ"
      }
    },
    {
      "cell_type": "markdown",
      "source": [
        "\\begin{align*}\n",
        "\\dot{r}_{Ba(NO_3)_2} & = M_{Ba(NO_3)_2}\\dot{\\xi}_2 \\\\\n",
        "\\dot{r}_{BaO} & = -M_{BaO}\\dot{\\xi}_2 \\\\\n",
        "0 & = \\dot{m}_{{NO},1} - \\dot{m}_{{NO},2} - M_{NO} \\dot{\\xi}_1 \\\\\n",
        "0 & = \\dot{m}_{{NO_2},1} - \\dot{m}_{{NO_2},2} + M_{NO_2} \\dot{\\xi}_1 - 2 M_{NO_2} \\dot{\\xi}_2 \\\\\n",
        "0 & = \\dot{m}_{{O_2},1} - \\dot{m}_{{O_2},2} - \\frac{1}{2}M_{O_2}\\dot{\\xi}_1 - \\frac{1}{2}M_{O_2}\\dot{\\xi}_2 \\\\ \n",
        "\\end{align*}\n",
        "\n",
        "A vazão mássica da corrente 2 é essencialmente 1 kg/min pois somente uma pequena parte é reativa. Os balanços materiais para $NO$ e $NO_2$ correspondem a\n",
        "\n",
        "\\begin{align*}\n",
        "0 & = \\underbrace{\\dot{m}_{{NO},1}}_{0.85\\ g/min} - \\underbrace{\\dot{m}_{{NO},2}}_{0.05\\ g/min} - \\underbrace{M_{NO}}_{30.0} \\dot{\\xi}_1 \\\\\n",
        "0 & = \\underbrace{\\dot{m}_{{NO_2},1}}_{0.15\\ g/min} - \\underbrace{\\dot{m}_{{NO_2},2}}_{0\\ g/min} + \\underbrace{M_{NO_2}}_{46.0} \\dot{\\xi}_1 - 2 \\underbrace{M_{NO_2}}_{46.0} \\dot{\\xi}_2 \\\\\n",
        "\\end{align*}\n",
        "\n",
        "Resolvendo a primeira equação\n",
        "\n",
        "\\begin{align*}\n",
        "\\dot{\\xi}_1 = \\frac{\\dot{m}_{{NO},1} - \\dot{m}_{{NO},2}}{M_{NO}} = \\frac{0.85\\ g/min - 0.05\\ g/min}{30.0\\ g/gmol} = \\fbox{0.0267 gmol/min}\n",
        "\\end{align*}\n",
        "\n",
        "resolvendo a segunda\n",
        "\n",
        "\\begin{align*}\n",
        "\\dot{\\xi}_2 = \\frac{0.15\\ g/min + 46.0\\ g/gmol\\times 0.0267\\ gmol/min}{2\\times 46.0 g/gmol} = \\fbox{0.015 gmol/min}\n",
        "\\end{align*}"
      ],
      "metadata": {
        "id": "3s1f-4P4Jajr"
      }
    },
    {
      "cell_type": "markdown",
      "source": [
        "### Etapa 3: Taxa de consumo de $BaO$\n",
        "\n",
        "\\begin{align*}\n",
        "\\dot{r}_{Ba(NO_3)_2} = M_{Ba(NO_3)_2}\\dot{\\xi}_2 = 153.3 \\times 0.015\\ gmol/min = \\fbox{2.3 g/min}\n",
        "\\end{align*}\n",
        "\n",
        "então 100 g de ${BaO}$ serão necessários para regenerar em \n",
        "\n",
        "\\begin{align*}\n",
        "t = \\frac{100\\ g}{2.3\\ g/min} = \\fbox{43.6 min}\n",
        "\\end{align*}"
      ],
      "metadata": {
        "id": "cer9RlZgKsdn"
      }
    },
    {
      "cell_type": "code",
      "execution_count": null,
      "metadata": {
        "id": "MHs8LE8CE4Pr"
      },
      "outputs": [],
      "source": [
        ""
      ]
    }
  ]
}