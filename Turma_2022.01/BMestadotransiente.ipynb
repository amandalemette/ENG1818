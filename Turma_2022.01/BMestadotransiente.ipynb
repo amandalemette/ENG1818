{
  "nbformat": 4,
  "nbformat_minor": 0,
  "metadata": {
    "colab": {
      "name": "BMestadotransiente.ipynb",
      "provenance": [],
      "collapsed_sections": [],
      "toc_visible": true
    },
    "kernelspec": {
      "name": "python3",
      "display_name": "Python 3"
    },
    "language_info": {
      "name": "python"
    }
  },
  "cells": [
    {
      "cell_type": "markdown",
      "source": [
        "# Balanço Material em Estado Transiente"
      ],
      "metadata": {
        "id": "K_V-pnLG8j7o"
      }
    },
    {
      "cell_type": "markdown",
      "source": [
        "## Apresentação\n",
        "\n",
        "Este notebook demonstra a aplicação das equações gerais de balanço material para uma variedade de problemas."
      ],
      "metadata": {
        "id": "nHHxoDMJ8nDG"
      }
    },
    {
      "cell_type": "markdown",
      "source": [
        "## Balanço Material em Estado Transiente"
      ],
      "metadata": {
        "id": "5uUqvdjJ80Wp"
      }
    },
    {
      "cell_type": "markdown",
      "source": [
        "O princípio geral dos balanços materiais é expresso em palavras como\n",
        "\n",
        "Acumulo = Entrada - Saída + Geração - Consumo\n",
        "\n",
        "Uma equação como essa pode ser escrita para qualquer quantidade conservada, sejam espécies químicas com as quais os engenheiros químicos ou bioengenheiros trabalham, dinheiro no caso de finanças ou populações para cientistas sociais. Sempre que os termos do lado direito da equação não produzem um resultado zero, ficamos com um equilíbrio _instável_, que são alguns dos problemas mais fascinantes e desafiadores na prática da engenharia."
      ],
      "metadata": {
        "id": "XoZYmUMI83IC"
      }
    },
    {
      "cell_type": "markdown",
      "source": [
        "## Exemplo 1: Crescimento Populacional"
      ],
      "metadata": {
        "id": "0XkGyvYk9C3L"
      }
    },
    {
      "cell_type": "markdown",
      "source": [
        "O primeiro exemplo diz respeito ao crescimento populacional. Observando as taxas de natalidade e mortalidade em vários países do globo, deparamo-nos com os seguintes dados mantidos pelo Banco Mundial.\n",
        "\n",
        "Para o Afeganistão (o primeiro país nos gráficos do Banco Mundial), a população de 2019 foi estimada em 31.802.480 com uma [taxa de natalidade de 17,888 nascimentos por ano por 1.000 pessoas](http://data.worldbank.org/indicator/SP.DYN.CBRT.IN) e uma [taxa de mortalidade de 7,524 por ano por 1.000](http://data.worldbank.org/indicator/SP.DYN.CDRT.IN). Supondo que não haja imigração ou emigração, podemos prever a população em 2022?"
      ],
      "metadata": {
        "id": "LFwL7J-P9F9z"
      }
    },
    {
      "cell_type": "markdown",
      "source": [
        "### Equação de balanço populacional\n"
      ],
      "metadata": {
        "id": "9SSkmYZU95n6"
      }
    },
    {
      "cell_type": "markdown",
      "source": [
        "Escrevendo a equação de balanço, temos\n",
        "\n",
        "$\\underbrace{\\mbox{Acumulo}}_{\\frac{dP}{dt}} = \\underbrace{\\mbox{Entrada}}_{=0} - \\underbrace{\\mbox{Saida}}_{=0} + \\underbrace{\\mbox{Generacao}}_{nascimento=\\frac{17.888}{1000}P} - \\underbrace{\\mbox{Consumo}}_{morte=\\frac{7.524}{1000}P}$\n",
        "\n",
        "A combinação algébrica dos dois termos na direita resulta em \n",
        "\n",
        "$\\frac{dP}{dt} = 0.10364\\,P$\n",
        "\n",
        "with an initial condition $P(2019) = 31,802,480$. "
      ],
      "metadata": {
        "id": "RUfR3P0--CBw"
      }
    },
    {
      "cell_type": "markdown",
      "source": [
        "### Solução Algébrica"
      ],
      "metadata": {
        "id": "LgN0x_3eCfce"
      }
    },
    {
      "cell_type": "markdown",
      "source": [
        "Usaremos a notação abreviada $t_0 = 2019$ e $P(t_0) = 31.802.480$. Em seguida, separando as variáveis\n",
        "\n",
        "$\\int_{P(t_0)}^{P(t)}\\frac{1}{P}\\,dP = 0.10364\\,\\int_{t_0}^t dt $\n",
        "\n",
        "Fazer as integrais\n",
        "\n",
        "$P(t) = P(t_0)\\,e^{0.10364(t-t_0)}$\n",
        "\n",
        "Esta solução demonstra o crescimento exponencial das populações em circunstâncias em que a taxa de crescimento é constante e não há outros fatores a serem considerados."
      ],
      "metadata": {
        "id": "zFDBNVoACh14"
      }
    },
    {
      "cell_type": "code",
      "execution_count": 3,
      "metadata": {
        "colab": {
          "base_uri": "https://localhost:8080/",
          "height": 312
        },
        "id": "ClwaJCkZ8gYg",
        "outputId": "cd5ce019-92a6-43f3-cbd7-877dd5f26783"
      },
      "outputs": [
        {
          "output_type": "execute_result",
          "data": {
            "text/plain": [
              "Text(0.5, 1.0, 'Proj. Population in Afganistan 2019 to 2022')"
            ]
          },
          "metadata": {},
          "execution_count": 3
        },
        {
          "output_type": "display_data",
          "data": {
            "image/png": "[encoded data removed]",
            "text/plain": [
              "<Figure size 432x288 with 1 Axes>"
            ]
          },
          "metadata": {
            "needs_background": "light"
          }
        }
      ],
      "source": [
        "%matplotlib inline\n",
        "import matplotlib.pyplot as plt\n",
        "import numpy as np\n",
        "from scipy.integrate import odeint\n",
        "\n",
        "P_0 = 31802480\n",
        "t_0 = 2019\n",
        "t_1 = 2022\n",
        "\n",
        "t = np.linspace(t_0,t_1)\n",
        "P = P_0*np.exp(0.10364*(t-t_0))\n",
        "\n",
        "plt.plot(t,P)\n",
        "plt.xlabel('Year')\n",
        "plt.ylabel('Count')\n",
        "plt.title(\"Proj. Population in Afganistan {:4d} to {:4d}\".format(t_0,t_1))"
      ]
    },
    {
      "cell_type": "markdown",
      "source": [
        "### Solução Numérica"
      ],
      "metadata": {
        "id": "hXeOjZRNDzMV"
      }
    },
    {
      "cell_type": "markdown",
      "source": [
        "Outra maneira de gerar soluções para problemas de estado transiente é pela solução numérica direta das equações diferenciais. Isso exige que configuremos uma função para avaliar numericamente o lado direito da equação diferencial. Essa função, juntamente com as condições iniciais e uma lista de valores de tempo para os quais queremos conhecer a solução, são passadas para um solver que faz o trabalho pesado."
      ],
      "metadata": {
        "id": "hstUiBvtD1e9"
      }
    },
    {
      "cell_type": "markdown",
      "source": [
        "#### Etapa 1. Sete uma função para avaliar o RHS da equação diferencial."
      ],
      "metadata": {
        "id": "9qxs3N62EKax"
      }
    },
    {
      "cell_type": "code",
      "source": [
        "def Inflow(t) : return 0\n",
        "def Outflow(t): return 0\n",
        "def Births(P) : return (17.888/1000)*P\n",
        "def Deaths(P) : return (7.524/1000)*P\n",
        "\n",
        "def Accumulation(P,t) : return Inflow(t) - Outflow(t) + Births(P) - Deaths(P)"
      ],
      "metadata": {
        "id": "Zm23xMT2-lR7"
      },
      "execution_count": 4,
      "outputs": []
    },
    {
      "cell_type": "markdown",
      "source": [
        "#### Etapa 2. Estabeleça a condição inicial e os valores de tempo para uma solução desejada."
      ],
      "metadata": {
        "id": "cKENTJA8EV-v"
      }
    },
    {
      "cell_type": "code",
      "source": [
        "P_0 = 31802480\n",
        "t_0 = 2019\n",
        "t_1 = 2022\n",
        "t = np.linspace(t_0,t_1)"
      ],
      "metadata": {
        "id": "riXnMsNwEUy8"
      },
      "execution_count": 5,
      "outputs": []
    },
    {
      "cell_type": "markdown",
      "source": [
        "#### Etapa 3. Passe essas informações para um solver para calcular os valores da solução."
      ],
      "metadata": {
        "id": "g8OvHVjyE0GH"
      }
    },
    {
      "cell_type": "markdown",
      "source": [
        "O pacote `SciPy` fornece uma série de ferramentas para a solução numérica de equações diferenciais. Destes, talvez o mais fácil de usar seja o `odeint` que é demonstrado aqui. `odeint` precisa ser importado de `scipy.integrate` e, em seguida, receber três informações:\n",
        "\n",
        "1. Uma função que recebe dois argumentos. O primeiro argumento é o valor da quantidade que estamos tentando integrar e o segundo é o tempo. A função deve retornar o valor do lado direito das equações diferenciais.\n",
        "2. O valor inicial da quantidade que estamos tentando integrar.\n",
        "3. Uma lista de momentos em que desejamos avaliar a solução. O primeiro valor na lista deve ser o valor inicial de tempo."
      ],
      "metadata": {
        "id": "Hc6QQOJYE5a2"
      }
    },
    {
      "cell_type": "code",
      "source": [
        "P = odeint(Accumulation,P_0,t)"
      ],
      "metadata": {
        "id": "aKTIlW2lEv-m"
      },
      "execution_count": 6,
      "outputs": []
    },
    {
      "cell_type": "markdown",
      "source": [
        "#### Etapa 4: Plote o resultado"
      ],
      "metadata": {
        "id": "21_G341UFBlw"
      }
    },
    {
      "cell_type": "code",
      "source": [
        "plt.plot(t,P)\n",
        "plt.xlabel('Year')\n",
        "plt.ylabel('Population')\n",
        "plt.title('Afghanistan')"
      ],
      "metadata": {
        "colab": {
          "base_uri": "https://localhost:8080/",
          "height": 312
        },
        "id": "ajDDxMPDFAFW",
        "outputId": "d8cdc316-0162-4ccc-9a2c-f0ee843309f2"
      },
      "execution_count": 7,
      "outputs": [
        {
          "output_type": "execute_result",
          "data": {
            "text/plain": [
              "Text(0.5, 1.0, 'Afghanistan')"
            ]
          },
          "metadata": {},
          "execution_count": 7
        },
        {
          "output_type": "display_data",
          "data": {
            "image/png": "[encoded data removed]",
            "text/plain": [
              "<Figure size 432x288 with 1 Axes>"
            ]
          },
          "metadata": {
            "needs_background": "light"
          }
        }
      ]
    },
    {
      "cell_type": "markdown",
      "source": [
        "## Exemplo 2: Diluição de um Traço (marcador) Contaminante"
      ],
      "metadata": {
        "id": "EbAEs2dpFMQ7"
      }
    },
    {
      "cell_type": "markdown",
      "source": [
        "Temos um tanque parcialmente cheio com um volume inicial V(t<sub>0</sub>) = 1000 litros de água que está contaminada por uma espécie tóxica $X$ em uma concentração C<sub>X</sub>(t< sub>0</sub>) = 100 ppm por volume. Desejamos diluir isso para 20 ppm por volume antes de enviá-lo para limpeza adicional. Sabemos que adicionar 4.000 litros de água atingiria a meta, mas para fins de monitoramento do processo, gostaríamos de calcular a concentração em função do tempo, assumindo que a água entra a uma taxa constante de q(t) = 1 litro/segundo.\n",
        "\n",
        "A quantidade total de $X$ no tanque é o produto da concentração pelo volume, que é C<sub>X</sub>V. O balanço material para $X$ é\n",
        "\n",
        "Para o componente X: $\\underbrace{\\mbox{Accumulation}_X}_{\\frac{d(C_XV)}{dt}} = \\underbrace{\\mbox{Inflow}_X}_{=0} - \\underbrace{\\mbox{Outflow}_X}_{=0} + \\underbrace{\\mbox{Generation}_X}_{=0} - \\underbrace{\\mbox{Consumption}_X}_{=0}$\n",
        "\n",
        "Este é um sistema de dois componentes, então precisamos de dois balanços materiais. Faremos o segundo balanço no volume total assumindo que a densidade é uma constante nesta solução diluída. O saldo geral é\n",
        "\n",
        "Para o volume total: $\\underbrace{\\mbox{Acumulação}}_{\\frac{dV}{dt}} = \\underbrace{\\mbox{Inflow}}_{=q} - \\underbrace{\\mbox{Outflow}} _{=0} + \\underbrace{\\mbox{Generation}}_{=0} - \\underbrace{\\mbox{Consumption}}_{=0}$\n",
        "\n",
        "Isso nos dá um par de equações diferenciais\n",
        "\n",
        "$\\begin{align*}\n",
        "\\frac{d(C_XV)}{dt} & = 0 \\\\\n",
        "\\frac{dV}{dt} & = q\n",
        "\\end{align*}$\n",
        "\n",
        "O que estamos procurando é C<sub>X</sub>. Mas o que temos são equações diferenciais para produto (C<sub>X</sub>V) e volume V. Como podemos obter uma equação diferencial para C<sub>X</sub>?\n",
        "\n",
        "Usando a regra da cadeia\n",
        "\n",
        "$\\frac{d(C_XV)}{dt} = C_X\\,\\underbrace{\\frac{dV}{dt}}_{=q} + V\\,\\frac{dC_X}{dt} = 0$\n",
        "\n",
        "Substituindo na segunda equação nos deixa com um par de equações diferenciais\n",
        "\n",
        "$\\begin{align*}\n",
        "\\frac{dC_X}{dt} & = -\\frac{q}{V} C_X \\\\\n",
        "\\frac{dV}{dt} & = q\n",
        "\\end{align*}$"
      ],
      "metadata": {
        "id": "oYePaB2AFUta"
      }
    },
    {
      "cell_type": "code",
      "source": [
        "# parameter values\n",
        "q = 1          # liters/second\n",
        "\n",
        "# initial conditions\n",
        "C_0 = 100      # ppm\n",
        "V_0 = 1000     # liters\n",
        "\n",
        "# time grid in seconds\n",
        "t = np.linspace(0,4000)\n",
        "\n",
        "# compute list of derivative values\n",
        "def deriv(X,t):\n",
        "    C,V = X\n",
        "    return [-q*C/V,q]\n",
        "\n",
        "# solve with odeint\n",
        "soln = odeint(deriv,[C_0,V_0],t)\n",
        "\n",
        "# display the result\n",
        "plt.plot(t,soln[:,0])\n",
        "plt.xlabel('Time [seconds]')\n",
        "plt.ylabel('[ppm/v]')\n",
        "plt.title('Concentration of X')"
      ],
      "metadata": {
        "colab": {
          "base_uri": "https://localhost:8080/",
          "height": 312
        },
        "id": "NrDjOUpXFGZF",
        "outputId": "abad802c-a722-4231-a593-177716714a40"
      },
      "execution_count": 8,
      "outputs": [
        {
          "output_type": "execute_result",
          "data": {
            "text/plain": [
              "Text(0.5, 1.0, 'Concentration of X')"
            ]
          },
          "metadata": {},
          "execution_count": 8
        },
        {
          "output_type": "display_data",
          "data": {
            "image/png": "[encoded data removed]",
            "text/plain": [
              "<Figure size 432x288 with 1 Axes>"
            ]
          },
          "metadata": {
            "needs_background": "light"
          }
        }
      ]
    },
    {
      "cell_type": "code",
      "source": [
        ""
      ],
      "metadata": {
        "id": "ymnc-1XQGBcw"
      },
      "execution_count": null,
      "outputs": []
    }
  ]
}