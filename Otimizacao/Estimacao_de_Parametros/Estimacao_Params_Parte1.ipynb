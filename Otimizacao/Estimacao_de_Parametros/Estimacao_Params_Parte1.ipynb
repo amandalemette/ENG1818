{
 "cells": [
  {
   "cell_type": "markdown",
   "metadata": {},
   "source": [
    "https://www.youtube.com/watch?v=rL7Mvl2-XIM"
   ]
  },
  {
   "cell_type": "markdown",
   "metadata": {},
   "source": [
    "# Importação de bibliotecas"
   ]
  },
  {
   "cell_type": "code",
   "execution_count": 1,
   "metadata": {
    "ExecuteTime": {
     "end_time": "2021-11-10T20:21:36.047990Z",
     "start_time": "2021-11-10T20:21:34.168302Z"
    }
   },
   "outputs": [],
   "source": [
    "import numpy as np # criação e manipulação de vetores\n",
    "import matplotlib.pyplot as plt # graficos\n",
    "import pandas as pd # read csv file"
   ]
  },
  {
   "cell_type": "markdown",
   "metadata": {},
   "source": [
    "# Formatação para gráficos"
   ]
  },
  {
   "cell_type": "code",
   "execution_count": 2,
   "metadata": {
    "ExecuteTime": {
     "end_time": "2021-11-10T20:21:49.131099Z",
     "start_time": "2021-11-10T20:21:49.126590Z"
    }
   },
   "outputs": [],
   "source": [
    "ft = 16\n",
    "plt.rcParams.update({'font.size':ft})"
   ]
  },
  {
   "cell_type": "markdown",
   "metadata": {},
   "source": [
    "# Leitura de base de dados"
   ]
  },
  {
   "cell_type": "code",
   "execution_count": 3,
   "metadata": {
    "ExecuteTime": {
     "end_time": "2021-11-10T20:21:52.816892Z",
     "start_time": "2021-11-10T20:21:52.013951Z"
    }
   },
   "outputs": [],
   "source": [
    "df = pd.read_excel('data.xlsx')"
   ]
  },
  {
   "cell_type": "code",
   "execution_count": 4,
   "metadata": {
    "ExecuteTime": {
     "end_time": "2021-11-10T20:21:53.432021Z",
     "start_time": "2021-11-10T20:21:53.415593Z"
    }
   },
   "outputs": [
    {
     "data": {
      "text/html": [
       "<div>\n",
       "<style scoped>\n",
       "    .dataframe tbody tr th:only-of-type {\n",
       "        vertical-align: middle;\n",
       "    }\n",
       "\n",
       "    .dataframe tbody tr th {\n",
       "        vertical-align: top;\n",
       "    }\n",
       "\n",
       "    .dataframe thead th {\n",
       "        text-align: right;\n",
       "    }\n",
       "</style>\n",
       "<table border=\"1\" class=\"dataframe\">\n",
       "  <thead>\n",
       "    <tr style=\"text-align: right;\">\n",
       "      <th></th>\n",
       "      <th>T</th>\n",
       "      <th>k</th>\n",
       "    </tr>\n",
       "  </thead>\n",
       "  <tbody>\n",
       "    <tr>\n",
       "      <th>0</th>\n",
       "      <td>300</td>\n",
       "      <td>6706</td>\n",
       "    </tr>\n",
       "    <tr>\n",
       "      <th>1</th>\n",
       "      <td>298</td>\n",
       "      <td>6698</td>\n",
       "    </tr>\n",
       "    <tr>\n",
       "      <th>2</th>\n",
       "      <td>330</td>\n",
       "      <td>6657</td>\n",
       "    </tr>\n",
       "    <tr>\n",
       "      <th>3</th>\n",
       "      <td>349</td>\n",
       "      <td>6880</td>\n",
       "    </tr>\n",
       "    <tr>\n",
       "      <th>4</th>\n",
       "      <td>364</td>\n",
       "      <td>6791</td>\n",
       "    </tr>\n",
       "    <tr>\n",
       "      <th>5</th>\n",
       "      <td>353</td>\n",
       "      <td>6917</td>\n",
       "    </tr>\n",
       "    <tr>\n",
       "      <th>6</th>\n",
       "      <td>370</td>\n",
       "      <td>7087</td>\n",
       "    </tr>\n",
       "    <tr>\n",
       "      <th>7</th>\n",
       "      <td>378</td>\n",
       "      <td>7043</td>\n",
       "    </tr>\n",
       "    <tr>\n",
       "      <th>8</th>\n",
       "      <td>373</td>\n",
       "      <td>7175</td>\n",
       "    </tr>\n",
       "    <tr>\n",
       "      <th>9</th>\n",
       "      <td>395</td>\n",
       "      <td>7236</td>\n",
       "    </tr>\n",
       "    <tr>\n",
       "      <th>10</th>\n",
       "      <td>421</td>\n",
       "      <td>7301</td>\n",
       "    </tr>\n",
       "    <tr>\n",
       "      <th>11</th>\n",
       "      <td>446</td>\n",
       "      <td>7200</td>\n",
       "    </tr>\n",
       "    <tr>\n",
       "      <th>12</th>\n",
       "      <td>457</td>\n",
       "      <td>7379</td>\n",
       "    </tr>\n",
       "    <tr>\n",
       "      <th>13</th>\n",
       "      <td>466</td>\n",
       "      <td>7484</td>\n",
       "    </tr>\n",
       "  </tbody>\n",
       "</table>\n",
       "</div>"
      ],
      "text/plain": [
       "      T     k\n",
       "0   300  6706\n",
       "1   298  6698\n",
       "2   330  6657\n",
       "3   349  6880\n",
       "4   364  6791\n",
       "5   353  6917\n",
       "6   370  7087\n",
       "7   378  7043\n",
       "8   373  7175\n",
       "9   395  7236\n",
       "10  421  7301\n",
       "11  446  7200\n",
       "12  457  7379\n",
       "13  466  7484"
      ]
     },
     "execution_count": 4,
     "metadata": {},
     "output_type": "execute_result"
    }
   ],
   "source": [
    "df"
   ]
  },
  {
   "cell_type": "markdown",
   "metadata": {},
   "source": [
    "A estimação de parâmetros envolve o ajuste de parâmetros em um modelo e refere-se a um problema de otimização. \n",
    "\n",
    "Em muitos casos, uma equação diferencial linear de primeira ordem pode aproximar a evolução de muitos sistemas. Os parâmetros desconhecidos para o sistema que iremos estudar como estudo de caso incluem o fator pré-exponencial ($A$) e a energia de ativação ($E_a$)."
   ]
  },
  {
   "cell_type": "markdown",
   "metadata": {},
   "source": [
    "Nosso modelo:"
   ]
  },
  {
   "cell_type": "markdown",
   "metadata": {},
   "source": [
    "$$\n",
    "k(T) = A\\cdot e^{-\\frac{E_a}{RT}}\n",
    "$$"
   ]
  },
  {
   "cell_type": "code",
   "execution_count": 5,
   "metadata": {
    "ExecuteTime": {
     "end_time": "2021-11-10T20:22:53.627974Z",
     "start_time": "2021-11-10T20:22:53.624558Z"
    }
   },
   "outputs": [],
   "source": [
    "R = 8.31451"
   ]
  },
  {
   "cell_type": "markdown",
   "metadata": {},
   "source": [
    "O conjunto de dados em df corresponde a dados medidos experimentalmente."
   ]
  },
  {
   "cell_type": "code",
   "execution_count": 6,
   "metadata": {
    "ExecuteTime": {
     "end_time": "2021-11-10T20:23:42.523676Z",
     "start_time": "2021-11-10T20:23:41.356257Z"
    }
   },
   "outputs": [
    {
     "data": {
      "image/png": "[encoded data removed]",
      "text/plain": [
       "<Figure size 432x288 with 1 Axes>"
      ]
     },
     "metadata": {
      "needs_background": "light"
     },
     "output_type": "display_data"
    }
   ],
   "source": [
    "color1 = 'blue'\n",
    "plt.xlabel('T ($K$)')\n",
    "plt.ylabel('k(T)')\n",
    "plt.scatter(df['T'],df['k'],c = color1,marker = 'o',s = 8)\n",
    "\n",
    "plt.savefig('OriginalData.png',format='png',dpi = 600,bbox_inches = 'tight')\n",
    "plt.show()"
   ]
  },
  {
   "cell_type": "markdown",
   "metadata": {},
   "source": [
    "# Apresentação do problema a ser resolvido"
   ]
  },
  {
   "cell_type": "markdown",
   "metadata": {},
   "source": [
    "Ajuste os dados a um sistema linear de primeira ordem estimando $E_a$ e $A$. Determine os intervalos de confiança de $95 \\%$ e $99 \\%$ para os parâmetros."
   ]
  },
  {
   "cell_type": "markdown",
   "metadata": {},
   "source": [
    "# Começando a pensar no problema de estimação de parâmetros..."
   ]
  },
  {
   "cell_type": "code",
   "execution_count": 8,
   "metadata": {
    "ExecuteTime": {
     "end_time": "2021-11-10T20:26:36.773653Z",
     "start_time": "2021-11-10T20:26:36.766483Z"
    }
   },
   "outputs": [
    {
     "data": {
      "text/plain": [
       "0     300\n",
       "1     298\n",
       "2     330\n",
       "3     349\n",
       "4     364\n",
       "5     353\n",
       "6     370\n",
       "7     378\n",
       "8     373\n",
       "9     395\n",
       "10    421\n",
       "11    446\n",
       "12    457\n",
       "13    466\n",
       "Name: T, dtype: int64"
      ]
     },
     "execution_count": 8,
     "metadata": {},
     "output_type": "execute_result"
    }
   ],
   "source": [
    "df['T']"
   ]
  },
  {
   "cell_type": "code",
   "execution_count": 7,
   "metadata": {
    "ExecuteTime": {
     "end_time": "2021-11-10T20:25:05.418701Z",
     "start_time": "2021-11-10T20:25:05.413404Z"
    }
   },
   "outputs": [],
   "source": [
    "modelo = lambda k1,k2,Temp: k1*np.exp(-k2/(R*Temp))"
   ]
  },
  {
   "cell_type": "code",
   "execution_count": 9,
   "metadata": {
    "ExecuteTime": {
     "end_time": "2021-11-10T20:27:30.108534Z",
     "start_time": "2021-11-10T20:27:30.104019Z"
    }
   },
   "outputs": [],
   "source": [
    "def simulacao(par,T_K):\n",
    "    dftemp = df.copy()\n",
    "    dftemp['km'] = modelo(par[0],par[1],T_K) # km = k modelo\n",
    "    dftemp['error'] = (dftemp['k'] - dftemp['km'])**2\n",
    "    SSE = dftemp['error'].sum() # residual sum of squares\n",
    "    return SSE,dftemp"
   ]
  },
  {
   "cell_type": "code",
   "execution_count": 10,
   "metadata": {
    "ExecuteTime": {
     "end_time": "2021-11-10T20:27:30.758091Z",
     "start_time": "2021-11-10T20:27:30.744209Z"
    }
   },
   "outputs": [
    {
     "data": {
      "text/plain": [
       "(805697.7383218207,\n",
       "       T     k           km          error\n",
       " 0   300  6706  6697.133021      78.623317\n",
       " 1   298  6698  6679.137658     355.787940\n",
       " 2   330  6657  6945.718927   83358.618594\n",
       " 3   349  6880  7084.909704   41987.986790\n",
       " 4   364  6791  7186.242384  156216.542027\n",
       " 5   353  6917  7112.630504   38271.294073\n",
       " 6   370  7087  7224.850389   19002.729748\n",
       " 7   378  7043  7274.725445   53696.681646\n",
       " 8   373  7175  7243.763838    4728.465419\n",
       " 9   395  7236  7375.029140   19329.101720\n",
       " 10  421  7301  7515.023629   45806.113838\n",
       " 11  446  7200  7636.334208  190387.540649\n",
       " 12  457  7379  7686.062110   94287.139121\n",
       " 13  466  7484  7725.228343   58191.113440)"
      ]
     },
     "execution_count": 10,
     "metadata": {},
     "output_type": "execute_result"
    }
   ],
   "source": [
    "param = [10000,1000]\n",
    "simulacao(param,df['T'])"
   ]
  },
  {
   "cell_type": "markdown",
   "metadata": {},
   "source": [
    "- Vamos testar outros valores de parâmetros para ver se o SSE diminui"
   ]
  },
  {
   "cell_type": "code",
   "execution_count": 11,
   "metadata": {
    "ExecuteTime": {
     "end_time": "2021-11-10T20:28:01.834162Z",
     "start_time": "2021-11-10T20:28:01.818549Z"
    }
   },
   "outputs": [
    {
     "data": {
      "text/plain": [
       "(778211232.543961,\n",
       "       T     k            km         error\n",
       " 0   300  6706  13394.266042  4.473290e+07\n",
       " 1   298  6698  13358.275316  4.435927e+07\n",
       " 2   330  6657  13891.437853  5.233709e+07\n",
       " 3   349  6880  14169.819408  5.314147e+07\n",
       " 4   364  6791  14372.484768  5.747891e+07\n",
       " 5   353  6917  14225.261008  5.341068e+07\n",
       " 6   370  7087  14449.700778  5.420936e+07\n",
       " 7   378  7043  14549.450889  5.634680e+07\n",
       " 8   373  7175  14487.527676  5.347306e+07\n",
       " 9   395  7236  14750.058280  5.646107e+07\n",
       " 10  421  7301  15030.047258  5.973817e+07\n",
       " 11  446  7200  15272.668415  6.516798e+07\n",
       " 12  457  7379  15372.124219  6.389003e+07\n",
       " 13  466  7484  15450.456686  6.346443e+07)"
      ]
     },
     "execution_count": 11,
     "metadata": {},
     "output_type": "execute_result"
    }
   ],
   "source": [
    "param = [20000,1000]\n",
    "simulacao(param,df['T'])"
   ]
  },
  {
   "cell_type": "code",
   "execution_count": 12,
   "metadata": {
    "ExecuteTime": {
     "end_time": "2021-11-10T20:28:19.052360Z",
     "start_time": "2021-11-10T20:28:19.034319Z"
    }
   },
   "outputs": [
    {
     "data": {
      "text/plain": [
       "(438231909.702279,\n",
       "       T     k           km         error\n",
       " 0   300  6706  1339.426604  2.880011e+07\n",
       " 1   298  6698  1335.827532  2.875289e+07\n",
       " 2   330  6657  1389.143785  2.775031e+07\n",
       " 3   349  6880  1416.981941  2.984457e+07\n",
       " 4   364  6791  1437.248477  2.866266e+07\n",
       " 5   353  6917  1422.526101  3.018924e+07\n",
       " 6   370  7087  1444.970078  3.183250e+07\n",
       " 7   378  7043  1454.945089  3.122636e+07\n",
       " 8   373  7175  1448.752768  3.278991e+07\n",
       " 9   395  7236  1475.005828  3.318905e+07\n",
       " 10  421  7301  1503.004726  3.361675e+07\n",
       " 11  446  7200  1527.266842  3.217990e+07\n",
       " 12  457  7379  1537.212422  3.412648e+07\n",
       " 13  466  7484  1545.045669  3.527118e+07)"
      ]
     },
     "execution_count": 12,
     "metadata": {},
     "output_type": "execute_result"
    }
   ],
   "source": [
    "param = [2000,1000]\n",
    "simulacao(param,df['T'])"
   ]
  },
  {
   "cell_type": "markdown",
   "metadata": {},
   "source": [
    "- Bom, é melhor fazermos isso através de um método de otimização. Ele irá procurar o ponto ótimo, vamos lá:"
   ]
  },
  {
   "cell_type": "markdown",
   "metadata": {},
   "source": [
    "# Aplicando modelo de otimização"
   ]
  },
  {
   "cell_type": "markdown",
   "metadata": {},
   "source": [
    "Ver a seguinte referência:\n",
    "- https://docs.scipy.org/doc/scipy/reference/tutorial/optimize.html"
   ]
  },
  {
   "cell_type": "code",
   "execution_count": 13,
   "metadata": {
    "ExecuteTime": {
     "end_time": "2021-11-10T20:31:25.516747Z",
     "start_time": "2021-11-10T20:31:24.864812Z"
    }
   },
   "outputs": [],
   "source": [
    "from scipy.optimize import minimize"
   ]
  },
  {
   "cell_type": "markdown",
   "metadata": {},
   "source": [
    "## Criando nossa função objetivo"
   ]
  },
  {
   "cell_type": "code",
   "execution_count": 14,
   "metadata": {
    "ExecuteTime": {
     "end_time": "2021-11-10T20:31:55.739462Z",
     "start_time": "2021-11-10T20:31:55.729928Z"
    }
   },
   "outputs": [],
   "source": [
    "def Fobj(x):\n",
    "    SSE,df2 = simulacao(x,df['T'])\n",
    "    return SSE"
   ]
  },
  {
   "cell_type": "markdown",
   "metadata": {},
   "source": [
    "Uma vez que criamos nossa função objetivo, sem considerar os erros experimentais, estamos assumindo a hipótese de que os experimentos foram muito bem feitos e os erros experimentais podem ser desprezados. Como a nossa função objetivo é a métrica SSE, a chamamos de **função objetivo de mínimos quadrados**. "
   ]
  },
  {
   "cell_type": "markdown",
   "metadata": {},
   "source": [
    "Para mais informações sobre formulação de função objetivo, consulte as seguintes referências: \n",
    "- [Análise de Dados Experimentais 1: Fundamentos de Estatística e Estimação de Parâmetros, autores: Marcio Schwaab e José Carlos Pinto, editora: e-papers, 2007.](http://www.e-papers.com.br/produtos.asp?codigo_produto=2792)\n",
    "\n",
    "- [wikipedia](https://pt.wikipedia.org/wiki/Método_dos_m%C3%ADnimos_quadrados)"
   ]
  },
  {
   "cell_type": "markdown",
   "metadata": {},
   "source": [
    "## Nelder-Mead Simplex algorithm (method='Nelder-Mead')¶"
   ]
  },
  {
   "cell_type": "code",
   "execution_count": 15,
   "metadata": {
    "ExecuteTime": {
     "end_time": "2021-11-10T20:33:36.734946Z",
     "start_time": "2021-11-10T20:33:36.731029Z"
    }
   },
   "outputs": [],
   "source": [
    "x0 = [2000,1000]"
   ]
  },
  {
   "cell_type": "code",
   "execution_count": 16,
   "metadata": {
    "ExecuteTime": {
     "end_time": "2021-11-10T20:34:42.531096Z",
     "start_time": "2021-11-10T20:34:41.764988Z"
    }
   },
   "outputs": [
    {
     "name": "stdout",
     "output_type": "stream",
     "text": [
      "Optimization terminated successfully.\n",
      "         Current function value: 143607.435777\n",
      "         Iterations: 114\n",
      "         Function evaluations: 234\n"
     ]
    }
   ],
   "source": [
    "resNM = minimize(Fobj, x0, method='nelder-mead',options={'xatol': 1e-8, 'disp': True})"
   ]
  },
  {
   "cell_type": "code",
   "execution_count": 17,
   "metadata": {
    "ExecuteTime": {
     "end_time": "2021-11-10T20:35:19.431611Z",
     "start_time": "2021-11-10T20:35:19.425548Z"
    }
   },
   "outputs": [
    {
     "data": {
      "text/plain": [
       " final_simplex: (array([[9028.49232071,  770.58653614],\n",
       "       [9028.4923207 ,  770.58653614],\n",
       "       [9028.49232071,  770.58653614]]), array([143607.4357767, 143607.4357767, 143607.4357767]))\n",
       "           fun: 143607.43577670038\n",
       "       message: 'Optimization terminated successfully.'\n",
       "          nfev: 234\n",
       "           nit: 114\n",
       "        status: 0\n",
       "       success: True\n",
       "             x: array([9028.49232071,  770.58653614])"
      ]
     },
     "execution_count": 17,
     "metadata": {},
     "output_type": "execute_result"
    }
   ],
   "source": [
    "resNM"
   ]
  },
  {
   "cell_type": "code",
   "execution_count": 18,
   "metadata": {
    "ExecuteTime": {
     "end_time": "2021-11-10T20:35:31.632726Z",
     "start_time": "2021-11-10T20:35:31.622821Z"
    }
   },
   "outputs": [
    {
     "data": {
      "text/plain": [
       "scipy.optimize.optimize.OptimizeResult"
      ]
     },
     "execution_count": 18,
     "metadata": {},
     "output_type": "execute_result"
    }
   ],
   "source": [
    "type(resNM)"
   ]
  },
  {
   "cell_type": "markdown",
   "metadata": {},
   "source": [
    "- Valores ótimos encontrados (A e Ea):"
   ]
  },
  {
   "cell_type": "code",
   "execution_count": 19,
   "metadata": {
    "ExecuteTime": {
     "end_time": "2021-11-10T20:37:36.475403Z",
     "start_time": "2021-11-10T20:37:36.463230Z"
    }
   },
   "outputs": [
    {
     "data": {
      "text/plain": [
       "array([9028.49232071,  770.58653614])"
      ]
     },
     "execution_count": 19,
     "metadata": {},
     "output_type": "execute_result"
    }
   ],
   "source": [
    "resNM.x"
   ]
  },
  {
   "cell_type": "markdown",
   "metadata": {},
   "source": [
    "- Valor final da função objetivo:"
   ]
  },
  {
   "cell_type": "code",
   "execution_count": 20,
   "metadata": {
    "ExecuteTime": {
     "end_time": "2021-11-10T20:37:40.721993Z",
     "start_time": "2021-11-10T20:37:40.715535Z"
    }
   },
   "outputs": [
    {
     "data": {
      "text/plain": [
       "143607.43577670038"
      ]
     },
     "execution_count": 20,
     "metadata": {},
     "output_type": "execute_result"
    }
   ],
   "source": [
    "resNM.fun"
   ]
  },
  {
   "cell_type": "markdown",
   "metadata": {},
   "source": [
    "## Broyden-Fletcher-Goldfarb-Shanno algorithm (method='BFGS')"
   ]
  },
  {
   "cell_type": "code",
   "execution_count": 21,
   "metadata": {
    "ExecuteTime": {
     "end_time": "2021-11-10T20:37:58.831458Z",
     "start_time": "2021-11-10T20:37:58.828529Z"
    }
   },
   "outputs": [],
   "source": [
    "x0 = [2000,1000]"
   ]
  },
  {
   "cell_type": "code",
   "execution_count": 22,
   "metadata": {
    "ExecuteTime": {
     "end_time": "2021-11-10T20:38:00.351873Z",
     "start_time": "2021-11-10T20:37:59.450010Z"
    }
   },
   "outputs": [
    {
     "name": "stdout",
     "output_type": "stream",
     "text": [
      "Warning: Desired error not necessarily achieved due to precision loss.\n",
      "         Current function value: 143607.435779\n",
      "         Iterations: 18\n",
      "         Function evaluations: 255\n",
      "         Gradient evaluations: 82\n"
     ]
    }
   ],
   "source": [
    "resBFGS = minimize(Fobj, x0, method='BFGS',options={'disp': True})"
   ]
  },
  {
   "cell_type": "code",
   "execution_count": 23,
   "metadata": {
    "ExecuteTime": {
     "end_time": "2021-11-10T20:38:49.059766Z",
     "start_time": "2021-11-10T20:38:49.053424Z"
    }
   },
   "outputs": [
    {
     "data": {
      "text/plain": [
       "array([9028.48898945,  770.5854663 ])"
      ]
     },
     "execution_count": 23,
     "metadata": {},
     "output_type": "execute_result"
    }
   ],
   "source": [
    "resBFGS.x"
   ]
  },
  {
   "cell_type": "markdown",
   "metadata": {},
   "source": [
    "## Comparando os métodos de otimização"
   ]
  },
  {
   "cell_type": "code",
   "execution_count": 24,
   "metadata": {
    "ExecuteTime": {
     "end_time": "2021-11-10T20:39:03.874320Z",
     "start_time": "2021-11-10T20:39:03.863854Z"
    },
    "scrolled": true
   },
   "outputs": [],
   "source": [
    "result = pd.DataFrame({'SSE':[resNM.fun,resBFGS.fun],\n",
    "             'A':[resNM.x[0],resBFGS.x[0]],\n",
    "             'Ea':[resNM.x[1],resBFGS.x[1]],\n",
    "             '$N_{it}$':[resNM.nit,resBFGS.nit],\n",
    "             '$N_{fun_{eval}}$':[resNM.nfev,resBFGS.nfev]},\n",
    "             index = ['NM','BFGS'])"
   ]
  },
  {
   "cell_type": "code",
   "execution_count": 25,
   "metadata": {
    "ExecuteTime": {
     "end_time": "2021-11-10T20:39:04.448516Z",
     "start_time": "2021-11-10T20:39:04.434932Z"
    }
   },
   "outputs": [
    {
     "data": {
      "text/html": [
       "<div>\n",
       "<style scoped>\n",
       "    .dataframe tbody tr th:only-of-type {\n",
       "        vertical-align: middle;\n",
       "    }\n",
       "\n",
       "    .dataframe tbody tr th {\n",
       "        vertical-align: top;\n",
       "    }\n",
       "\n",
       "    .dataframe thead th {\n",
       "        text-align: right;\n",
       "    }\n",
       "</style>\n",
       "<table border=\"1\" class=\"dataframe\">\n",
       "  <thead>\n",
       "    <tr style=\"text-align: right;\">\n",
       "      <th></th>\n",
       "      <th>SSE</th>\n",
       "      <th>A</th>\n",
       "      <th>Ea</th>\n",
       "      <th>$N_{it}$</th>\n",
       "      <th>$N_{fun_{eval}}$</th>\n",
       "    </tr>\n",
       "  </thead>\n",
       "  <tbody>\n",
       "    <tr>\n",
       "      <th>NM</th>\n",
       "      <td>143607.435777</td>\n",
       "      <td>9028.492321</td>\n",
       "      <td>770.586536</td>\n",
       "      <td>114</td>\n",
       "      <td>234</td>\n",
       "    </tr>\n",
       "    <tr>\n",
       "      <th>BFGS</th>\n",
       "      <td>143607.435779</td>\n",
       "      <td>9028.488989</td>\n",
       "      <td>770.585466</td>\n",
       "      <td>18</td>\n",
       "      <td>255</td>\n",
       "    </tr>\n",
       "  </tbody>\n",
       "</table>\n",
       "</div>"
      ],
      "text/plain": [
       "                SSE            A          Ea  $N_{it}$  $N_{fun_{eval}}$\n",
       "NM    143607.435777  9028.492321  770.586536       114               234\n",
       "BFGS  143607.435779  9028.488989  770.585466        18               255"
      ]
     },
     "execution_count": 25,
     "metadata": {},
     "output_type": "execute_result"
    }
   ],
   "source": [
    "result"
   ]
  },
  {
   "cell_type": "markdown",
   "metadata": {},
   "source": [
    "## Atividade"
   ]
  },
  {
   "cell_type": "markdown",
   "metadata": {},
   "source": [
    "1. Escolha pelo menos mais 2 métodos de otimização e estime novamente os parâmetros $Ea$ e $A$ do modelo de Arrhenius. \n",
    "2. Complete o DataFrame *result* com os resultados desses 2 métodos testados. \n",
    "3. Analise a tabela *result*, na sua opinião qual foi o método de otimização que teve o melhor resultado? Por quê?"
   ]
  },
  {
   "cell_type": "code",
   "execution_count": null,
   "metadata": {},
   "outputs": [],
   "source": []
  }
 ],
 "metadata": {
  "kernelspec": {
   "display_name": "Python 3",
   "language": "python",
   "name": "python3"
  },
  "language_info": {
   "codemirror_mode": {
    "name": "ipython",
    "version": 3
   },
   "file_extension": ".py",
   "mimetype": "text/x-python",
   "name": "python",
   "nbconvert_exporter": "python",
   "pygments_lexer": "ipython3",
   "version": "3.7.6"
  },
  "toc": {
   "base_numbering": 1,
   "nav_menu": {},
   "number_sections": true,
   "sideBar": true,
   "skip_h1_title": false,
   "title_cell": "Table of Contents",
   "title_sidebar": "Contents",
   "toc_cell": false,
   "toc_position": {},
   "toc_section_display": true,
   "toc_window_display": true
  }
 },
 "nbformat": 4,
 "nbformat_minor": 4
}
