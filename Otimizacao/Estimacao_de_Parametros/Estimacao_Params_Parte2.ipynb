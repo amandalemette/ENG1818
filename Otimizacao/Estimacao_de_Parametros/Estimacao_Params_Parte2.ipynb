{
 "cells": [
  {
   "cell_type": "markdown",
   "metadata": {},
   "source": [
    "# Importação de bibliotecas"
   ]
  },
  {
   "cell_type": "code",
   "execution_count": 1,
   "metadata": {
    "ExecuteTime": {
     "end_time": "2021-11-10T20:41:09.875855Z",
     "start_time": "2021-11-10T20:41:08.309401Z"
    }
   },
   "outputs": [],
   "source": [
    "import numpy as np # criação e manipulação de vetores\n",
    "import matplotlib.pyplot as plt # graficos\n",
    "import pandas as pd # read csv file\n",
    "from scipy.optimize import minimize"
   ]
  },
  {
   "cell_type": "markdown",
   "metadata": {},
   "source": [
    "# Formatação para gráficos"
   ]
  },
  {
   "cell_type": "code",
   "execution_count": 2,
   "metadata": {
    "ExecuteTime": {
     "end_time": "2021-11-10T20:41:09.889944Z",
     "start_time": "2021-11-10T20:41:09.879682Z"
    }
   },
   "outputs": [],
   "source": [
    "ft = 16\n",
    "plt.rcParams.update({'font.size':ft})\n",
    "ft2 = 20"
   ]
  },
  {
   "cell_type": "markdown",
   "metadata": {},
   "source": [
    "# Leitura de base de dados"
   ]
  },
  {
   "cell_type": "code",
   "execution_count": 3,
   "metadata": {
    "ExecuteTime": {
     "end_time": "2021-11-10T20:41:10.819425Z",
     "start_time": "2021-11-10T20:41:10.442451Z"
    }
   },
   "outputs": [],
   "source": [
    "df = pd.read_excel('data.xlsx')"
   ]
  },
  {
   "cell_type": "code",
   "execution_count": 4,
   "metadata": {
    "ExecuteTime": {
     "end_time": "2021-11-10T20:41:10.976285Z",
     "start_time": "2021-11-10T20:41:10.947438Z"
    }
   },
   "outputs": [
    {
     "data": {
      "text/html": [
       "<div>\n",
       "<style scoped>\n",
       "    .dataframe tbody tr th:only-of-type {\n",
       "        vertical-align: middle;\n",
       "    }\n",
       "\n",
       "    .dataframe tbody tr th {\n",
       "        vertical-align: top;\n",
       "    }\n",
       "\n",
       "    .dataframe thead th {\n",
       "        text-align: right;\n",
       "    }\n",
       "</style>\n",
       "<table border=\"1\" class=\"dataframe\">\n",
       "  <thead>\n",
       "    <tr style=\"text-align: right;\">\n",
       "      <th></th>\n",
       "      <th>T</th>\n",
       "      <th>k</th>\n",
       "    </tr>\n",
       "  </thead>\n",
       "  <tbody>\n",
       "    <tr>\n",
       "      <th>0</th>\n",
       "      <td>300</td>\n",
       "      <td>6706</td>\n",
       "    </tr>\n",
       "    <tr>\n",
       "      <th>1</th>\n",
       "      <td>298</td>\n",
       "      <td>6698</td>\n",
       "    </tr>\n",
       "    <tr>\n",
       "      <th>2</th>\n",
       "      <td>330</td>\n",
       "      <td>6657</td>\n",
       "    </tr>\n",
       "    <tr>\n",
       "      <th>3</th>\n",
       "      <td>349</td>\n",
       "      <td>6880</td>\n",
       "    </tr>\n",
       "    <tr>\n",
       "      <th>4</th>\n",
       "      <td>364</td>\n",
       "      <td>6791</td>\n",
       "    </tr>\n",
       "    <tr>\n",
       "      <th>5</th>\n",
       "      <td>353</td>\n",
       "      <td>6917</td>\n",
       "    </tr>\n",
       "    <tr>\n",
       "      <th>6</th>\n",
       "      <td>370</td>\n",
       "      <td>7087</td>\n",
       "    </tr>\n",
       "    <tr>\n",
       "      <th>7</th>\n",
       "      <td>378</td>\n",
       "      <td>7043</td>\n",
       "    </tr>\n",
       "    <tr>\n",
       "      <th>8</th>\n",
       "      <td>373</td>\n",
       "      <td>7175</td>\n",
       "    </tr>\n",
       "    <tr>\n",
       "      <th>9</th>\n",
       "      <td>395</td>\n",
       "      <td>7236</td>\n",
       "    </tr>\n",
       "    <tr>\n",
       "      <th>10</th>\n",
       "      <td>421</td>\n",
       "      <td>7301</td>\n",
       "    </tr>\n",
       "    <tr>\n",
       "      <th>11</th>\n",
       "      <td>446</td>\n",
       "      <td>7200</td>\n",
       "    </tr>\n",
       "    <tr>\n",
       "      <th>12</th>\n",
       "      <td>457</td>\n",
       "      <td>7379</td>\n",
       "    </tr>\n",
       "    <tr>\n",
       "      <th>13</th>\n",
       "      <td>466</td>\n",
       "      <td>7484</td>\n",
       "    </tr>\n",
       "  </tbody>\n",
       "</table>\n",
       "</div>"
      ],
      "text/plain": [
       "      T     k\n",
       "0   300  6706\n",
       "1   298  6698\n",
       "2   330  6657\n",
       "3   349  6880\n",
       "4   364  6791\n",
       "5   353  6917\n",
       "6   370  7087\n",
       "7   378  7043\n",
       "8   373  7175\n",
       "9   395  7236\n",
       "10  421  7301\n",
       "11  446  7200\n",
       "12  457  7379\n",
       "13  466  7484"
      ]
     },
     "execution_count": 4,
     "metadata": {},
     "output_type": "execute_result"
    }
   ],
   "source": [
    "df"
   ]
  },
  {
   "cell_type": "markdown",
   "metadata": {},
   "source": [
    "A estimação de parâmetros envolve o ajuste de parâmetros em um modelo e refere-se a um problema de otimização. \n",
    "\n",
    "Em muitos casos, uma equação diferencial linear de primeira ordem pode aproximar a evolução de muitos sistemas. Os parâmetros desconhecidos para o sistema que iremos estudar como estudo de caso incluem o fator pré-exponencial ($A$) e a energia de ativação ($E_a$)."
   ]
  },
  {
   "cell_type": "markdown",
   "metadata": {},
   "source": [
    "Nosso modelo:"
   ]
  },
  {
   "cell_type": "markdown",
   "metadata": {},
   "source": [
    "$$\n",
    "k(T) = A\\cdot e^{-\\frac{E_a}{RT}}\n",
    "$$"
   ]
  },
  {
   "cell_type": "code",
   "execution_count": 5,
   "metadata": {
    "ExecuteTime": {
     "end_time": "2021-11-10T20:41:17.251631Z",
     "start_time": "2021-11-10T20:41:17.246250Z"
    }
   },
   "outputs": [],
   "source": [
    "R = 8.31451"
   ]
  },
  {
   "cell_type": "markdown",
   "metadata": {},
   "source": [
    "O conjunto de dados em df corresponde a dados medidos experimentalmente."
   ]
  },
  {
   "cell_type": "code",
   "execution_count": 6,
   "metadata": {
    "ExecuteTime": {
     "end_time": "2021-11-10T20:41:19.433819Z",
     "start_time": "2021-11-10T20:41:17.953113Z"
    }
   },
   "outputs": [
    {
     "data": {
      "image/png": "[encoded data removed]",
      "text/plain": [
       "<Figure size 432x288 with 1 Axes>"
      ]
     },
     "metadata": {
      "needs_background": "light"
     },
     "output_type": "display_data"
    }
   ],
   "source": [
    "color1 = 'blue'\n",
    "plt.xlabel('T ($K$)')\n",
    "plt.ylabel('k(T)')\n",
    "plt.scatter(df['T'],df['k'],c = color1,marker = 'o',s = 8)\n",
    "\n",
    "plt.savefig('OriginalData.png',format='png',dpi = 600,bbox_inches = 'tight')\n",
    "plt.show()"
   ]
  },
  {
   "cell_type": "markdown",
   "metadata": {},
   "source": [
    "# Apresentação do problema a ser resolvido"
   ]
  },
  {
   "cell_type": "markdown",
   "metadata": {},
   "source": [
    "Ajuste os dados a um sistema linear de primeira ordem estimando $E_a$ e $A$. Determine os intervalos de confiança de $95 \\%$ e $99 \\%$ para os parâmetros."
   ]
  },
  {
   "cell_type": "markdown",
   "metadata": {},
   "source": [
    "# Aplicação do método de otimização para a estimação de parâmetros..."
   ]
  },
  {
   "cell_type": "markdown",
   "metadata": {},
   "source": [
    "Ver a seguinte referência:\n",
    "- https://docs.scipy.org/doc/scipy/reference/tutorial/optimize.html"
   ]
  },
  {
   "cell_type": "code",
   "execution_count": 7,
   "metadata": {
    "ExecuteTime": {
     "end_time": "2021-11-10T20:41:22.514727Z",
     "start_time": "2021-11-10T20:41:22.510544Z"
    }
   },
   "outputs": [],
   "source": [
    "modelo = lambda k1,k2,Temp: k1*np.exp(-k2/(R*Temp))"
   ]
  },
  {
   "cell_type": "markdown",
   "metadata": {},
   "source": [
    "## Definição da função objetivo"
   ]
  },
  {
   "cell_type": "code",
   "execution_count": 8,
   "metadata": {
    "ExecuteTime": {
     "end_time": "2021-11-10T20:41:23.356086Z",
     "start_time": "2021-11-10T20:41:23.346274Z"
    }
   },
   "outputs": [],
   "source": [
    "def Fobj(par):\n",
    "    dftemp = df.copy()\n",
    "    dftemp['km'] = modelo(par[0],par[1],dftemp['T']) # km = k modelo\n",
    "    dftemp['error'] = (dftemp['k'] - dftemp['km'])**2\n",
    "    SSE = dftemp['error'].sum() # residual sum of squares\n",
    "    return SSE"
   ]
  },
  {
   "cell_type": "markdown",
   "metadata": {},
   "source": [
    "Uma vez que criamos nossa função objetivo, sem considerar os erros experimentais, estamos assumindo a hipótese de que os experimentos foram muito bem feitos e os erros experimentais podem ser desprezados. Como a nossa função objetivo é a métrica SSE, a chamamos de **função objetivo de mínimos quadrados**. "
   ]
  },
  {
   "cell_type": "markdown",
   "metadata": {},
   "source": [
    "Para mais informações sobre formulação de função objetivo, consulte as seguintes referências: \n",
    "- [Análise de Dados Experimentais 1: Fundamentos de Estatística e Estimação de Parâmetros, autores: Marcio Schwaab e José Carlos Pinto, editora: e-papers, 2007.](http://www.e-papers.com.br/produtos.asp?codigo_produto=2792)\n",
    "\n",
    "- [wikipedia](https://pt.wikipedia.org/wiki/Método_dos_m%C3%ADnimos_quadrados)"
   ]
  },
  {
   "cell_type": "markdown",
   "metadata": {},
   "source": [
    "- Escolhemos o método de otimização BFGS para estudo"
   ]
  },
  {
   "cell_type": "code",
   "execution_count": 9,
   "metadata": {
    "ExecuteTime": {
     "end_time": "2021-11-10T20:41:25.579164Z",
     "start_time": "2021-11-10T20:41:25.575868Z"
    }
   },
   "outputs": [],
   "source": [
    "x0 = [2000,1000]"
   ]
  },
  {
   "cell_type": "code",
   "execution_count": 10,
   "metadata": {
    "ExecuteTime": {
     "end_time": "2021-11-10T20:41:27.567754Z",
     "start_time": "2021-11-10T20:41:26.533194Z"
    }
   },
   "outputs": [
    {
     "name": "stdout",
     "output_type": "stream",
     "text": [
      "Warning: Desired error not necessarily achieved due to precision loss.\n",
      "         Current function value: 143607.435779\n",
      "         Iterations: 18\n",
      "         Function evaluations: 255\n",
      "         Gradient evaluations: 82\n"
     ]
    }
   ],
   "source": [
    "res = minimize(Fobj, x0, method='BFGS',options={'disp': True})"
   ]
  },
  {
   "cell_type": "markdown",
   "metadata": {},
   "source": [
    "- Parâmetros estimados:"
   ]
  },
  {
   "cell_type": "code",
   "execution_count": 11,
   "metadata": {
    "ExecuteTime": {
     "end_time": "2021-11-10T20:41:27.591858Z",
     "start_time": "2021-11-10T20:41:27.572087Z"
    },
    "scrolled": false
   },
   "outputs": [
    {
     "data": {
      "text/plain": [
       "array([9028.48898945,  770.5854663 ])"
      ]
     },
     "execution_count": 11,
     "metadata": {},
     "output_type": "execute_result"
    }
   ],
   "source": [
    "res.x"
   ]
  },
  {
   "cell_type": "markdown",
   "metadata": {},
   "source": [
    "- adicionando uma nova coluna em df correspondente aos valores de *k* preditos pelo modelo com os parâmetros já estimados"
   ]
  },
  {
   "cell_type": "code",
   "execution_count": 12,
   "metadata": {
    "ExecuteTime": {
     "end_time": "2021-11-10T20:41:27.630656Z",
     "start_time": "2021-11-10T20:41:27.620691Z"
    }
   },
   "outputs": [],
   "source": [
    "df['km'] = modelo(res.x[0],res.x[1],df['T'])"
   ]
  },
  {
   "cell_type": "code",
   "execution_count": 13,
   "metadata": {
    "ExecuteTime": {
     "end_time": "2021-11-10T20:41:28.005031Z",
     "start_time": "2021-11-10T20:41:27.986832Z"
    }
   },
   "outputs": [
    {
     "data": {
      "text/html": [
       "<div>\n",
       "<style scoped>\n",
       "    .dataframe tbody tr th:only-of-type {\n",
       "        vertical-align: middle;\n",
       "    }\n",
       "\n",
       "    .dataframe tbody tr th {\n",
       "        vertical-align: top;\n",
       "    }\n",
       "\n",
       "    .dataframe thead th {\n",
       "        text-align: right;\n",
       "    }\n",
       "</style>\n",
       "<table border=\"1\" class=\"dataframe\">\n",
       "  <thead>\n",
       "    <tr style=\"text-align: right;\">\n",
       "      <th></th>\n",
       "      <th>T</th>\n",
       "      <th>k</th>\n",
       "      <th>km</th>\n",
       "    </tr>\n",
       "  </thead>\n",
       "  <tbody>\n",
       "    <tr>\n",
       "      <th>0</th>\n",
       "      <td>300</td>\n",
       "      <td>6706</td>\n",
       "      <td>6628.993741</td>\n",
       "    </tr>\n",
       "    <tr>\n",
       "      <th>1</th>\n",
       "      <td>298</td>\n",
       "      <td>6698</td>\n",
       "      <td>6615.263628</td>\n",
       "    </tr>\n",
       "    <tr>\n",
       "      <th>2</th>\n",
       "      <td>330</td>\n",
       "      <td>6657</td>\n",
       "      <td>6817.806186</td>\n",
       "    </tr>\n",
       "    <tr>\n",
       "      <th>3</th>\n",
       "      <td>349</td>\n",
       "      <td>6880</td>\n",
       "      <td>6922.849250</td>\n",
       "    </tr>\n",
       "    <tr>\n",
       "      <th>4</th>\n",
       "      <td>364</td>\n",
       "      <td>6791</td>\n",
       "      <td>6999.024160</td>\n",
       "    </tr>\n",
       "  </tbody>\n",
       "</table>\n",
       "</div>"
      ],
      "text/plain": [
       "     T     k           km\n",
       "0  300  6706  6628.993741\n",
       "1  298  6698  6615.263628\n",
       "2  330  6657  6817.806186\n",
       "3  349  6880  6922.849250\n",
       "4  364  6791  6999.024160"
      ]
     },
     "execution_count": 13,
     "metadata": {},
     "output_type": "execute_result"
    }
   ],
   "source": [
    "df.head()"
   ]
  },
  {
   "cell_type": "code",
   "execution_count": 22,
   "metadata": {
    "ExecuteTime": {
     "end_time": "2021-11-10T20:44:46.278988Z",
     "start_time": "2021-11-10T20:44:46.247324Z"
    }
   },
   "outputs": [
    {
     "data": {
      "text/html": [
       "<div>\n",
       "<style scoped>\n",
       "    .dataframe tbody tr th:only-of-type {\n",
       "        vertical-align: middle;\n",
       "    }\n",
       "\n",
       "    .dataframe tbody tr th {\n",
       "        vertical-align: top;\n",
       "    }\n",
       "\n",
       "    .dataframe thead th {\n",
       "        text-align: right;\n",
       "    }\n",
       "</style>\n",
       "<table border=\"1\" class=\"dataframe\">\n",
       "  <thead>\n",
       "    <tr style=\"text-align: right;\">\n",
       "      <th></th>\n",
       "      <th>T</th>\n",
       "      <th>k</th>\n",
       "      <th>km</th>\n",
       "    </tr>\n",
       "  </thead>\n",
       "  <tbody>\n",
       "    <tr>\n",
       "      <th>count</th>\n",
       "      <td>14.000000</td>\n",
       "      <td>14.000000</td>\n",
       "      <td>14.000000</td>\n",
       "    </tr>\n",
       "    <tr>\n",
       "      <th>mean</th>\n",
       "      <td>378.571429</td>\n",
       "      <td>7039.571429</td>\n",
       "      <td>7039.554961</td>\n",
       "    </tr>\n",
       "    <tr>\n",
       "      <th>std</th>\n",
       "      <td>53.551865</td>\n",
       "      <td>269.268729</td>\n",
       "      <td>248.406674</td>\n",
       "    </tr>\n",
       "    <tr>\n",
       "      <th>min</th>\n",
       "      <td>298.000000</td>\n",
       "      <td>6657.000000</td>\n",
       "      <td>6615.263628</td>\n",
       "    </tr>\n",
       "    <tr>\n",
       "      <th>25%</th>\n",
       "      <td>350.000000</td>\n",
       "      <td>6813.250000</td>\n",
       "      <td>6928.065069</td>\n",
       "    </tr>\n",
       "    <tr>\n",
       "      <th>50%</th>\n",
       "      <td>371.500000</td>\n",
       "      <td>7065.000000</td>\n",
       "      <td>7035.068555</td>\n",
       "    </tr>\n",
       "    <tr>\n",
       "      <th>75%</th>\n",
       "      <td>414.500000</td>\n",
       "      <td>7227.000000</td>\n",
       "      <td>7218.451861</td>\n",
       "    </tr>\n",
       "    <tr>\n",
       "      <th>max</th>\n",
       "      <td>466.000000</td>\n",
       "      <td>7484.000000</td>\n",
       "      <td>7400.161009</td>\n",
       "    </tr>\n",
       "  </tbody>\n",
       "</table>\n",
       "</div>"
      ],
      "text/plain": [
       "                T            k           km\n",
       "count   14.000000    14.000000    14.000000\n",
       "mean   378.571429  7039.571429  7039.554961\n",
       "std     53.551865   269.268729   248.406674\n",
       "min    298.000000  6657.000000  6615.263628\n",
       "25%    350.000000  6813.250000  6928.065069\n",
       "50%    371.500000  7065.000000  7035.068555\n",
       "75%    414.500000  7227.000000  7218.451861\n",
       "max    466.000000  7484.000000  7400.161009"
      ]
     },
     "execution_count": 22,
     "metadata": {},
     "output_type": "execute_result"
    }
   ],
   "source": [
    "df.describe()"
   ]
  },
  {
   "cell_type": "code",
   "execution_count": 23,
   "metadata": {
    "ExecuteTime": {
     "end_time": "2021-11-10T20:45:05.623414Z",
     "start_time": "2021-11-10T20:45:05.610561Z"
    }
   },
   "outputs": [
    {
     "data": {
      "text/plain": [
       "72500.9476"
      ]
     },
     "execution_count": 23,
     "metadata": {},
     "output_type": "execute_result"
    }
   ],
   "source": [
    "269.26**2 "
   ]
  },
  {
   "cell_type": "markdown",
   "metadata": {},
   "source": [
    "# Métricas de regressão"
   ]
  },
  {
   "cell_type": "markdown",
   "metadata": {},
   "source": [
    "## SSE: "
   ]
  },
  {
   "cell_type": "markdown",
   "metadata": {},
   "source": [
    "- Error sum of squares\n",
    "- Soma dos erros ao quadrado"
   ]
  },
  {
   "cell_type": "markdown",
   "metadata": {},
   "source": [
    "$$\n",
    "SSE = \\sum_{i=1}^{N} (y_{original} - y_{predito})^2\n",
    "$$"
   ]
  },
  {
   "cell_type": "code",
   "execution_count": 14,
   "metadata": {
    "ExecuteTime": {
     "end_time": "2021-11-10T20:42:28.400541Z",
     "start_time": "2021-11-10T20:42:28.395602Z"
    }
   },
   "outputs": [
    {
     "data": {
      "text/plain": [
       "143607.43577866183"
      ]
     },
     "execution_count": 14,
     "metadata": {},
     "output_type": "execute_result"
    }
   ],
   "source": [
    "SSE = res.fun\n",
    "SSE"
   ]
  },
  {
   "cell_type": "markdown",
   "metadata": {},
   "source": [
    "## MSE:"
   ]
  },
  {
   "cell_type": "markdown",
   "metadata": {},
   "source": [
    "- Mean squared error\n",
    "- Erro quadrático médio"
   ]
  },
  {
   "cell_type": "markdown",
   "metadata": {},
   "source": [
    "$$\n",
    "MSE = \\frac{1}{N}\\sum_{i=1}^{N} (y_{original} - y_{predito})^2\n",
    "$$"
   ]
  },
  {
   "cell_type": "code",
   "execution_count": 15,
   "metadata": {
    "ExecuteTime": {
     "end_time": "2021-11-10T20:42:41.329211Z",
     "start_time": "2021-11-10T20:42:41.323404Z"
    }
   },
   "outputs": [
    {
     "data": {
      "text/plain": [
       "14"
      ]
     },
     "execution_count": 15,
     "metadata": {},
     "output_type": "execute_result"
    }
   ],
   "source": [
    "N = df['T'].index[-1]+1\n",
    "N "
   ]
  },
  {
   "cell_type": "code",
   "execution_count": 16,
   "metadata": {
    "ExecuteTime": {
     "end_time": "2021-11-10T20:42:42.174312Z",
     "start_time": "2021-11-10T20:42:42.148826Z"
    }
   },
   "outputs": [
    {
     "data": {
      "text/plain": [
       "10257.67398419013"
      ]
     },
     "execution_count": 16,
     "metadata": {},
     "output_type": "execute_result"
    }
   ],
   "source": [
    "MSE = SSE/N\n",
    "MSE"
   ]
  },
  {
   "cell_type": "markdown",
   "metadata": {},
   "source": [
    "## RMSE:"
   ]
  },
  {
   "cell_type": "markdown",
   "metadata": {},
   "source": [
    "- Root-mean-square deviation\n",
    "- Raiz do erro quadrático médio"
   ]
  },
  {
   "cell_type": "markdown",
   "metadata": {},
   "source": [
    "$$\n",
    "RMSE = \\sqrt{MSE} = \\sqrt{\\frac{1}{N}\\sum_{i=1}^{N} (y_{original} - y_{predito})^2}\n",
    "$$"
   ]
  },
  {
   "cell_type": "code",
   "execution_count": 17,
   "metadata": {
    "ExecuteTime": {
     "end_time": "2021-11-10T20:42:48.311772Z",
     "start_time": "2021-11-10T20:42:48.292634Z"
    }
   },
   "outputs": [
    {
     "data": {
      "text/plain": [
       "101.28017567219229"
      ]
     },
     "execution_count": 17,
     "metadata": {},
     "output_type": "execute_result"
    }
   ],
   "source": [
    "RMSE = MSE**0.5\n",
    "RMSE"
   ]
  },
  {
   "cell_type": "markdown",
   "metadata": {},
   "source": [
    "## $R^2$"
   ]
  },
  {
   "cell_type": "markdown",
   "metadata": {},
   "source": [
    "- Coefficient of determination\n",
    "- Coeficiente de determinação"
   ]
  },
  {
   "cell_type": "markdown",
   "metadata": {},
   "source": [
    "$$\n",
    "R^2 = 1 - \\frac{SSE}{\\sum_{i=1}^{N}(y_{original} - y_{média})^2}\n",
    "$$"
   ]
  },
  {
   "cell_type": "code",
   "execution_count": 18,
   "metadata": {
    "ExecuteTime": {
     "end_time": "2021-11-10T20:43:24.436833Z",
     "start_time": "2021-11-10T20:43:23.185519Z"
    }
   },
   "outputs": [],
   "source": [
    "from sklearn.metrics import r2_score"
   ]
  },
  {
   "cell_type": "code",
   "execution_count": 19,
   "metadata": {
    "ExecuteTime": {
     "end_time": "2021-11-10T20:43:25.054174Z",
     "start_time": "2021-11-10T20:43:25.045130Z"
    }
   },
   "outputs": [
    {
     "data": {
      "text/plain": [
       "0.8476432377302272"
      ]
     },
     "execution_count": 19,
     "metadata": {},
     "output_type": "execute_result"
    }
   ],
   "source": [
    "R2 = r2_score(df['k'],df['km'])\n",
    "R2"
   ]
  },
  {
   "cell_type": "code",
   "execution_count": 20,
   "metadata": {
    "ExecuteTime": {
     "end_time": "2021-11-10T20:43:34.099587Z",
     "start_time": "2021-11-10T20:43:34.092476Z"
    }
   },
   "outputs": [],
   "source": [
    "result = pd.DataFrame({'SSE':[res.fun],\n",
    "             'MSE':[MSE],\n",
    "              'RMSE':[RMSE],\n",
    "              'R2':[R2],\n",
    "             'A':[res.x[0]],\n",
    "             'Ea':[res.x[1]],\n",
    "             '$N_{it}$':[res.nit],\n",
    "             '$N_{fun_{eval}}$':[res.nfev]},\n",
    "             index = ['BFGS']).T"
   ]
  },
  {
   "cell_type": "code",
   "execution_count": 21,
   "metadata": {
    "ExecuteTime": {
     "end_time": "2021-11-10T20:43:34.958527Z",
     "start_time": "2021-11-10T20:43:34.950203Z"
    }
   },
   "outputs": [
    {
     "data": {
      "text/html": [
       "<div>\n",
       "<style scoped>\n",
       "    .dataframe tbody tr th:only-of-type {\n",
       "        vertical-align: middle;\n",
       "    }\n",
       "\n",
       "    .dataframe tbody tr th {\n",
       "        vertical-align: top;\n",
       "    }\n",
       "\n",
       "    .dataframe thead th {\n",
       "        text-align: right;\n",
       "    }\n",
       "</style>\n",
       "<table border=\"1\" class=\"dataframe\">\n",
       "  <thead>\n",
       "    <tr style=\"text-align: right;\">\n",
       "      <th></th>\n",
       "      <th>BFGS</th>\n",
       "    </tr>\n",
       "  </thead>\n",
       "  <tbody>\n",
       "    <tr>\n",
       "      <th>SSE</th>\n",
       "      <td>143607.435779</td>\n",
       "    </tr>\n",
       "    <tr>\n",
       "      <th>MSE</th>\n",
       "      <td>10257.673984</td>\n",
       "    </tr>\n",
       "    <tr>\n",
       "      <th>RMSE</th>\n",
       "      <td>101.280176</td>\n",
       "    </tr>\n",
       "    <tr>\n",
       "      <th>R2</th>\n",
       "      <td>0.847643</td>\n",
       "    </tr>\n",
       "    <tr>\n",
       "      <th>A</th>\n",
       "      <td>9028.488989</td>\n",
       "    </tr>\n",
       "    <tr>\n",
       "      <th>Ea</th>\n",
       "      <td>770.585466</td>\n",
       "    </tr>\n",
       "    <tr>\n",
       "      <th>$N_{it}$</th>\n",
       "      <td>18.000000</td>\n",
       "    </tr>\n",
       "    <tr>\n",
       "      <th>$N_{fun_{eval}}$</th>\n",
       "      <td>255.000000</td>\n",
       "    </tr>\n",
       "  </tbody>\n",
       "</table>\n",
       "</div>"
      ],
      "text/plain": [
       "                           BFGS\n",
       "SSE               143607.435779\n",
       "MSE                10257.673984\n",
       "RMSE                 101.280176\n",
       "R2                     0.847643\n",
       "A                   9028.488989\n",
       "Ea                   770.585466\n",
       "$N_{it}$              18.000000\n",
       "$N_{fun_{eval}}$     255.000000"
      ]
     },
     "execution_count": 21,
     "metadata": {},
     "output_type": "execute_result"
    }
   ],
   "source": [
    "result"
   ]
  },
  {
   "cell_type": "markdown",
   "metadata": {},
   "source": [
    "# Visualização gráfica dos resultados"
   ]
  },
  {
   "cell_type": "code",
   "execution_count": 24,
   "metadata": {
    "ExecuteTime": {
     "end_time": "2021-11-10T20:45:42.538505Z",
     "start_time": "2021-11-10T20:45:41.256982Z"
    }
   },
   "outputs": [
    {
     "data": {
      "image/png": "[encoded data removed]",
      "text/plain": [
       "<Figure size 432x288 with 1 Axes>"
      ]
     },
     "metadata": {
      "needs_background": "light"
     },
     "output_type": "display_data"
    }
   ],
   "source": [
    "color1 = 'blue'\n",
    "plt.xlabel('Original Data',fontsize = ft2)\n",
    "plt.ylabel('Predicted Data',fontsize = ft2)\n",
    "plt.scatter(df['k'],df['km'],c = color1,marker = 'o',s = 25)\n",
    "color2 = 'grey'\n",
    "plt.plot([6000,8000],[6000,8000],c=color2,linestyle='--')\n",
    "plt.xlim([6500,7500])\n",
    "plt.ylim([6500,7500])\n",
    "plt.savefig('finalplot.png',format='png',dpi = 600,bbox_inches = 'tight')\n",
    "plt.show()"
   ]
  },
  {
   "cell_type": "code",
   "execution_count": 25,
   "metadata": {
    "ExecuteTime": {
     "end_time": "2021-11-10T20:45:51.991737Z",
     "start_time": "2021-11-10T20:45:49.970505Z"
    }
   },
   "outputs": [
    {
     "data": {
      "image/png": "[encoded data removed]",
      "text/plain": [
       "<Figure size 648x360 with 1 Axes>"
      ]
     },
     "metadata": {
      "needs_background": "light"
     },
     "output_type": "display_data"
    }
   ],
   "source": [
    "plt.figure(figsize=(9,5))\n",
    "color1 = 'blue'\n",
    "plt.xlabel('T ($K$)',fontsize = ft2)\n",
    "plt.ylabel('k(T)',fontsize = ft2)\n",
    "plt.scatter(df['T'],df['k'],c = color1,marker = 'o',s = 15,label = 'Original Data')\n",
    "color2 = 'red'\n",
    "plt.plot(df['T'],df['km'],c=color2, label = 'Predicted Data')\n",
    "plt.legend(frameon = False,fontsize = ft2)\n",
    "plt.savefig('finalplot2.png',format='png',dpi = 600,bbox_inches = 'tight')\n",
    "plt.show()"
   ]
  },
  {
   "cell_type": "markdown",
   "metadata": {},
   "source": [
    "# Atividade"
   ]
  },
  {
   "cell_type": "markdown",
   "metadata": {},
   "source": [
    "- Refazer esse notebook, porém aplicando outro método de otimização da sua escolha."
   ]
  },
  {
   "cell_type": "code",
   "execution_count": null,
   "metadata": {},
   "outputs": [],
   "source": []
  }
 ],
 "metadata": {
  "kernelspec": {
   "display_name": "Python 3",
   "language": "python",
   "name": "python3"
  },
  "language_info": {
   "codemirror_mode": {
    "name": "ipython",
    "version": 3
   },
   "file_extension": ".py",
   "mimetype": "text/x-python",
   "name": "python",
   "nbconvert_exporter": "python",
   "pygments_lexer": "ipython3",
   "version": "3.7.6"
  },
  "toc": {
   "base_numbering": 1,
   "nav_menu": {},
   "number_sections": true,
   "sideBar": true,
   "skip_h1_title": false,
   "title_cell": "Table of Contents",
   "title_sidebar": "Contents",
   "toc_cell": false,
   "toc_position": {},
   "toc_section_display": true,
   "toc_window_display": true
  }
 },
 "nbformat": 4,
 "nbformat_minor": 4
}
