{
 "cells": [
  {
   "cell_type": "markdown",
   "metadata": {},
   "source": [
    "# Importação de bibliotecas"
   ]
  },
  {
   "cell_type": "code",
   "execution_count": 1,
   "metadata": {
    "ExecuteTime": {
     "end_time": "2021-11-10T20:46:48.043430Z",
     "start_time": "2021-11-10T20:46:45.570438Z"
    }
   },
   "outputs": [],
   "source": [
    "import numpy as np # criação e manipulação de vetores\n",
    "import matplotlib.pyplot as plt # graficos\n",
    "import pandas as pd # read csv file\n",
    "from scipy.optimize import minimize\n",
    "from sklearn.metrics import r2_score"
   ]
  },
  {
   "cell_type": "markdown",
   "metadata": {},
   "source": [
    "# Formatação para gráficos"
   ]
  },
  {
   "cell_type": "code",
   "execution_count": 2,
   "metadata": {
    "ExecuteTime": {
     "end_time": "2021-11-10T20:46:48.056999Z",
     "start_time": "2021-11-10T20:46:48.049456Z"
    }
   },
   "outputs": [],
   "source": [
    "ft = 16\n",
    "plt.rcParams.update({'font.size':ft})\n",
    "ft2 = 20"
   ]
  },
  {
   "cell_type": "markdown",
   "metadata": {},
   "source": [
    "# Leitura de base de dados"
   ]
  },
  {
   "cell_type": "code",
   "execution_count": 3,
   "metadata": {
    "ExecuteTime": {
     "end_time": "2021-11-10T20:46:48.509424Z",
     "start_time": "2021-11-10T20:46:48.061346Z"
    }
   },
   "outputs": [],
   "source": [
    "df = pd.read_excel('data.xlsx')"
   ]
  },
  {
   "cell_type": "code",
   "execution_count": 4,
   "metadata": {
    "ExecuteTime": {
     "end_time": "2021-11-10T20:46:48.542991Z",
     "start_time": "2021-11-10T20:46:48.512795Z"
    }
   },
   "outputs": [
    {
     "data": {
      "text/html": [
       "<div>\n",
       "<style scoped>\n",
       "    .dataframe tbody tr th:only-of-type {\n",
       "        vertical-align: middle;\n",
       "    }\n",
       "\n",
       "    .dataframe tbody tr th {\n",
       "        vertical-align: top;\n",
       "    }\n",
       "\n",
       "    .dataframe thead th {\n",
       "        text-align: right;\n",
       "    }\n",
       "</style>\n",
       "<table border=\"1\" class=\"dataframe\">\n",
       "  <thead>\n",
       "    <tr style=\"text-align: right;\">\n",
       "      <th></th>\n",
       "      <th>T</th>\n",
       "      <th>k</th>\n",
       "    </tr>\n",
       "  </thead>\n",
       "  <tbody>\n",
       "    <tr>\n",
       "      <th>0</th>\n",
       "      <td>300</td>\n",
       "      <td>6706</td>\n",
       "    </tr>\n",
       "    <tr>\n",
       "      <th>1</th>\n",
       "      <td>298</td>\n",
       "      <td>6698</td>\n",
       "    </tr>\n",
       "    <tr>\n",
       "      <th>2</th>\n",
       "      <td>330</td>\n",
       "      <td>6657</td>\n",
       "    </tr>\n",
       "    <tr>\n",
       "      <th>3</th>\n",
       "      <td>349</td>\n",
       "      <td>6880</td>\n",
       "    </tr>\n",
       "    <tr>\n",
       "      <th>4</th>\n",
       "      <td>364</td>\n",
       "      <td>6791</td>\n",
       "    </tr>\n",
       "  </tbody>\n",
       "</table>\n",
       "</div>"
      ],
      "text/plain": [
       "     T     k\n",
       "0  300  6706\n",
       "1  298  6698\n",
       "2  330  6657\n",
       "3  349  6880\n",
       "4  364  6791"
      ]
     },
     "execution_count": 4,
     "metadata": {},
     "output_type": "execute_result"
    }
   ],
   "source": [
    "df.head()"
   ]
  },
  {
   "cell_type": "markdown",
   "metadata": {},
   "source": [
    "A estimação de parâmetros envolve o ajuste de parâmetros em um modelo e refere-se a um problema de otimização. \n",
    "\n",
    "Em muitos casos, uma equação diferencial linear de primeira ordem pode aproximar a evolução de muitos sistemas. Os parâmetros desconhecidos para o sistema que iremos estudar como estudo de caso incluem o fator pré-exponencial ($A$) e a energia de ativação ($E_a$)."
   ]
  },
  {
   "cell_type": "markdown",
   "metadata": {},
   "source": [
    "Nosso modelo:"
   ]
  },
  {
   "cell_type": "markdown",
   "metadata": {},
   "source": [
    "$$\n",
    "k(T) = A\\cdot e^{-\\frac{E_a}{RT}}\n",
    "$$"
   ]
  },
  {
   "cell_type": "code",
   "execution_count": 5,
   "metadata": {
    "ExecuteTime": {
     "end_time": "2021-11-10T20:46:52.329088Z",
     "start_time": "2021-11-10T20:46:52.319282Z"
    }
   },
   "outputs": [],
   "source": [
    "R = 8.31451"
   ]
  },
  {
   "cell_type": "markdown",
   "metadata": {},
   "source": [
    "O conjunto de dados em df corresponde a dados medidos experimentalmente."
   ]
  },
  {
   "cell_type": "code",
   "execution_count": 6,
   "metadata": {
    "ExecuteTime": {
     "end_time": "2021-11-10T20:46:54.899123Z",
     "start_time": "2021-11-10T20:46:53.276165Z"
    }
   },
   "outputs": [
    {
     "data": {
      "image/png": "[encoded data removed]",
      "text/plain": [
       "<Figure size 432x288 with 1 Axes>"
      ]
     },
     "metadata": {
      "needs_background": "light"
     },
     "output_type": "display_data"
    }
   ],
   "source": [
    "color1 = 'blue'\n",
    "plt.xlabel('T ($K$)')\n",
    "plt.ylabel('k(T)')\n",
    "plt.scatter(df['T'],df['k'],c = color1,marker = 'o',s = 8)\n",
    "\n",
    "plt.savefig('OriginalData.png',format='png',dpi = 600,bbox_inches = 'tight')\n",
    "plt.show()"
   ]
  },
  {
   "cell_type": "markdown",
   "metadata": {},
   "source": [
    "# Apresentação do problema a ser resolvido"
   ]
  },
  {
   "cell_type": "markdown",
   "metadata": {},
   "source": [
    "Ajuste os dados a um sistema linear de primeira ordem estimando $E_a$ e $A$. Determine os intervalos de confiança de $95 \\%$ e $99 \\%$ para os parâmetros."
   ]
  },
  {
   "cell_type": "markdown",
   "metadata": {},
   "source": [
    "# Aplicação do método de otimização"
   ]
  },
  {
   "cell_type": "markdown",
   "metadata": {},
   "source": [
    "Ver a seguinte referência:\n",
    "- https://docs.scipy.org/doc/scipy/reference/tutorial/optimize.html"
   ]
  },
  {
   "cell_type": "code",
   "execution_count": 7,
   "metadata": {
    "ExecuteTime": {
     "end_time": "2021-11-10T20:46:58.419032Z",
     "start_time": "2021-11-10T20:46:58.414284Z"
    }
   },
   "outputs": [],
   "source": [
    "modelo = lambda k1,k2,Temp: k1*np.exp(-k2/(R*Temp))"
   ]
  },
  {
   "cell_type": "markdown",
   "metadata": {},
   "source": [
    "## Definição da função objetivo"
   ]
  },
  {
   "cell_type": "markdown",
   "metadata": {},
   "source": [
    "Dessa vez, vamos adaptar a função objetivo salvando todos os parâmetros testados pelo método de otimização e o resultado SSE obtido para cada par de parâmetros selecionado. "
   ]
  },
  {
   "cell_type": "code",
   "execution_count": 8,
   "metadata": {
    "ExecuteTime": {
     "end_time": "2021-11-10T20:47:00.689356Z",
     "start_time": "2021-11-10T20:47:00.683686Z"
    }
   },
   "outputs": [],
   "source": [
    "def Fobj(par):\n",
    "    global RC\n",
    "    dftemp = df.copy()\n",
    "    dftemp['km'] = modelo(par[0],par[1],dftemp['T']) # km = k modelo\n",
    "    dftemp['error'] = (dftemp['k'] - dftemp['km'])**2\n",
    "    SSE = dftemp['error'].sum() # residual sum of squares\n",
    "    RC = RC.append({'A':par[0],'Ea':par[1],'Fobj':SSE}, ignore_index=True)\n",
    "    return SSE"
   ]
  },
  {
   "cell_type": "markdown",
   "metadata": {},
   "source": [
    "Uma vez que criamos nossa função objetivo, sem considerar os erros experimentais, estamos assumindo a hipótese de que os experimentos foram muito bem feitos e os erros experimentais podem ser desprezados. Como a nossa função objetivo é a métrica SSE, a chamamos de **função objetivo de mínimos quadrados**. "
   ]
  },
  {
   "cell_type": "markdown",
   "metadata": {},
   "source": [
    "Para mais informações sobre formulação de função objetivo, consulte as seguintes referências: \n",
    "- [Análise de Dados Experimentais 1: Fundamentos de Estatística e Estimação de Parâmetros, autores: Marcio Schwaab e José Carlos Pinto, editora: e-papers, 2007.](http://www.e-papers.com.br/produtos.asp?codigo_produto=2792)\n",
    "\n",
    "- [wikipedia](https://pt.wikipedia.org/wiki/Método_dos_m%C3%ADnimos_quadrados)"
   ]
  },
  {
   "cell_type": "markdown",
   "metadata": {},
   "source": [
    "- Escolhemos o método de otimização BFGS para estudo"
   ]
  },
  {
   "cell_type": "code",
   "execution_count": 9,
   "metadata": {
    "ExecuteTime": {
     "end_time": "2021-11-10T20:48:28.547422Z",
     "start_time": "2021-11-10T20:48:28.543589Z"
    }
   },
   "outputs": [],
   "source": [
    "x0 = [200,100] # na ordem: A e Ea\n",
    "global RC\n",
    "RC = pd.DataFrame()"
   ]
  },
  {
   "cell_type": "code",
   "execution_count": 10,
   "metadata": {
    "ExecuteTime": {
     "end_time": "2021-11-10T20:48:33.725892Z",
     "start_time": "2021-11-10T20:48:33.711915Z"
    }
   },
   "outputs": [
    {
     "data": {
      "text/html": [
       "<div>\n",
       "<style scoped>\n",
       "    .dataframe tbody tr th:only-of-type {\n",
       "        vertical-align: middle;\n",
       "    }\n",
       "\n",
       "    .dataframe tbody tr th {\n",
       "        vertical-align: top;\n",
       "    }\n",
       "\n",
       "    .dataframe thead th {\n",
       "        text-align: right;\n",
       "    }\n",
       "</style>\n",
       "<table border=\"1\" class=\"dataframe\">\n",
       "  <thead>\n",
       "    <tr style=\"text-align: right;\">\n",
       "      <th></th>\n",
       "    </tr>\n",
       "  </thead>\n",
       "  <tbody>\n",
       "  </tbody>\n",
       "</table>\n",
       "</div>"
      ],
      "text/plain": [
       "Empty DataFrame\n",
       "Columns: []\n",
       "Index: []"
      ]
     },
     "execution_count": 10,
     "metadata": {},
     "output_type": "execute_result"
    }
   ],
   "source": [
    "RC "
   ]
  },
  {
   "cell_type": "code",
   "execution_count": 11,
   "metadata": {
    "ExecuteTime": {
     "end_time": "2021-11-10T20:48:40.200718Z",
     "start_time": "2021-11-10T20:48:39.122553Z"
    }
   },
   "outputs": [
    {
     "name": "stdout",
     "output_type": "stream",
     "text": [
      "Warning: Desired error not necessarily achieved due to precision loss.\n",
      "         Current function value: 143607.435782\n",
      "         Iterations: 22\n",
      "         Function evaluations: 209\n",
      "         Gradient evaluations: 66\n"
     ]
    }
   ],
   "source": [
    "res = minimize(Fobj, x0, method='BFGS',options={'disp': True})"
   ]
  },
  {
   "cell_type": "markdown",
   "metadata": {},
   "source": [
    "- Parâmetros estimados:"
   ]
  },
  {
   "cell_type": "code",
   "execution_count": 12,
   "metadata": {
    "ExecuteTime": {
     "end_time": "2021-11-10T20:48:43.974792Z",
     "start_time": "2021-11-10T20:48:43.967478Z"
    },
    "scrolled": false
   },
   "outputs": [
    {
     "data": {
      "text/plain": [
       "array([9028.49808157,  770.5885364 ])"
      ]
     },
     "execution_count": 12,
     "metadata": {},
     "output_type": "execute_result"
    }
   ],
   "source": [
    "res.x"
   ]
  },
  {
   "cell_type": "markdown",
   "metadata": {},
   "source": [
    "- adicionando uma nova coluna em df correspondente aos valores de *k* preditos pelo modelo com os parâmetros já estimados"
   ]
  },
  {
   "cell_type": "code",
   "execution_count": 13,
   "metadata": {
    "ExecuteTime": {
     "end_time": "2021-11-10T20:48:45.224068Z",
     "start_time": "2021-11-10T20:48:45.214837Z"
    }
   },
   "outputs": [],
   "source": [
    "df['km'] = modelo(res.x[0],res.x[1],df['T'])"
   ]
  },
  {
   "cell_type": "code",
   "execution_count": 14,
   "metadata": {
    "ExecuteTime": {
     "end_time": "2021-11-10T20:48:47.433492Z",
     "start_time": "2021-11-10T20:48:47.422152Z"
    }
   },
   "outputs": [
    {
     "data": {
      "text/html": [
       "<div>\n",
       "<style scoped>\n",
       "    .dataframe tbody tr th:only-of-type {\n",
       "        vertical-align: middle;\n",
       "    }\n",
       "\n",
       "    .dataframe tbody tr th {\n",
       "        vertical-align: top;\n",
       "    }\n",
       "\n",
       "    .dataframe thead th {\n",
       "        text-align: right;\n",
       "    }\n",
       "</style>\n",
       "<table border=\"1\" class=\"dataframe\">\n",
       "  <thead>\n",
       "    <tr style=\"text-align: right;\">\n",
       "      <th></th>\n",
       "      <th>T</th>\n",
       "      <th>k</th>\n",
       "      <th>km</th>\n",
       "    </tr>\n",
       "  </thead>\n",
       "  <tbody>\n",
       "    <tr>\n",
       "      <th>0</th>\n",
       "      <td>300</td>\n",
       "      <td>6706</td>\n",
       "      <td>6628.992257</td>\n",
       "    </tr>\n",
       "    <tr>\n",
       "      <th>1</th>\n",
       "      <td>298</td>\n",
       "      <td>6698</td>\n",
       "      <td>6615.262093</td>\n",
       "    </tr>\n",
       "    <tr>\n",
       "      <th>2</th>\n",
       "      <td>330</td>\n",
       "      <td>6657</td>\n",
       "      <td>6817.805423</td>\n",
       "    </tr>\n",
       "    <tr>\n",
       "      <th>3</th>\n",
       "      <td>349</td>\n",
       "      <td>6880</td>\n",
       "      <td>6922.848897</td>\n",
       "    </tr>\n",
       "    <tr>\n",
       "      <th>4</th>\n",
       "      <td>364</td>\n",
       "      <td>6791</td>\n",
       "      <td>6999.024109</td>\n",
       "    </tr>\n",
       "  </tbody>\n",
       "</table>\n",
       "</div>"
      ],
      "text/plain": [
       "     T     k           km\n",
       "0  300  6706  6628.992257\n",
       "1  298  6698  6615.262093\n",
       "2  330  6657  6817.805423\n",
       "3  349  6880  6922.848897\n",
       "4  364  6791  6999.024109"
      ]
     },
     "execution_count": 14,
     "metadata": {},
     "output_type": "execute_result"
    }
   ],
   "source": [
    "df.head()"
   ]
  },
  {
   "cell_type": "markdown",
   "metadata": {},
   "source": [
    "# Métricas de regressão"
   ]
  },
  {
   "cell_type": "markdown",
   "metadata": {},
   "source": [
    "## SSE: "
   ]
  },
  {
   "cell_type": "markdown",
   "metadata": {},
   "source": [
    "- Error sum of squares\n",
    "- Soma dos erros ao quadrado"
   ]
  },
  {
   "cell_type": "markdown",
   "metadata": {},
   "source": [
    "$$\n",
    "SSE = \\sum_{i=1}^{N} (y_{original} - y_{predito})^2\n",
    "$$"
   ]
  },
  {
   "cell_type": "code",
   "execution_count": 15,
   "metadata": {
    "ExecuteTime": {
     "end_time": "2021-11-10T20:48:53.858351Z",
     "start_time": "2021-11-10T20:48:53.849224Z"
    }
   },
   "outputs": [
    {
     "data": {
      "text/plain": [
       "143607.4357820648"
      ]
     },
     "execution_count": 15,
     "metadata": {},
     "output_type": "execute_result"
    }
   ],
   "source": [
    "SSE = res.fun\n",
    "SSE"
   ]
  },
  {
   "cell_type": "markdown",
   "metadata": {},
   "source": [
    "## MSE:"
   ]
  },
  {
   "cell_type": "markdown",
   "metadata": {},
   "source": [
    "- Mean squared error\n",
    "- Erro quadrático médio"
   ]
  },
  {
   "cell_type": "markdown",
   "metadata": {},
   "source": [
    "$$\n",
    "MSE = \\frac{1}{N}\\sum_{i=1}^{N} (y_{original} - y_{predito})^2\n",
    "$$"
   ]
  },
  {
   "cell_type": "code",
   "execution_count": 16,
   "metadata": {
    "ExecuteTime": {
     "end_time": "2021-11-10T20:48:55.311817Z",
     "start_time": "2021-11-10T20:48:55.263398Z"
    }
   },
   "outputs": [
    {
     "data": {
      "text/plain": [
       "14"
      ]
     },
     "execution_count": 16,
     "metadata": {},
     "output_type": "execute_result"
    }
   ],
   "source": [
    "N = df['T'].index[-1]+1\n",
    "N "
   ]
  },
  {
   "cell_type": "code",
   "execution_count": 17,
   "metadata": {
    "ExecuteTime": {
     "end_time": "2021-11-10T20:48:55.667363Z",
     "start_time": "2021-11-10T20:48:55.660172Z"
    }
   },
   "outputs": [
    {
     "data": {
      "text/plain": [
       "10257.6739844332"
      ]
     },
     "execution_count": 17,
     "metadata": {},
     "output_type": "execute_result"
    }
   ],
   "source": [
    "MSE = SSE/N\n",
    "MSE"
   ]
  },
  {
   "cell_type": "markdown",
   "metadata": {},
   "source": [
    "## RMSE:"
   ]
  },
  {
   "cell_type": "markdown",
   "metadata": {},
   "source": [
    "- Root-mean-square deviation\n",
    "- Raiz do erro quadrático médio"
   ]
  },
  {
   "cell_type": "markdown",
   "metadata": {},
   "source": [
    "$$\n",
    "RMSE = \\sqrt{MSE} = \\sqrt{\\frac{1}{N}\\sum_{i=1}^{N} (y_{original} - y_{predito})^2}\n",
    "$$"
   ]
  },
  {
   "cell_type": "code",
   "execution_count": 18,
   "metadata": {
    "ExecuteTime": {
     "end_time": "2021-11-10T20:48:57.096231Z",
     "start_time": "2021-11-10T20:48:57.087337Z"
    }
   },
   "outputs": [
    {
     "data": {
      "text/plain": [
       "101.28017567339228"
      ]
     },
     "execution_count": 18,
     "metadata": {},
     "output_type": "execute_result"
    }
   ],
   "source": [
    "RMSE = MSE**0.5\n",
    "RMSE"
   ]
  },
  {
   "cell_type": "markdown",
   "metadata": {},
   "source": [
    "## $R^2$"
   ]
  },
  {
   "cell_type": "markdown",
   "metadata": {},
   "source": [
    "- Coefficient of determination\n",
    "- Coeficiente de determinação"
   ]
  },
  {
   "cell_type": "markdown",
   "metadata": {},
   "source": [
    "$$\n",
    "R^2 = 1 - \\frac{SSE}{\\sum_{i=1}^{N}(y_{original} - y_{média})^2}\n",
    "$$"
   ]
  },
  {
   "cell_type": "code",
   "execution_count": 19,
   "metadata": {
    "ExecuteTime": {
     "end_time": "2021-11-10T20:48:59.151682Z",
     "start_time": "2021-11-10T20:48:59.146207Z"
    }
   },
   "outputs": [
    {
     "data": {
      "text/plain": [
       "0.8476432377266169"
      ]
     },
     "execution_count": 19,
     "metadata": {},
     "output_type": "execute_result"
    }
   ],
   "source": [
    "R2 = r2_score(df['k'],df['km'])\n",
    "R2"
   ]
  },
  {
   "cell_type": "code",
   "execution_count": 20,
   "metadata": {
    "ExecuteTime": {
     "end_time": "2021-11-10T20:49:00.718680Z",
     "start_time": "2021-11-10T20:49:00.710929Z"
    }
   },
   "outputs": [],
   "source": [
    "result = pd.DataFrame({'SSE':[res.fun],\n",
    "             'MSE':[MSE],\n",
    "              'RMSE':[RMSE],\n",
    "              'R2':[R2],\n",
    "             'A':[res.x[0]],\n",
    "             'Ea':[res.x[1]],\n",
    "             '$N_{it}$':[res.nit],\n",
    "             '$N_{fun_{eval}}$':[res.nfev]},\n",
    "             index = ['BFGS']).T"
   ]
  },
  {
   "cell_type": "code",
   "execution_count": 21,
   "metadata": {
    "ExecuteTime": {
     "end_time": "2021-11-10T20:49:01.287334Z",
     "start_time": "2021-11-10T20:49:01.274729Z"
    }
   },
   "outputs": [
    {
     "data": {
      "text/html": [
       "<div>\n",
       "<style scoped>\n",
       "    .dataframe tbody tr th:only-of-type {\n",
       "        vertical-align: middle;\n",
       "    }\n",
       "\n",
       "    .dataframe tbody tr th {\n",
       "        vertical-align: top;\n",
       "    }\n",
       "\n",
       "    .dataframe thead th {\n",
       "        text-align: right;\n",
       "    }\n",
       "</style>\n",
       "<table border=\"1\" class=\"dataframe\">\n",
       "  <thead>\n",
       "    <tr style=\"text-align: right;\">\n",
       "      <th></th>\n",
       "      <th>BFGS</th>\n",
       "    </tr>\n",
       "  </thead>\n",
       "  <tbody>\n",
       "    <tr>\n",
       "      <th>SSE</th>\n",
       "      <td>143607.435782</td>\n",
       "    </tr>\n",
       "    <tr>\n",
       "      <th>MSE</th>\n",
       "      <td>10257.673984</td>\n",
       "    </tr>\n",
       "    <tr>\n",
       "      <th>RMSE</th>\n",
       "      <td>101.280176</td>\n",
       "    </tr>\n",
       "    <tr>\n",
       "      <th>R2</th>\n",
       "      <td>0.847643</td>\n",
       "    </tr>\n",
       "    <tr>\n",
       "      <th>A</th>\n",
       "      <td>9028.498082</td>\n",
       "    </tr>\n",
       "    <tr>\n",
       "      <th>Ea</th>\n",
       "      <td>770.588536</td>\n",
       "    </tr>\n",
       "    <tr>\n",
       "      <th>$N_{it}$</th>\n",
       "      <td>22.000000</td>\n",
       "    </tr>\n",
       "    <tr>\n",
       "      <th>$N_{fun_{eval}}$</th>\n",
       "      <td>209.000000</td>\n",
       "    </tr>\n",
       "  </tbody>\n",
       "</table>\n",
       "</div>"
      ],
      "text/plain": [
       "                           BFGS\n",
       "SSE               143607.435782\n",
       "MSE                10257.673984\n",
       "RMSE                 101.280176\n",
       "R2                     0.847643\n",
       "A                   9028.498082\n",
       "Ea                   770.588536\n",
       "$N_{it}$              22.000000\n",
       "$N_{fun_{eval}}$     209.000000"
      ]
     },
     "execution_count": 21,
     "metadata": {},
     "output_type": "execute_result"
    }
   ],
   "source": [
    "result"
   ]
  },
  {
   "cell_type": "markdown",
   "metadata": {},
   "source": [
    "# Visualização gráfica dos resultados"
   ]
  },
  {
   "cell_type": "code",
   "execution_count": 22,
   "metadata": {
    "ExecuteTime": {
     "end_time": "2021-11-10T20:49:03.812660Z",
     "start_time": "2021-11-10T20:49:02.536921Z"
    }
   },
   "outputs": [
    {
     "data": {
      "image/png": "[encoded data removed]",
      "text/plain": [
       "<Figure size 432x288 with 1 Axes>"
      ]
     },
     "metadata": {
      "needs_background": "light"
     },
     "output_type": "display_data"
    }
   ],
   "source": [
    "color1 = 'blue'\n",
    "plt.xlabel('Original Data',fontsize = ft2)\n",
    "plt.ylabel('Predicted Data',fontsize = ft2)\n",
    "plt.scatter(df['k'],df['km'],c = color1,marker = 'o',s = 25)\n",
    "color2 = 'grey'\n",
    "plt.plot([6000,8000],[6000,8000],c=color2,linestyle='--')\n",
    "plt.xlim([6500,7500])\n",
    "plt.ylim([6500,7500])\n",
    "plt.savefig('finalplot.png',format='png',dpi = 600,bbox_inches = 'tight')\n",
    "plt.show()"
   ]
  },
  {
   "cell_type": "code",
   "execution_count": 23,
   "metadata": {
    "ExecuteTime": {
     "end_time": "2021-11-10T20:49:06.202442Z",
     "start_time": "2021-11-10T20:49:03.816605Z"
    },
    "scrolled": true
   },
   "outputs": [
    {
     "data": {
      "image/png": "[encoded data removed]",
      "text/plain": [
       "<Figure size 648x360 with 1 Axes>"
      ]
     },
     "metadata": {
      "needs_background": "light"
     },
     "output_type": "display_data"
    }
   ],
   "source": [
    "plt.figure(figsize=(9,5))\n",
    "color1 = 'blue'\n",
    "plt.xlabel('T ($K$)',fontsize = ft2)\n",
    "plt.ylabel('k(T)',fontsize = ft2)\n",
    "plt.scatter(df['T'],df['k'],c = color1,marker = 'o',s = 15,label = 'Original Data')\n",
    "color2 = 'red'\n",
    "plt.plot(df['T'],df['km'],c=color2, label = 'Predicted Data')\n",
    "plt.legend(frameon = False,fontsize = ft2)\n",
    "plt.savefig('finalplot2.png',format='png',dpi = 600,bbox_inches = 'tight')\n",
    "plt.show()"
   ]
  },
  {
   "cell_type": "markdown",
   "metadata": {},
   "source": [
    "# F-teste & Região de Confiança"
   ]
  },
  {
   "cell_type": "markdown",
   "metadata": {},
   "source": [
    "O teste F é mais frequentemente usado ao comparar modelos estatísticos que foram ajustados a um conjunto de dados, a fim de identificar o modelo que melhor se ajusta à população da qual os dados foram amostrados. Os \"testes F\" exatos surgem principalmente quando os modelos foram ajustados aos dados usando a **função objetivo de  mínimos quadrados** e esse é o nosso caso. "
   ]
  },
  {
   "cell_type": "markdown",
   "metadata": {},
   "source": [
    "O teste F é um teste estatístico com o propósito de comparar como 2 conjuntos de dados estão alinhados. Temos 2 conjuntos no nosso caso:\n",
    "- o primeiro conjunto é o $S(\\theta)$\n",
    "- o segundo conjunto é o $S(\\theta^*)$ que é o conjunto ótimo encontrado pelo método de otimização. $\\theta^*$ são os parâmetros estimados (*ponto ótimo*). \n",
    "\n",
    "Os intervalos de confiança não lineares também podem ser visualizados em função de 2 parâmetros. Nesse caso, ambos os parâmetros são variados simultaneamente para encontrar a região de confiança. O intervalo de confiança é determinado com um teste F que especifica um limite superior para o desvio da solução ideal:\n",
    "\n",
    "$$\n",
    "\\frac{S(\\theta)-S(\\theta^*)}{S(\\theta^*)} \\leq \\frac{p}{n-p} F(\\alpha,p,n-p)\n",
    "$$\n",
    "\n",
    "onde:\n",
    "- $p = $ número de parâmetros estimados\n",
    "- $n =$ número de medidas experimentais\n",
    "- $\\alpha = $ grau de confiança assumido \n",
    "- $1-\\alpha = $ nível de significância assumido\n",
    "- $n - p = $ grau de liberdade\n",
    "\n",
    "Temos, no presente caso, p = 2. A estatística F tem 3 argumentos (alfa = nível de confiância, graus de liberdade 1 e graus de liberdade 2). Para muitos problemas, isso cria uma região de confiança não linear multidimensional. No caso de 2 parâmetros, a região de confiança não linear é um espaço bidimensional. "
   ]
  },
  {
   "cell_type": "markdown",
   "metadata": {},
   "source": [
    "Vamos testar essa teoria na prática!"
   ]
  },
  {
   "cell_type": "code",
   "execution_count": 24,
   "metadata": {
    "ExecuteTime": {
     "end_time": "2021-11-10T20:52:24.288829Z",
     "start_time": "2021-11-10T20:52:24.278160Z"
    }
   },
   "outputs": [],
   "source": [
    "from scipy import stats   #Pacote de funcoes estatisticas "
   ]
  },
  {
   "cell_type": "markdown",
   "metadata": {},
   "source": [
    "$$\n",
    "S(\\theta)  \\leq \\left[ \\frac{p}{n-p} F(\\alpha,p,n-p)\\right]S(\\theta^*) + S(\\theta^*)\n",
    "$$"
   ]
  },
  {
   "cell_type": "code",
   "execution_count": 25,
   "metadata": {
    "ExecuteTime": {
     "end_time": "2021-11-10T20:52:51.734884Z",
     "start_time": "2021-11-10T20:52:51.727053Z"
    }
   },
   "outputs": [
    {
     "name": "stdout",
     "output_type": "stream",
     "text": [
      "3.8852938346523933 3.8852938346523933\n"
     ]
    }
   ],
   "source": [
    "fotm = SSE\n",
    "p = len(x0) # number of parameters\n",
    "n = N # number of data points\n",
    "α = 0.95 # alpha, confidence interval\n",
    "F_fisher = stats.f.isf(1-α,p,(n-p)) \n",
    "#F_fisher = stats.f.ppf(α, p, (n-p)) # mesmo resultado que a conta de cima\n",
    "print(F_fisher,stats.f.ppf(α, p, (n-p)))"
   ]
  },
  {
   "cell_type": "code",
   "execution_count": 26,
   "metadata": {
    "ExecuteTime": {
     "end_time": "2021-11-10T20:53:07.902453Z",
     "start_time": "2021-11-10T20:53:07.887687Z"
    }
   },
   "outputs": [
    {
     "data": {
      "text/plain": [
       "236600.28325778077"
      ]
     },
     "execution_count": 26,
     "metadata": {},
     "output_type": "execute_result"
    }
   ],
   "source": [
    "rhs = p/(n-p)*F_fisher*fotm + fotm # right hand side of the last equation\n",
    "rhs"
   ]
  },
  {
   "cell_type": "markdown",
   "metadata": {},
   "source": [
    "- total de conjunto de parâmetros testados pelo otimizador: *nparams*"
   ]
  },
  {
   "cell_type": "code",
   "execution_count": 27,
   "metadata": {
    "ExecuteTime": {
     "end_time": "2021-11-10T20:53:38.684686Z",
     "start_time": "2021-11-10T20:53:38.678894Z"
    }
   },
   "outputs": [
    {
     "data": {
      "text/plain": [
       "209"
      ]
     },
     "execution_count": 27,
     "metadata": {},
     "output_type": "execute_result"
    }
   ],
   "source": [
    "nparams = RC.index[-1]+1\n",
    "nparams"
   ]
  },
  {
   "cell_type": "code",
   "execution_count": 28,
   "metadata": {
    "ExecuteTime": {
     "end_time": "2021-11-10T20:53:50.102053Z",
     "start_time": "2021-11-10T20:53:50.074375Z"
    }
   },
   "outputs": [
    {
     "data": {
      "text/html": [
       "<div>\n",
       "<style scoped>\n",
       "    .dataframe tbody tr th:only-of-type {\n",
       "        vertical-align: middle;\n",
       "    }\n",
       "\n",
       "    .dataframe tbody tr th {\n",
       "        vertical-align: top;\n",
       "    }\n",
       "\n",
       "    .dataframe thead th {\n",
       "        text-align: right;\n",
       "    }\n",
       "</style>\n",
       "<table border=\"1\" class=\"dataframe\">\n",
       "  <thead>\n",
       "    <tr style=\"text-align: right;\">\n",
       "      <th></th>\n",
       "      <th>A</th>\n",
       "      <th>Ea</th>\n",
       "      <th>Fobj</th>\n",
       "    </tr>\n",
       "  </thead>\n",
       "  <tbody>\n",
       "    <tr>\n",
       "      <th>count</th>\n",
       "      <td>209.000000</td>\n",
       "      <td>209.000000</td>\n",
       "      <td>2.090000e+02</td>\n",
       "    </tr>\n",
       "    <tr>\n",
       "      <th>mean</th>\n",
       "      <td>7537.042802</td>\n",
       "      <td>416.218188</td>\n",
       "      <td>6.452033e+07</td>\n",
       "    </tr>\n",
       "    <tr>\n",
       "      <th>std</th>\n",
       "      <td>2755.702536</td>\n",
       "      <td>682.721899</td>\n",
       "      <td>1.858449e+08</td>\n",
       "    </tr>\n",
       "    <tr>\n",
       "      <th>min</th>\n",
       "      <td>200.000000</td>\n",
       "      <td>-2069.987025</td>\n",
       "      <td>1.436074e+05</td>\n",
       "    </tr>\n",
       "    <tr>\n",
       "      <th>25%</th>\n",
       "      <td>7161.103536</td>\n",
       "      <td>124.167341</td>\n",
       "      <td>1.436074e+05</td>\n",
       "    </tr>\n",
       "    <tr>\n",
       "      <th>50%</th>\n",
       "      <td>9028.498082</td>\n",
       "      <td>770.588536</td>\n",
       "      <td>1.436074e+05</td>\n",
       "    </tr>\n",
       "    <tr>\n",
       "      <th>75%</th>\n",
       "      <td>9028.498082</td>\n",
       "      <td>770.588536</td>\n",
       "      <td>1.283179e+06</td>\n",
       "    </tr>\n",
       "    <tr>\n",
       "      <th>max</th>\n",
       "      <td>9028.513932</td>\n",
       "      <td>770.592731</td>\n",
       "      <td>6.570733e+08</td>\n",
       "    </tr>\n",
       "  </tbody>\n",
       "</table>\n",
       "</div>"
      ],
      "text/plain": [
       "                 A           Ea          Fobj\n",
       "count   209.000000   209.000000  2.090000e+02\n",
       "mean   7537.042802   416.218188  6.452033e+07\n",
       "std    2755.702536   682.721899  1.858449e+08\n",
       "min     200.000000 -2069.987025  1.436074e+05\n",
       "25%    7161.103536   124.167341  1.436074e+05\n",
       "50%    9028.498082   770.588536  1.436074e+05\n",
       "75%    9028.498082   770.588536  1.283179e+06\n",
       "max    9028.513932   770.592731  6.570733e+08"
      ]
     },
     "execution_count": 28,
     "metadata": {},
     "output_type": "execute_result"
    }
   ],
   "source": [
    "RC.describe()"
   ]
  },
  {
   "cell_type": "code",
   "execution_count": 29,
   "metadata": {
    "ExecuteTime": {
     "end_time": "2021-11-10T20:55:00.670468Z",
     "start_time": "2021-11-10T20:55:00.619440Z"
    }
   },
   "outputs": [],
   "source": [
    "for i in range(nparams):\n",
    "    if RC['Fobj'][i] > rhs:\n",
    "        RC = RC.drop(i) # deletar essa linha do DataFrame\n",
    "RC = RC.reset_index(drop=True)"
   ]
  },
  {
   "cell_type": "code",
   "execution_count": 30,
   "metadata": {
    "ExecuteTime": {
     "end_time": "2021-11-10T20:55:01.942630Z",
     "start_time": "2021-11-10T20:55:01.919891Z"
    }
   },
   "outputs": [
    {
     "data": {
      "text/html": [
       "<div>\n",
       "<style scoped>\n",
       "    .dataframe tbody tr th:only-of-type {\n",
       "        vertical-align: middle;\n",
       "    }\n",
       "\n",
       "    .dataframe tbody tr th {\n",
       "        vertical-align: top;\n",
       "    }\n",
       "\n",
       "    .dataframe thead th {\n",
       "        text-align: right;\n",
       "    }\n",
       "</style>\n",
       "<table border=\"1\" class=\"dataframe\">\n",
       "  <thead>\n",
       "    <tr style=\"text-align: right;\">\n",
       "      <th></th>\n",
       "      <th>A</th>\n",
       "      <th>Ea</th>\n",
       "      <th>Fobj</th>\n",
       "    </tr>\n",
       "  </thead>\n",
       "  <tbody>\n",
       "    <tr>\n",
       "      <th>count</th>\n",
       "      <td>149.000000</td>\n",
       "      <td>149.000000</td>\n",
       "      <td>149.000000</td>\n",
       "    </tr>\n",
       "    <tr>\n",
       "      <th>mean</th>\n",
       "      <td>9012.332932</td>\n",
       "      <td>765.263484</td>\n",
       "      <td>145395.549514</td>\n",
       "    </tr>\n",
       "    <tr>\n",
       "      <th>std</th>\n",
       "      <td>89.451734</td>\n",
       "      <td>30.208454</td>\n",
       "      <td>9760.622192</td>\n",
       "    </tr>\n",
       "    <tr>\n",
       "      <th>min</th>\n",
       "      <td>8407.664996</td>\n",
       "      <td>558.620280</td>\n",
       "      <td>143607.435782</td>\n",
       "    </tr>\n",
       "    <tr>\n",
       "      <th>25%</th>\n",
       "      <td>9028.498081</td>\n",
       "      <td>770.588536</td>\n",
       "      <td>143607.435782</td>\n",
       "    </tr>\n",
       "    <tr>\n",
       "      <th>50%</th>\n",
       "      <td>9028.498082</td>\n",
       "      <td>770.588536</td>\n",
       "      <td>143607.435782</td>\n",
       "    </tr>\n",
       "    <tr>\n",
       "      <th>75%</th>\n",
       "      <td>9028.498082</td>\n",
       "      <td>770.588536</td>\n",
       "      <td>143607.435782</td>\n",
       "    </tr>\n",
       "    <tr>\n",
       "      <th>max</th>\n",
       "      <td>9028.513932</td>\n",
       "      <td>770.592731</td>\n",
       "      <td>210458.597772</td>\n",
       "    </tr>\n",
       "  </tbody>\n",
       "</table>\n",
       "</div>"
      ],
      "text/plain": [
       "                 A          Ea           Fobj\n",
       "count   149.000000  149.000000     149.000000\n",
       "mean   9012.332932  765.263484  145395.549514\n",
       "std      89.451734   30.208454    9760.622192\n",
       "min    8407.664996  558.620280  143607.435782\n",
       "25%    9028.498081  770.588536  143607.435782\n",
       "50%    9028.498082  770.588536  143607.435782\n",
       "75%    9028.498082  770.588536  143607.435782\n",
       "max    9028.513932  770.592731  210458.597772"
      ]
     },
     "execution_count": 30,
     "metadata": {},
     "output_type": "execute_result"
    }
   ],
   "source": [
    "RC.describe()"
   ]
  },
  {
   "cell_type": "code",
   "execution_count": 31,
   "metadata": {
    "ExecuteTime": {
     "end_time": "2021-11-10T20:55:10.882739Z",
     "start_time": "2021-11-10T20:55:10.659463Z"
    }
   },
   "outputs": [
    {
     "data": {
      "image/png": "[encoded data removed]",
      "text/plain": [
       "<Figure size 432x288 with 1 Axes>"
      ]
     },
     "metadata": {
      "needs_background": "light"
     },
     "output_type": "display_data"
    }
   ],
   "source": [
    "plt.scatter(RC['A'],RC['Ea'],s = 10, c = 'black')\n",
    "plt.scatter(res.x[0],res.x[1],s = 15, c = 'red')\n",
    "#plt.xlim([9027,9029])\n",
    "#plt.ylim([700,800])\n",
    "plt.show()"
   ]
  },
  {
   "cell_type": "markdown",
   "metadata": {},
   "source": [
    "- Bom, como a região de confiança não saiu boa, vamos tentar outra abordagem..."
   ]
  },
  {
   "cell_type": "markdown",
   "metadata": {},
   "source": [
    "Vamos gerar a região de confiança como uma etapa separada da estimação de parâmetros."
   ]
  },
  {
   "cell_type": "code",
   "execution_count": 32,
   "metadata": {
    "ExecuteTime": {
     "end_time": "2021-11-10T20:57:05.850119Z",
     "start_time": "2021-11-10T20:57:05.838085Z"
    }
   },
   "outputs": [],
   "source": [
    "def RCfun(par):\n",
    "    global RC\n",
    "    dftemp = df.copy()\n",
    "    dftemp['km'] = modelo(par[0],par[1],dftemp['T']) # km = k modelo\n",
    "    dftemp['error'] = (dftemp['k'] - dftemp['km'])**2\n",
    "    SSE = dftemp['error'].sum() # residual sum of squares\n",
    "    RC = RC.append({'A':par[0],'Ea':par[1],'Fobj':SSE}, ignore_index=True)"
   ]
  },
  {
   "cell_type": "code",
   "execution_count": 36,
   "metadata": {
    "ExecuteTime": {
     "end_time": "2021-11-10T20:57:35.408154Z",
     "start_time": "2021-11-10T20:57:35.399027Z"
    }
   },
   "outputs": [],
   "source": [
    "nn = 50 # 200\n",
    "k1 = np.linspace(10,res.x[0]*0.9+res.x[0],nn)\n",
    "k2 = np.linspace(50,res.x[1]*0.9+res.x[1],nn)"
   ]
  },
  {
   "cell_type": "code",
   "execution_count": 37,
   "metadata": {
    "ExecuteTime": {
     "end_time": "2021-11-10T20:57:50.871886Z",
     "start_time": "2021-11-10T20:57:36.018435Z"
    }
   },
   "outputs": [
    {
     "name": "stdout",
     "output_type": "stream",
     "text": [
      "0\n",
      "1\n",
      "2\n",
      "3\n",
      "4\n",
      "5\n",
      "6\n",
      "7\n",
      "8\n",
      "9\n",
      "10\n",
      "11\n",
      "12\n",
      "13\n",
      "14\n",
      "15\n",
      "16\n",
      "17\n",
      "18\n",
      "19\n",
      "20\n",
      "21\n",
      "22\n",
      "23\n",
      "24\n",
      "25\n",
      "26\n",
      "27\n",
      "28\n",
      "29\n",
      "30\n",
      "31\n",
      "32\n",
      "33\n",
      "34\n",
      "35\n",
      "36\n",
      "37\n",
      "38\n",
      "39\n",
      "40\n",
      "41\n",
      "42\n",
      "43\n",
      "44\n",
      "45\n",
      "46\n",
      "47\n",
      "48\n",
      "49\n"
     ]
    }
   ],
   "source": [
    "global RC\n",
    "RC = pd.DataFrame()\n",
    "for i in range(nn):\n",
    "    for j in range(nn):\n",
    "        RCfun([k1[i],k2[j]])\n",
    "    print(i)"
   ]
  },
  {
   "cell_type": "code",
   "execution_count": 38,
   "metadata": {
    "ExecuteTime": {
     "end_time": "2021-11-10T20:57:53.519253Z",
     "start_time": "2021-11-10T20:57:53.512268Z"
    }
   },
   "outputs": [
    {
     "name": "stdout",
     "output_type": "stream",
     "text": [
      "3.8852938346523933 3.8852938346523933\n"
     ]
    }
   ],
   "source": [
    "fotm = SSE\n",
    "p = len(x0) # number of parameters\n",
    "n = N # number of data points\n",
    "α = 0.95 # alpha, confidence interval\n",
    "F_fisher = stats.f.isf(1-α,p,(n-p)) \n",
    "#F_fisher = stats.f.ppf(α, p, (n-p)) # mesmo resultado que a conta de cima\n",
    "print(F_fisher,stats.f.ppf(α, p, (n-p)))"
   ]
  },
  {
   "cell_type": "code",
   "execution_count": 39,
   "metadata": {
    "ExecuteTime": {
     "end_time": "2021-11-10T20:57:54.151743Z",
     "start_time": "2021-11-10T20:57:54.146014Z"
    }
   },
   "outputs": [
    {
     "data": {
      "text/plain": [
       "236600.28325778077"
      ]
     },
     "execution_count": 39,
     "metadata": {},
     "output_type": "execute_result"
    }
   ],
   "source": [
    "rhs = p/(n-p)*F_fisher*fotm + fotm # right hand side of the last equation\n",
    "rhs"
   ]
  },
  {
   "cell_type": "markdown",
   "metadata": {},
   "source": [
    "- total de conjunto de parâmetros testados pelo otimizador: *nparams*"
   ]
  },
  {
   "cell_type": "code",
   "execution_count": 40,
   "metadata": {
    "ExecuteTime": {
     "end_time": "2021-11-10T20:57:56.866762Z",
     "start_time": "2021-11-10T20:57:56.856650Z"
    }
   },
   "outputs": [
    {
     "data": {
      "text/plain": [
       "2500"
      ]
     },
     "execution_count": 40,
     "metadata": {},
     "output_type": "execute_result"
    }
   ],
   "source": [
    "nparams = RC.index[-1]+1\n",
    "nparams"
   ]
  },
  {
   "cell_type": "code",
   "execution_count": 41,
   "metadata": {
    "ExecuteTime": {
     "end_time": "2021-11-10T20:57:58.626050Z",
     "start_time": "2021-11-10T20:57:58.590802Z"
    }
   },
   "outputs": [
    {
     "data": {
      "text/html": [
       "<div>\n",
       "<style scoped>\n",
       "    .dataframe tbody tr th:only-of-type {\n",
       "        vertical-align: middle;\n",
       "    }\n",
       "\n",
       "    .dataframe tbody tr th {\n",
       "        vertical-align: top;\n",
       "    }\n",
       "\n",
       "    .dataframe thead th {\n",
       "        text-align: right;\n",
       "    }\n",
       "</style>\n",
       "<table border=\"1\" class=\"dataframe\">\n",
       "  <thead>\n",
       "    <tr style=\"text-align: right;\">\n",
       "      <th></th>\n",
       "      <th>A</th>\n",
       "      <th>Ea</th>\n",
       "      <th>Fobj</th>\n",
       "    </tr>\n",
       "  </thead>\n",
       "  <tbody>\n",
       "    <tr>\n",
       "      <th>count</th>\n",
       "      <td>2500.000000</td>\n",
       "      <td>2500.000000</td>\n",
       "      <td>2.500000e+03</td>\n",
       "    </tr>\n",
       "    <tr>\n",
       "      <th>mean</th>\n",
       "      <td>8582.073177</td>\n",
       "      <td>757.059110</td>\n",
       "      <td>2.399475e+08</td>\n",
       "    </tr>\n",
       "    <tr>\n",
       "      <th>std</th>\n",
       "      <td>5050.090568</td>\n",
       "      <td>416.551803</td>\n",
       "      <td>2.403706e+08</td>\n",
       "    </tr>\n",
       "    <tr>\n",
       "      <th>min</th>\n",
       "      <td>10.000000</td>\n",
       "      <td>50.000000</td>\n",
       "      <td>1.453430e+05</td>\n",
       "    </tr>\n",
       "    <tr>\n",
       "      <th>25%</th>\n",
       "      <td>4208.566454</td>\n",
       "      <td>396.314666</td>\n",
       "      <td>4.063195e+07</td>\n",
       "    </tr>\n",
       "    <tr>\n",
       "      <th>50%</th>\n",
       "      <td>8582.073177</td>\n",
       "      <td>757.059110</td>\n",
       "      <td>1.627186e+08</td>\n",
       "    </tr>\n",
       "    <tr>\n",
       "      <th>75%</th>\n",
       "      <td>12955.579901</td>\n",
       "      <td>1117.803553</td>\n",
       "      <td>3.825493e+08</td>\n",
       "    </tr>\n",
       "    <tr>\n",
       "      <th>max</th>\n",
       "      <td>17154.146355</td>\n",
       "      <td>1464.118219</td>\n",
       "      <td>1.356059e+09</td>\n",
       "    </tr>\n",
       "  </tbody>\n",
       "</table>\n",
       "</div>"
      ],
      "text/plain": [
       "                  A           Ea          Fobj\n",
       "count   2500.000000  2500.000000  2.500000e+03\n",
       "mean    8582.073177   757.059110  2.399475e+08\n",
       "std     5050.090568   416.551803  2.403706e+08\n",
       "min       10.000000    50.000000  1.453430e+05\n",
       "25%     4208.566454   396.314666  4.063195e+07\n",
       "50%     8582.073177   757.059110  1.627186e+08\n",
       "75%    12955.579901  1117.803553  3.825493e+08\n",
       "max    17154.146355  1464.118219  1.356059e+09"
      ]
     },
     "execution_count": 41,
     "metadata": {},
     "output_type": "execute_result"
    }
   ],
   "source": [
    "RC.describe()"
   ]
  },
  {
   "cell_type": "code",
   "execution_count": 42,
   "metadata": {
    "ExecuteTime": {
     "end_time": "2021-11-10T20:58:04.811517Z",
     "start_time": "2021-11-10T20:58:02.914302Z"
    }
   },
   "outputs": [],
   "source": [
    "for i in range(nparams):\n",
    "    if RC['Fobj'][i] > rhs:\n",
    "        RC = RC.drop(i) # deletar essa linha do DataFrame\n",
    "RC = RC.reset_index(drop=True)"
   ]
  },
  {
   "cell_type": "code",
   "execution_count": 43,
   "metadata": {
    "ExecuteTime": {
     "end_time": "2021-11-10T20:58:05.895699Z",
     "start_time": "2021-11-10T20:58:05.695811Z"
    }
   },
   "outputs": [
    {
     "data": {
      "image/png": "[encoded data removed]",
      "text/plain": [
       "<Figure size 432x288 with 1 Axes>"
      ]
     },
     "metadata": {
      "needs_background": "light"
     },
     "output_type": "display_data"
    }
   ],
   "source": [
    "plt.scatter(RC['A'],RC['Ea'],s = 10, c = 'black')\n",
    "plt.scatter(res.x[0],res.x[1],s = 15, c = 'red')\n",
    "#plt.xlim([9027,9029])\n",
    "#plt.ylim([700,800])\n",
    "plt.show()"
   ]
  },
  {
   "cell_type": "markdown",
   "metadata": {},
   "source": [
    "- analisando o gráfico acima, podemos ver que dá para aumentar o conjunto de dados gerados..."
   ]
  },
  {
   "cell_type": "code",
   "execution_count": 52,
   "metadata": {
    "ExecuteTime": {
     "end_time": "2021-11-10T21:02:42.017108Z",
     "start_time": "2021-11-10T21:02:42.008168Z"
    }
   },
   "outputs": [],
   "source": [
    "nn = 500\n",
    "k1 = np.linspace(10,res.x[0]*0.9+res.x[0],nn)\n",
    "k2 = np.linspace(50,res.x[1]*0.9+res.x[1],nn)"
   ]
  },
  {
   "cell_type": "code",
   "execution_count": 53,
   "metadata": {
    "ExecuteTime": {
     "end_time": "2021-11-10T21:21:18.424621Z",
     "start_time": "2021-11-10T21:02:43.149310Z"
    }
   },
   "outputs": [
    {
     "name": "stdout",
     "output_type": "stream",
     "text": [
      "0\n",
      "1\n",
      "2\n",
      "3\n",
      "4\n",
      "5\n",
      "6\n",
      "7\n",
      "8\n",
      "9\n",
      "10\n",
      "11\n",
      "12\n",
      "13\n",
      "14\n",
      "15\n",
      "16\n",
      "17\n",
      "18\n",
      "19\n",
      "20\n",
      "21\n",
      "22\n",
      "23\n",
      "24\n",
      "25\n",
      "26\n",
      "27\n",
      "28\n",
      "29\n",
      "30\n",
      "31\n",
      "32\n",
      "33\n",
      "34\n",
      "35\n",
      "36\n",
      "37\n",
      "38\n",
      "39\n",
      "40\n",
      "41\n",
      "42\n",
      "43\n",
      "44\n",
      "45\n",
      "46\n",
      "47\n",
      "48\n",
      "49\n",
      "50\n",
      "51\n",
      "52\n",
      "53\n",
      "54\n",
      "55\n",
      "56\n",
      "57\n",
      "58\n",
      "59\n",
      "60\n",
      "61\n",
      "62\n",
      "63\n",
      "64\n",
      "65\n",
      "66\n",
      "67\n",
      "68\n",
      "69\n",
      "70\n",
      "71\n",
      "72\n",
      "73\n",
      "74\n",
      "75\n",
      "76\n",
      "77\n",
      "78\n",
      "79\n",
      "80\n",
      "81\n",
      "82\n",
      "83\n",
      "84\n",
      "85\n",
      "86\n",
      "87\n",
      "88\n",
      "89\n",
      "90\n",
      "91\n",
      "92\n",
      "93\n",
      "94\n",
      "95\n",
      "96\n",
      "97\n",
      "98\n",
      "99\n",
      "100\n",
      "101\n",
      "102\n",
      "103\n",
      "104\n",
      "105\n",
      "106\n",
      "107\n",
      "108\n",
      "109\n",
      "110\n",
      "111\n",
      "112\n",
      "113\n",
      "114\n",
      "115\n",
      "116\n",
      "117\n",
      "118\n",
      "119\n",
      "120\n",
      "121\n",
      "122\n",
      "123\n",
      "124\n",
      "125\n",
      "126\n",
      "127\n",
      "128\n",
      "129\n",
      "130\n",
      "131\n",
      "132\n",
      "133\n",
      "134\n",
      "135\n",
      "136\n",
      "137\n",
      "138\n",
      "139\n",
      "140\n",
      "141\n",
      "142\n",
      "143\n",
      "144\n",
      "145\n",
      "146\n",
      "147\n",
      "148\n",
      "149\n",
      "150\n",
      "151\n",
      "152\n",
      "153\n",
      "154\n",
      "155\n",
      "156\n",
      "157\n",
      "158\n",
      "159\n",
      "160\n",
      "161\n",
      "162\n",
      "163\n",
      "164\n",
      "165\n",
      "166\n",
      "167\n",
      "168\n",
      "169\n",
      "170\n",
      "171\n",
      "172\n",
      "173\n",
      "174\n",
      "175\n",
      "176\n",
      "177\n",
      "178\n",
      "179\n",
      "180\n",
      "181\n",
      "182\n",
      "183\n",
      "184\n",
      "185\n",
      "186\n",
      "187\n",
      "188\n",
      "189\n",
      "190\n",
      "191\n",
      "192\n",
      "193\n",
      "194\n",
      "195\n",
      "196\n",
      "197\n",
      "198\n",
      "199\n",
      "200\n",
      "201\n",
      "202\n",
      "203\n",
      "204\n",
      "205\n",
      "206\n",
      "207\n",
      "208\n",
      "209\n",
      "210\n",
      "211\n",
      "212\n",
      "213\n",
      "214\n",
      "215\n",
      "216\n",
      "217\n",
      "218\n",
      "219\n",
      "220\n",
      "221\n",
      "222\n",
      "223\n",
      "224\n",
      "225\n",
      "226\n",
      "227\n",
      "228\n",
      "229\n",
      "230\n",
      "231\n",
      "232\n",
      "233\n",
      "234\n",
      "235\n",
      "236\n",
      "237\n",
      "238\n",
      "239\n",
      "240\n",
      "241\n",
      "242\n",
      "243\n",
      "244\n",
      "245\n",
      "246\n",
      "247\n",
      "248\n",
      "249\n",
      "250\n",
      "251\n",
      "252\n",
      "253\n",
      "254\n",
      "255\n",
      "256\n",
      "257\n",
      "258\n",
      "259\n",
      "260\n",
      "261\n",
      "262\n",
      "263\n",
      "264\n",
      "265\n",
      "266\n",
      "267\n",
      "268\n",
      "269\n",
      "270\n",
      "271\n",
      "272\n",
      "273\n",
      "274\n",
      "275\n",
      "276\n",
      "277\n",
      "278\n",
      "279\n",
      "280\n",
      "281\n",
      "282\n",
      "283\n",
      "284\n",
      "285\n",
      "286\n",
      "287\n",
      "288\n",
      "289\n",
      "290\n",
      "291\n",
      "292\n",
      "293\n",
      "294\n",
      "295\n",
      "296\n",
      "297\n",
      "298\n",
      "299\n",
      "300\n",
      "301\n",
      "302\n",
      "303\n",
      "304\n",
      "305\n",
      "306\n",
      "307\n",
      "308\n",
      "309\n",
      "310\n",
      "311\n",
      "312\n",
      "313\n",
      "314\n",
      "315\n",
      "316\n",
      "317\n",
      "318\n",
      "319\n",
      "320\n",
      "321\n",
      "322\n",
      "323\n",
      "324\n",
      "325\n",
      "326\n",
      "327\n",
      "328\n",
      "329\n",
      "330\n",
      "331\n",
      "332\n",
      "333\n",
      "334\n",
      "335\n",
      "336\n",
      "337\n",
      "338\n",
      "339\n",
      "340\n",
      "341\n",
      "342\n",
      "343\n",
      "344\n",
      "345\n",
      "346\n",
      "347\n",
      "348\n",
      "349\n",
      "350\n",
      "351\n",
      "352\n",
      "353\n",
      "354\n",
      "355\n",
      "356\n",
      "357\n",
      "358\n",
      "359\n",
      "360\n",
      "361\n",
      "362\n",
      "363\n",
      "364\n",
      "365\n",
      "366\n",
      "367\n",
      "368\n",
      "369\n",
      "370\n",
      "371\n",
      "372\n",
      "373\n",
      "374\n",
      "375\n",
      "376\n",
      "377\n",
      "378\n",
      "379\n",
      "380\n",
      "381\n",
      "382\n",
      "383\n",
      "384\n",
      "385\n",
      "386\n",
      "387\n",
      "388\n",
      "389\n",
      "390\n",
      "391\n",
      "392\n",
      "393\n",
      "394\n",
      "395\n",
      "396\n",
      "397\n",
      "398\n",
      "399\n",
      "400\n",
      "401\n",
      "402\n",
      "403\n",
      "404\n",
      "405\n",
      "406\n",
      "407\n",
      "408\n",
      "409\n",
      "410\n",
      "411\n",
      "412\n",
      "413\n",
      "414\n",
      "415\n",
      "416\n",
      "417\n",
      "418\n",
      "419\n",
      "420\n",
      "421\n",
      "422\n",
      "423\n",
      "424\n",
      "425\n",
      "426\n",
      "427\n",
      "428\n",
      "429\n",
      "430\n",
      "431\n",
      "432\n",
      "433\n",
      "434\n",
      "435\n",
      "436\n",
      "437\n",
      "438\n",
      "439\n",
      "440\n",
      "441\n",
      "442\n",
      "443\n",
      "444\n",
      "445\n",
      "446\n",
      "447\n",
      "448\n",
      "449\n",
      "450\n",
      "451\n",
      "452\n",
      "453\n",
      "454\n",
      "455\n",
      "456\n",
      "457\n",
      "458\n",
      "459\n",
      "460\n",
      "461\n",
      "462\n",
      "463\n",
      "464\n",
      "465\n",
      "466\n",
      "467\n",
      "468\n",
      "469\n",
      "470\n",
      "471\n",
      "472\n",
      "473\n",
      "474\n",
      "475\n",
      "476\n",
      "477\n",
      "478\n",
      "479\n",
      "480\n",
      "481\n",
      "482\n",
      "483\n",
      "484\n",
      "485\n",
      "486\n",
      "487\n",
      "488\n",
      "489\n",
      "490\n",
      "491\n",
      "492\n",
      "493\n",
      "494\n",
      "495\n",
      "496\n",
      "497\n",
      "498\n",
      "499\n"
     ]
    }
   ],
   "source": [
    "global RC\n",
    "RC = pd.DataFrame()\n",
    "for i in range(nn):\n",
    "    for j in range(nn):\n",
    "        RCfun([k1[i],k2[j]])\n",
    "    print(i)"
   ]
  },
  {
   "cell_type": "code",
   "execution_count": 54,
   "metadata": {
    "ExecuteTime": {
     "end_time": "2021-11-10T21:21:18.433013Z",
     "start_time": "2021-11-10T21:21:18.427225Z"
    }
   },
   "outputs": [
    {
     "name": "stdout",
     "output_type": "stream",
     "text": [
      "3.8852938346523933 3.8852938346523933\n"
     ]
    }
   ],
   "source": [
    "fotm = SSE\n",
    "p = len(x0) # number of parameters\n",
    "n = N # number of data points\n",
    "α = 0.95 # alpha, confidence interval\n",
    "F_fisher = stats.f.isf(1-α,p,(n-p)) \n",
    "#F_fisher = stats.f.ppf(α, p, (n-p)) # mesmo resultado que a conta de cima\n",
    "print(F_fisher,stats.f.ppf(α, p, (n-p)))"
   ]
  },
  {
   "cell_type": "code",
   "execution_count": 55,
   "metadata": {
    "ExecuteTime": {
     "end_time": "2021-11-10T21:21:18.440626Z",
     "start_time": "2021-11-10T21:21:18.436451Z"
    }
   },
   "outputs": [
    {
     "data": {
      "text/plain": [
       "236600.28325778077"
      ]
     },
     "execution_count": 55,
     "metadata": {},
     "output_type": "execute_result"
    }
   ],
   "source": [
    "rhs = p/(n-p)*F_fisher*fotm + fotm # right hand side of the last equation\n",
    "rhs"
   ]
  },
  {
   "cell_type": "markdown",
   "metadata": {},
   "source": [
    "- total de conjunto de parâmetros testados pelo otimizador: *nparams*"
   ]
  },
  {
   "cell_type": "code",
   "execution_count": 56,
   "metadata": {
    "ExecuteTime": {
     "end_time": "2021-11-10T21:21:18.448172Z",
     "start_time": "2021-11-10T21:21:18.443646Z"
    }
   },
   "outputs": [
    {
     "data": {
      "text/plain": [
       "250000"
      ]
     },
     "execution_count": 56,
     "metadata": {},
     "output_type": "execute_result"
    }
   ],
   "source": [
    "nparams = RC.index[-1]+1\n",
    "nparams"
   ]
  },
  {
   "cell_type": "code",
   "execution_count": 57,
   "metadata": {
    "ExecuteTime": {
     "end_time": "2021-11-10T21:21:18.483542Z",
     "start_time": "2021-11-10T21:21:18.450446Z"
    }
   },
   "outputs": [
    {
     "data": {
      "text/html": [
       "<div>\n",
       "<style scoped>\n",
       "    .dataframe tbody tr th:only-of-type {\n",
       "        vertical-align: middle;\n",
       "    }\n",
       "\n",
       "    .dataframe tbody tr th {\n",
       "        vertical-align: top;\n",
       "    }\n",
       "\n",
       "    .dataframe thead th {\n",
       "        text-align: right;\n",
       "    }\n",
       "</style>\n",
       "<table border=\"1\" class=\"dataframe\">\n",
       "  <thead>\n",
       "    <tr style=\"text-align: right;\">\n",
       "      <th></th>\n",
       "      <th>A</th>\n",
       "      <th>Ea</th>\n",
       "      <th>Fobj</th>\n",
       "    </tr>\n",
       "  </thead>\n",
       "  <tbody>\n",
       "    <tr>\n",
       "      <th>count</th>\n",
       "      <td>250000.000000</td>\n",
       "      <td>250000.000000</td>\n",
       "      <td>2.500000e+05</td>\n",
       "    </tr>\n",
       "    <tr>\n",
       "      <th>mean</th>\n",
       "      <td>8582.073177</td>\n",
       "      <td>757.059110</td>\n",
       "      <td>2.312313e+08</td>\n",
       "    </tr>\n",
       "    <tr>\n",
       "      <th>std</th>\n",
       "      <td>4959.006770</td>\n",
       "      <td>409.038845</td>\n",
       "      <td>2.311818e+08</td>\n",
       "    </tr>\n",
       "    <tr>\n",
       "      <th>min</th>\n",
       "      <td>10.000000</td>\n",
       "      <td>50.000000</td>\n",
       "      <td>1.436868e+05</td>\n",
       "    </tr>\n",
       "    <tr>\n",
       "      <th>25%</th>\n",
       "      <td>4296.036589</td>\n",
       "      <td>403.529555</td>\n",
       "      <td>3.934195e+07</td>\n",
       "    </tr>\n",
       "    <tr>\n",
       "      <th>50%</th>\n",
       "      <td>8582.073177</td>\n",
       "      <td>757.059110</td>\n",
       "      <td>1.562935e+08</td>\n",
       "    </tr>\n",
       "    <tr>\n",
       "      <th>75%</th>\n",
       "      <td>12868.109766</td>\n",
       "      <td>1110.588664</td>\n",
       "      <td>3.685480e+08</td>\n",
       "    </tr>\n",
       "    <tr>\n",
       "      <th>max</th>\n",
       "      <td>17154.146355</td>\n",
       "      <td>1464.118219</td>\n",
       "      <td>1.356059e+09</td>\n",
       "    </tr>\n",
       "  </tbody>\n",
       "</table>\n",
       "</div>"
      ],
      "text/plain": [
       "                   A             Ea          Fobj\n",
       "count  250000.000000  250000.000000  2.500000e+05\n",
       "mean     8582.073177     757.059110  2.312313e+08\n",
       "std      4959.006770     409.038845  2.311818e+08\n",
       "min        10.000000      50.000000  1.436868e+05\n",
       "25%      4296.036589     403.529555  3.934195e+07\n",
       "50%      8582.073177     757.059110  1.562935e+08\n",
       "75%     12868.109766    1110.588664  3.685480e+08\n",
       "max     17154.146355    1464.118219  1.356059e+09"
      ]
     },
     "execution_count": 57,
     "metadata": {},
     "output_type": "execute_result"
    }
   ],
   "source": [
    "RC.describe()"
   ]
  },
  {
   "cell_type": "code",
   "execution_count": null,
   "metadata": {
    "ExecuteTime": {
     "start_time": "2021-11-10T21:02:46.009Z"
    }
   },
   "outputs": [],
   "source": [
    "for i in range(nparams):\n",
    "    if RC['Fobj'][i] > rhs:\n",
    "        RC = RC.drop(i) # deletar essa linha do DataFrame\n",
    "RC = RC.reset_index(drop=True)"
   ]
  },
  {
   "cell_type": "code",
   "execution_count": null,
   "metadata": {
    "ExecuteTime": {
     "start_time": "2021-11-10T21:02:46.490Z"
    }
   },
   "outputs": [],
   "source": [
    "plt.scatter(RC['A'],RC['Ea'],s = 30, c = 'black',alpha = 0.15)\n",
    "plt.scatter(res.x[0],res.x[1],s = 15, c = 'red')\n",
    "#plt.xlim([9027,9029])\n",
    "#plt.ylim([700,800])\n",
    "plt.show()"
   ]
  },
  {
   "cell_type": "markdown",
   "metadata": {},
   "source": [
    "# Atividade"
   ]
  },
  {
   "cell_type": "markdown",
   "metadata": {},
   "source": [
    "- Refazer o notebook considerando grau de confiança igual a 99 %."
   ]
  }
 ],
 "metadata": {
  "kernelspec": {
   "display_name": "Python 3",
   "language": "python",
   "name": "python3"
  },
  "language_info": {
   "codemirror_mode": {
    "name": "ipython",
    "version": 3
   },
   "file_extension": ".py",
   "mimetype": "text/x-python",
   "name": "python",
   "nbconvert_exporter": "python",
   "pygments_lexer": "ipython3",
   "version": "3.7.6"
  },
  "toc": {
   "base_numbering": 1,
   "nav_menu": {},
   "number_sections": true,
   "sideBar": true,
   "skip_h1_title": false,
   "title_cell": "Table of Contents",
   "title_sidebar": "Contents",
   "toc_cell": false,
   "toc_position": {},
   "toc_section_display": true,
   "toc_window_display": true
  }
 },
 "nbformat": 4,
 "nbformat_minor": 4
}
