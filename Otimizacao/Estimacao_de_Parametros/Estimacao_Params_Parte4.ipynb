{
 "cells": [
  {
   "cell_type": "markdown",
   "metadata": {},
   "source": [
    "# Importação de bibliotecas"
   ]
  },
  {
   "cell_type": "code",
   "execution_count": 1,
   "metadata": {
    "ExecuteTime": {
     "end_time": "2021-11-10T21:03:18.688702Z",
     "start_time": "2021-11-10T21:03:14.852697Z"
    }
   },
   "outputs": [],
   "source": [
    "import numpy as np # criação e manipulação de vetores\n",
    "import matplotlib.pyplot as plt # graficos\n",
    "import pandas as pd # read csv file\n",
    "from scipy.optimize import minimize\n",
    "from sklearn.metrics import r2_score"
   ]
  },
  {
   "cell_type": "markdown",
   "metadata": {},
   "source": [
    "# Formatação para gráficos"
   ]
  },
  {
   "cell_type": "code",
   "execution_count": 2,
   "metadata": {
    "ExecuteTime": {
     "end_time": "2021-11-10T21:03:18.696400Z",
     "start_time": "2021-11-10T21:03:18.691724Z"
    }
   },
   "outputs": [],
   "source": [
    "ft = 16\n",
    "plt.rcParams.update({'font.size':ft})\n",
    "ft2 = 20"
   ]
  },
  {
   "cell_type": "markdown",
   "metadata": {},
   "source": [
    "# Leitura de base de dados"
   ]
  },
  {
   "cell_type": "code",
   "execution_count": 3,
   "metadata": {
    "ExecuteTime": {
     "end_time": "2021-11-10T21:03:19.281829Z",
     "start_time": "2021-11-10T21:03:18.702388Z"
    }
   },
   "outputs": [],
   "source": [
    "df = pd.read_excel('data.xlsx')"
   ]
  },
  {
   "cell_type": "code",
   "execution_count": 4,
   "metadata": {
    "ExecuteTime": {
     "end_time": "2021-11-10T21:03:19.329513Z",
     "start_time": "2021-11-10T21:03:19.287598Z"
    }
   },
   "outputs": [
    {
     "data": {
      "text/html": [
       "<div>\n",
       "<style scoped>\n",
       "    .dataframe tbody tr th:only-of-type {\n",
       "        vertical-align: middle;\n",
       "    }\n",
       "\n",
       "    .dataframe tbody tr th {\n",
       "        vertical-align: top;\n",
       "    }\n",
       "\n",
       "    .dataframe thead th {\n",
       "        text-align: right;\n",
       "    }\n",
       "</style>\n",
       "<table border=\"1\" class=\"dataframe\">\n",
       "  <thead>\n",
       "    <tr style=\"text-align: right;\">\n",
       "      <th></th>\n",
       "      <th>T</th>\n",
       "      <th>k</th>\n",
       "    </tr>\n",
       "  </thead>\n",
       "  <tbody>\n",
       "    <tr>\n",
       "      <th>0</th>\n",
       "      <td>300</td>\n",
       "      <td>6706</td>\n",
       "    </tr>\n",
       "    <tr>\n",
       "      <th>1</th>\n",
       "      <td>298</td>\n",
       "      <td>6698</td>\n",
       "    </tr>\n",
       "    <tr>\n",
       "      <th>2</th>\n",
       "      <td>330</td>\n",
       "      <td>6657</td>\n",
       "    </tr>\n",
       "    <tr>\n",
       "      <th>3</th>\n",
       "      <td>349</td>\n",
       "      <td>6880</td>\n",
       "    </tr>\n",
       "    <tr>\n",
       "      <th>4</th>\n",
       "      <td>364</td>\n",
       "      <td>6791</td>\n",
       "    </tr>\n",
       "  </tbody>\n",
       "</table>\n",
       "</div>"
      ],
      "text/plain": [
       "     T     k\n",
       "0  300  6706\n",
       "1  298  6698\n",
       "2  330  6657\n",
       "3  349  6880\n",
       "4  364  6791"
      ]
     },
     "execution_count": 4,
     "metadata": {},
     "output_type": "execute_result"
    }
   ],
   "source": [
    "df.head()"
   ]
  },
  {
   "cell_type": "markdown",
   "metadata": {},
   "source": [
    "Nosso modelo:"
   ]
  },
  {
   "cell_type": "markdown",
   "metadata": {},
   "source": [
    "$$\n",
    "k(T) = A\\cdot e^{-\\frac{E_a}{RT}}\n",
    "$$"
   ]
  },
  {
   "cell_type": "code",
   "execution_count": 5,
   "metadata": {
    "ExecuteTime": {
     "end_time": "2021-11-10T21:03:20.562747Z",
     "start_time": "2021-11-10T21:03:20.558571Z"
    }
   },
   "outputs": [],
   "source": [
    "R = 8.31451"
   ]
  },
  {
   "cell_type": "markdown",
   "metadata": {},
   "source": [
    "# Apresentação do problema a ser resolvido"
   ]
  },
  {
   "cell_type": "markdown",
   "metadata": {},
   "source": [
    "Ajuste os dados a um sistema linear de primeira ordem estimando $E_a$ e $A$. Determine os intervalos de confiança de $95 \\%$ e $99 \\%$ para os parâmetros."
   ]
  },
  {
   "cell_type": "markdown",
   "metadata": {},
   "source": [
    "# Aplicação do método de otimização"
   ]
  },
  {
   "cell_type": "code",
   "execution_count": 6,
   "metadata": {
    "ExecuteTime": {
     "end_time": "2021-11-10T21:03:24.807687Z",
     "start_time": "2021-11-10T21:03:24.802268Z"
    }
   },
   "outputs": [],
   "source": [
    "modelo = lambda k1,k2,Temp: k1*np.exp(-k2/(R*Temp))"
   ]
  },
  {
   "cell_type": "code",
   "execution_count": 7,
   "metadata": {
    "ExecuteTime": {
     "end_time": "2021-11-10T21:04:04.379908Z",
     "start_time": "2021-11-10T21:04:04.334769Z"
    }
   },
   "outputs": [],
   "source": [
    "def Fobj(par):\n",
    "    dftemp = df.copy()\n",
    "    dftemp['km'] = modelo(par[0],par[1],dftemp['T']) # km = k modelo\n",
    "    dftemp['error'] = (dftemp['k'] - dftemp['km'])**2\n",
    "    SSE = dftemp['error'].sum() # residual sum of squares\n",
    "    return SSE"
   ]
  },
  {
   "cell_type": "code",
   "execution_count": 8,
   "metadata": {
    "ExecuteTime": {
     "end_time": "2021-11-10T21:04:07.117294Z",
     "start_time": "2021-11-10T21:04:05.952464Z"
    }
   },
   "outputs": [
    {
     "name": "stdout",
     "output_type": "stream",
     "text": [
      "Warning: Desired error not necessarily achieved due to precision loss.\n",
      "         Current function value: 143607.435782\n",
      "         Iterations: 22\n",
      "         Function evaluations: 209\n",
      "         Gradient evaluations: 66\n"
     ]
    }
   ],
   "source": [
    "x0 = [200,100] # na ordem: A e Ea\n",
    "res = minimize(Fobj, x0, method='BFGS',options={'disp': True})"
   ]
  },
  {
   "cell_type": "code",
   "execution_count": 9,
   "metadata": {
    "ExecuteTime": {
     "end_time": "2021-11-10T21:04:07.158152Z",
     "start_time": "2021-11-10T21:04:07.121532Z"
    },
    "scrolled": false
   },
   "outputs": [
    {
     "data": {
      "text/plain": [
       "array([9028.49808157,  770.5885364 ])"
      ]
     },
     "execution_count": 9,
     "metadata": {},
     "output_type": "execute_result"
    }
   ],
   "source": [
    "res.x"
   ]
  },
  {
   "cell_type": "code",
   "execution_count": 10,
   "metadata": {
    "ExecuteTime": {
     "end_time": "2021-11-10T21:04:08.174972Z",
     "start_time": "2021-11-10T21:04:08.153339Z"
    }
   },
   "outputs": [],
   "source": [
    "df['km'] = modelo(res.x[0],res.x[1],df['T'])"
   ]
  },
  {
   "cell_type": "code",
   "execution_count": 11,
   "metadata": {
    "ExecuteTime": {
     "end_time": "2021-11-10T21:04:12.225932Z",
     "start_time": "2021-11-10T21:04:12.202964Z"
    }
   },
   "outputs": [
    {
     "data": {
      "text/html": [
       "<div>\n",
       "<style scoped>\n",
       "    .dataframe tbody tr th:only-of-type {\n",
       "        vertical-align: middle;\n",
       "    }\n",
       "\n",
       "    .dataframe tbody tr th {\n",
       "        vertical-align: top;\n",
       "    }\n",
       "\n",
       "    .dataframe thead th {\n",
       "        text-align: right;\n",
       "    }\n",
       "</style>\n",
       "<table border=\"1\" class=\"dataframe\">\n",
       "  <thead>\n",
       "    <tr style=\"text-align: right;\">\n",
       "      <th></th>\n",
       "      <th>T</th>\n",
       "      <th>k</th>\n",
       "      <th>km</th>\n",
       "    </tr>\n",
       "  </thead>\n",
       "  <tbody>\n",
       "    <tr>\n",
       "      <th>0</th>\n",
       "      <td>300</td>\n",
       "      <td>6706</td>\n",
       "      <td>6628.992257</td>\n",
       "    </tr>\n",
       "    <tr>\n",
       "      <th>1</th>\n",
       "      <td>298</td>\n",
       "      <td>6698</td>\n",
       "      <td>6615.262093</td>\n",
       "    </tr>\n",
       "    <tr>\n",
       "      <th>2</th>\n",
       "      <td>330</td>\n",
       "      <td>6657</td>\n",
       "      <td>6817.805423</td>\n",
       "    </tr>\n",
       "    <tr>\n",
       "      <th>3</th>\n",
       "      <td>349</td>\n",
       "      <td>6880</td>\n",
       "      <td>6922.848897</td>\n",
       "    </tr>\n",
       "    <tr>\n",
       "      <th>4</th>\n",
       "      <td>364</td>\n",
       "      <td>6791</td>\n",
       "      <td>6999.024109</td>\n",
       "    </tr>\n",
       "  </tbody>\n",
       "</table>\n",
       "</div>"
      ],
      "text/plain": [
       "     T     k           km\n",
       "0  300  6706  6628.992257\n",
       "1  298  6698  6615.262093\n",
       "2  330  6657  6817.805423\n",
       "3  349  6880  6922.848897\n",
       "4  364  6791  6999.024109"
      ]
     },
     "execution_count": 11,
     "metadata": {},
     "output_type": "execute_result"
    }
   ],
   "source": [
    "df.head()"
   ]
  },
  {
   "cell_type": "code",
   "execution_count": 12,
   "metadata": {
    "ExecuteTime": {
     "end_time": "2021-11-10T21:04:16.323776Z",
     "start_time": "2021-11-10T21:04:16.300928Z"
    }
   },
   "outputs": [],
   "source": [
    "SSE = res.fun\n",
    "N = df['T'].index[-1]+1\n",
    "MSE = SSE/N\n",
    "RMSE = MSE**0.5\n",
    "R2 = r2_score(df['k'],df['km'])"
   ]
  },
  {
   "cell_type": "code",
   "execution_count": 13,
   "metadata": {
    "ExecuteTime": {
     "end_time": "2021-11-10T21:04:16.962417Z",
     "start_time": "2021-11-10T21:04:16.952372Z"
    }
   },
   "outputs": [],
   "source": [
    "result = pd.DataFrame({'SSE':[res.fun],\n",
    "             'MSE':[MSE],\n",
    "              'RMSE':[RMSE],\n",
    "              'R2':[R2],\n",
    "             'A':[res.x[0]],\n",
    "             'Ea':[res.x[1]],\n",
    "             '$N_{it}$':[res.nit],\n",
    "             '$N_{fun_{eval}}$':[res.nfev]},\n",
    "             index = ['BFGS']).T"
   ]
  },
  {
   "cell_type": "code",
   "execution_count": 14,
   "metadata": {
    "ExecuteTime": {
     "end_time": "2021-11-10T21:04:17.943476Z",
     "start_time": "2021-11-10T21:04:17.921134Z"
    }
   },
   "outputs": [
    {
     "data": {
      "text/html": [
       "<div>\n",
       "<style scoped>\n",
       "    .dataframe tbody tr th:only-of-type {\n",
       "        vertical-align: middle;\n",
       "    }\n",
       "\n",
       "    .dataframe tbody tr th {\n",
       "        vertical-align: top;\n",
       "    }\n",
       "\n",
       "    .dataframe thead th {\n",
       "        text-align: right;\n",
       "    }\n",
       "</style>\n",
       "<table border=\"1\" class=\"dataframe\">\n",
       "  <thead>\n",
       "    <tr style=\"text-align: right;\">\n",
       "      <th></th>\n",
       "      <th>BFGS</th>\n",
       "    </tr>\n",
       "  </thead>\n",
       "  <tbody>\n",
       "    <tr>\n",
       "      <th>SSE</th>\n",
       "      <td>143607.435782</td>\n",
       "    </tr>\n",
       "    <tr>\n",
       "      <th>MSE</th>\n",
       "      <td>10257.673984</td>\n",
       "    </tr>\n",
       "    <tr>\n",
       "      <th>RMSE</th>\n",
       "      <td>101.280176</td>\n",
       "    </tr>\n",
       "    <tr>\n",
       "      <th>R2</th>\n",
       "      <td>0.847643</td>\n",
       "    </tr>\n",
       "    <tr>\n",
       "      <th>A</th>\n",
       "      <td>9028.498082</td>\n",
       "    </tr>\n",
       "    <tr>\n",
       "      <th>Ea</th>\n",
       "      <td>770.588536</td>\n",
       "    </tr>\n",
       "    <tr>\n",
       "      <th>$N_{it}$</th>\n",
       "      <td>22.000000</td>\n",
       "    </tr>\n",
       "    <tr>\n",
       "      <th>$N_{fun_{eval}}$</th>\n",
       "      <td>209.000000</td>\n",
       "    </tr>\n",
       "  </tbody>\n",
       "</table>\n",
       "</div>"
      ],
      "text/plain": [
       "                           BFGS\n",
       "SSE               143607.435782\n",
       "MSE                10257.673984\n",
       "RMSE                 101.280176\n",
       "R2                     0.847643\n",
       "A                   9028.498082\n",
       "Ea                   770.588536\n",
       "$N_{it}$              22.000000\n",
       "$N_{fun_{eval}}$     209.000000"
      ]
     },
     "execution_count": 14,
     "metadata": {},
     "output_type": "execute_result"
    }
   ],
   "source": [
    "result"
   ]
  },
  {
   "cell_type": "markdown",
   "metadata": {},
   "source": [
    "# Visualização gráfica dos resultados"
   ]
  },
  {
   "cell_type": "code",
   "execution_count": 15,
   "metadata": {
    "ExecuteTime": {
     "end_time": "2021-11-10T21:04:23.182489Z",
     "start_time": "2021-11-10T21:04:21.491802Z"
    }
   },
   "outputs": [
    {
     "data": {
      "image/png": "[encoded data removed]",
      "text/plain": [
       "<Figure size 432x288 with 1 Axes>"
      ]
     },
     "metadata": {
      "needs_background": "light"
     },
     "output_type": "display_data"
    }
   ],
   "source": [
    "color1 = 'blue'\n",
    "plt.xlabel('Original Data',fontsize = ft2)\n",
    "plt.ylabel('Predicted Data',fontsize = ft2)\n",
    "plt.scatter(df['k'],df['km'],c = color1,marker = 'o',s = 25)\n",
    "color2 = 'grey'\n",
    "plt.plot([6000,8000],[6000,8000],c=color2,linestyle='--')\n",
    "plt.xlim([6500,7500])\n",
    "plt.ylim([6500,7500])\n",
    "plt.savefig('finalplot.png',format='png',dpi = 600,bbox_inches = 'tight')\n",
    "plt.show()"
   ]
  },
  {
   "cell_type": "code",
   "execution_count": 16,
   "metadata": {
    "ExecuteTime": {
     "end_time": "2021-11-10T21:04:27.563504Z",
     "start_time": "2021-11-10T21:04:24.539834Z"
    },
    "scrolled": true
   },
   "outputs": [
    {
     "data": {
      "image/png": "[encoded data removed]",
      "text/plain": [
       "<Figure size 648x360 with 1 Axes>"
      ]
     },
     "metadata": {
      "needs_background": "light"
     },
     "output_type": "display_data"
    }
   ],
   "source": [
    "plt.figure(figsize=(9,5))\n",
    "color1 = 'blue'\n",
    "plt.xlabel('T ($K$)',fontsize = ft2)\n",
    "plt.ylabel('k(T)',fontsize = ft2)\n",
    "plt.scatter(df['T'],df['k'],c = color1,marker = 'o',s = 15,label = 'Original Data')\n",
    "color2 = 'red'\n",
    "plt.plot(df['T'],df['km'],c=color2, label = 'Predicted Data')\n",
    "plt.legend(frameon = False,fontsize = ft2)\n",
    "plt.savefig('finalplot2.png',format='png',dpi = 600,bbox_inches = 'tight')\n",
    "plt.show()"
   ]
  },
  {
   "cell_type": "markdown",
   "metadata": {},
   "source": [
    "# F-teste & Região de Confiança"
   ]
  },
  {
   "cell_type": "code",
   "execution_count": 17,
   "metadata": {
    "ExecuteTime": {
     "end_time": "2021-11-10T21:04:32.512996Z",
     "start_time": "2021-11-10T21:04:32.496566Z"
    }
   },
   "outputs": [],
   "source": [
    "from scipy import stats   #Pacote de funcoes estatisticas "
   ]
  },
  {
   "cell_type": "markdown",
   "metadata": {},
   "source": [
    "$$\n",
    "S(\\theta)  \\leq \\left[ \\frac{p}{n-p} F(\\alpha,p,n-p)\\right]S(\\theta^*) + S(\\theta^*)\n",
    "$$"
   ]
  },
  {
   "cell_type": "code",
   "execution_count": 18,
   "metadata": {
    "ExecuteTime": {
     "end_time": "2021-11-10T21:04:35.728546Z",
     "start_time": "2021-11-10T21:04:35.718240Z"
    }
   },
   "outputs": [],
   "source": [
    "def RCfun(par):\n",
    "    global RC\n",
    "    dftemp = df.copy()\n",
    "    dftemp['km'] = modelo(par[0],par[1],dftemp['T']) # km = k modelo\n",
    "    dftemp['error'] = (dftemp['k'] - dftemp['km'])**2\n",
    "    SSE = dftemp['error'].sum() # residual sum of squares\n",
    "    RC = RC.append({'A':par[0],'Ea':par[1],'Fobj':SSE}, ignore_index=True)"
   ]
  },
  {
   "cell_type": "code",
   "execution_count": null,
   "metadata": {},
   "outputs": [],
   "source": [
    "fotm = SSE\n",
    "p = len(x0) # number of parameters\n",
    "n = N # number of data points\n",
    "α = 0.95 # alpha, confidence interval\n",
    "F_fisher = stats.f.ppf(α, p, (n-p))\n",
    "rhs = p/(n-p)*F_fisher*fotm + fotm # right hand side of the last equation\n",
    "\n",
    "nn = 100\n",
    "perc = 0.9\n",
    "k1 = np.linspace(-res.x[0]*perc+res.x[0],res.x[0]*perc+res.x[0],nn)\n",
    "k2 = np.linspace(-res.x[1]*perc+res.x[1],res.x[1]*perc+res.x[1],nn)\n",
    "\n",
    "global RC\n",
    "RC = pd.DataFrame()\n",
    "for i in range(nn):\n",
    "    for j in range(nn):\n",
    "        RCfun([k1[i],k2[j]])\n",
    "    print(i)"
   ]
  },
  {
   "cell_type": "code",
   "execution_count": null,
   "metadata": {},
   "outputs": [],
   "source": [
    "nparams = RC.index[-1]+1\n",
    "for i in range(nparams):\n",
    "    if RC['Fobj'][i] > rhs:\n",
    "        RC = RC.drop(i) # deletar essa linha do DataFrame\n",
    "RC = RC.reset_index(drop=True)"
   ]
  },
  {
   "cell_type": "code",
   "execution_count": null,
   "metadata": {},
   "outputs": [],
   "source": [
    "plt.scatter(RC['A'],RC['Ea'],s = 50, c = 'black',alpha = 0.1)\n",
    "plt.scatter(res.x[0],res.x[1],s = 15, c = 'red')\n",
    "plt.xlabel('A')\n",
    "plt.ylabel(\"$E_a$\")\n",
    "#plt.xlim([9027,9029])\n",
    "#plt.ylim([700,800])\n",
    "plt.show()"
   ]
  },
  {
   "cell_type": "markdown",
   "metadata": {},
   "source": []
  }
 ],
 "metadata": {
  "kernelspec": {
   "display_name": "Python 3",
   "language": "python",
   "name": "python3"
  },
  "language_info": {
   "codemirror_mode": {
    "name": "ipython",
    "version": 3
   },
   "file_extension": ".py",
   "mimetype": "text/x-python",
   "name": "python",
   "nbconvert_exporter": "python",
   "pygments_lexer": "ipython3",
   "version": "3.7.6"
  },
  "toc": {
   "base_numbering": 1,
   "nav_menu": {},
   "number_sections": true,
   "sideBar": true,
   "skip_h1_title": false,
   "title_cell": "Table of Contents",
   "title_sidebar": "Contents",
   "toc_cell": false,
   "toc_position": {},
   "toc_section_display": true,
   "toc_window_display": true
  }
 },
 "nbformat": 4,
 "nbformat_minor": 4
}
