{
  "nbformat": 4,
  "nbformat_minor": 0,
  "metadata": {
    "colab": {
      "name": "BalancoMassaNivelTanque.ipynb",
      "provenance": [],
      "toc_visible": true,
      "collapsed_sections": []
    },
    "kernelspec": {
      "name": "python3",
      "display_name": "Python 3"
    },
    "language_info": {
      "name": "python"
    }
  },
  "cells": [
    {
      "cell_type": "markdown",
      "source": [
        "# Simulação do monitoramento do nível de um tanque"
      ],
      "metadata": {
        "id": "nQvP38X_Gqrc"
      }
    },
    {
      "cell_type": "markdown",
      "source": [
        "<center><img src=\"https://github.com/amandalemette/ENG1818/blob/807a9c42ab7a4d99244f913fbb78b96d0c0a2251/Imagens/Picture1.png?raw=true\"  width=500 height=325 /><center>\n"
      ],
      "metadata": {
        "id": "dIRtEiZSCBis"
      }
    },
    {
      "cell_type": "markdown",
      "source": [
        "1. O gás se comporta como gás ideal. A quantidade de mols de gás dentro do tanque permanece constante $m_g/M$.\n",
        "2. A operação é isotérmica\n",
        "3. Uma relação de raíz quadrado explica a passagem do fluido através da válvula: $q = C_v\\cdot f(L)\\cdot \\sqrt{\\frac{\\Delta P_v}{g_s}}$, onde $g_s$ é a gravidade específica do fluido. "
      ],
      "metadata": {
        "id": "9dVl0-x8E6Zv"
      }
    },
    {
      "cell_type": "markdown",
      "source": [
        "$$\n",
        "\\frac{dm}{dt} = \\dot{m}_{in} - \\dot{m}_{out}\n",
        "$$"
      ],
      "metadata": {
        "id": "e6VEgy1PFfMw"
      }
    },
    {
      "cell_type": "markdown",
      "source": [
        "$$\n",
        "\\frac{d(m_L + m_G)}{dt} = \\dot{m}_{in} - \\dot{m}_{out}\n",
        "$$"
      ],
      "metadata": {
        "id": "3tcxsKANHFEB"
      }
    },
    {
      "cell_type": "markdown",
      "source": [
        "Assumindo a densidade do líquido constante, temos:\n",
        "$$\n",
        "\\frac{d(m_L + m_G)}{dt} = \\rho q_{in} - \\rho q_{out}\n",
        "$$"
      ],
      "metadata": {
        "id": "4m5mzsOgHM_W"
      }
    },
    {
      "cell_type": "markdown",
      "source": [
        "Como a massa do gás é constante, temos:\n",
        "$$\n",
        "\\frac{d(\\rho A h  + m_G)}{dt} = \\frac{d(\\rho A h)}{dt}  +\\frac{d m_G}{dt} = \\frac{d(\\rho A h)}{dt} =\\rho (q_{in} - q_{out})\n",
        "$$"
      ],
      "metadata": {
        "id": "wjFYZdCSHhhm"
      }
    },
    {
      "cell_type": "markdown",
      "source": [
        "$$\n",
        "\\frac{d( A h)}{dt} =q_{in} - q_{out}\n",
        "$$"
      ],
      "metadata": {
        "id": "e7bR4jFLIWbX"
      }
    },
    {
      "cell_type": "markdown",
      "source": [
        "Como a área do nosso tanque é constante:\n",
        "$$\n",
        "\\frac{dh}{dt} =\\frac{1}{A} (q_{in} - q_{out})\n",
        "$$"
      ],
      "metadata": {
        "id": "gZuCP7y3If-0"
      }
    },
    {
      "cell_type": "markdown",
      "source": [
        "Voltando as nossas atenções para $q_{out}$...\n",
        "$$\n",
        "q_{out} = C_v\\cdot f(L)\\cdot \\sqrt{\\Delta P_v}\n",
        "$$\n",
        "\n",
        "$$\n",
        "\\Delta P_v = P_g + \\rho gh - P_a\n",
        "$$\n",
        "\n",
        "$$\n",
        "C_v\\cdot f(L) \\approx K\n",
        "$$\n",
        "\n"
      ],
      "metadata": {
        "id": "SykDNnyDQFM-"
      }
    },
    {
      "cell_type": "markdown",
      "source": [
        "$$\n",
        "q_{out} = K \\sqrt{P_g + \\rho gh - P_a}\n",
        "$$\n"
      ],
      "metadata": {
        "id": "r0Lcy55lQs1R"
      }
    },
    {
      "cell_type": "markdown",
      "source": [
        "$$\n",
        "q_{out} = K \\sqrt{\\frac{nRT}{V_g} + \\rho g h - P_a} = K \\sqrt{\\frac{\\left( m_G/MW_g\\right)RT}{A(H-h)} + \\rho gh - P_a} \n",
        "$$\n"
      ],
      "metadata": {
        "id": "NcebsH91QzWK"
      }
    },
    {
      "cell_type": "markdown",
      "source": [
        "$$\n",
        "\\frac{dh}{dt} =\\frac{1}{A} \\left[ q_{in} - K \\sqrt{\\frac{\\left( m_G/MW_g\\right)RT}{A(H-h)} + \\rho gh - P_a} \\right]\n",
        "$$"
      ],
      "metadata": {
        "id": "rQVQkAtgRkLf"
      }
    },
    {
      "cell_type": "markdown",
      "source": [
        "Vamos implementar a simulação do monitoramento do nível do tanque setando o valor da constante $K$ e considerando os parâmetros da próxima célula. \n",
        "\n",
        "Faça várias simulações para valores diferentes de $K$. Analise os resultados. "
      ],
      "metadata": {
        "id": "ULOYEoTpHcdc"
      }
    },
    {
      "cell_type": "code",
      "source": [
        "A = 15 # m2\n",
        "qin = 20 # m3/s\n",
        "rho = 1000 #kg/m3\n",
        "mg = 0.005 # kg\n",
        "MWg = 18.97*1e-3 # kg/mol --> air \n",
        "R = 8.314 # kg⋅m2⋅s−2⋅K−1⋅mol−1\n",
        "T = 30 # K\n",
        "H = 20 #m\n",
        "h = 13 #m\n",
        "g = 9.8 # m/s2\n",
        "Pa = 101325 #Pa = kg⋅m−1⋅s−2"
      ],
      "metadata": {
        "id": "BSQwcz7LHBsb"
      },
      "execution_count": null,
      "outputs": []
    },
    {
      "cell_type": "code",
      "source": [
        ""
      ],
      "metadata": {
        "id": "lRCfDe0ubdFt"
      },
      "execution_count": null,
      "outputs": []
    }
  ]
}